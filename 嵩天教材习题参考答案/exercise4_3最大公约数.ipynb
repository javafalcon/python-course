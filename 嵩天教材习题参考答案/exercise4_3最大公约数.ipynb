{
 "cells": [
  {
   "cell_type": "code",
   "execution_count": 2,
   "metadata": {},
   "outputs": [
    {
     "name": "stdout",
     "output_type": "stream",
     "text": [
      "请输入两个整数，中间用逗号隔开：24,36\n",
      "24和36最大公约数是：12， 最小公倍数是72.0\n"
     ]
    }
   ],
   "source": [
    "n1, n2 = eval(input('请输入两个整数，中间用逗号隔开：'))\n",
    "x, y = n1, n2\n",
    "r = x % y\n",
    "while r > 0:\n",
    "    x = y\n",
    "    y = r\n",
    "    r = x % y\n",
    "\n",
    "print('{}和{}最大公约数是：{}， 最小公倍数是：{}'.format(n1, n2, y, n1 * n2 / y))"
   ]
  }
 ],
 "metadata": {
  "kernelspec": {
   "display_name": "Python 3",
   "language": "python",
   "name": "python3"
  },
  "language_info": {
   "codemirror_mode": {
    "name": "ipython",
    "version": 3
   },
   "file_extension": ".py",
   "mimetype": "text/x-python",
   "name": "python",
   "nbconvert_exporter": "python",
   "pygments_lexer": "ipython3",
   "version": "3.6.3"
  }
 },
 "nbformat": 4,
 "nbformat_minor": 2
}
