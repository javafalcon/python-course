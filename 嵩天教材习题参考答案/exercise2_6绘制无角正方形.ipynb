{
 "cells": [
  {
   "cell_type": "code",
   "execution_count": null,
   "metadata": {
    "collapsed": true
   },
   "outputs": [],
   "source": [
    "import turtle\n",
    "turtle.setup(400,400,40,40)\n",
    "theta = 270 \n",
    "turtle.penup()\n",
    "for i in range(4):\n",
    "    turtle.seth(theta)\n",
    "    turtle.fd(10)\n",
    "    turtle.pendown()\n",
    "    turtle.fd(40)\n",
    "    turtle.penup()\n",
    "    turtle.fd(10)\n",
    "    theta = theta + 90"
   ]
  },
  {
   "cell_type": "code",
   "execution_count": null,
   "metadata": {
    "collapsed": true
   },
   "outputs": [],
   "source": []
  }
 ],
 "metadata": {
  "kernelspec": {
   "display_name": "Python 3",
   "language": "python",
   "name": "python3"
  },
  "language_info": {
   "codemirror_mode": {
    "name": "ipython",
    "version": 3
   },
   "file_extension": ".py",
   "mimetype": "text/x-python",
   "name": "python",
   "nbconvert_exporter": "python",
   "pygments_lexer": "ipython3",
   "version": "3.6.3"
  }
 },
 "nbformat": 4,
 "nbformat_minor": 2
}
