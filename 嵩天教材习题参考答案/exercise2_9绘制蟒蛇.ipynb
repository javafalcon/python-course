{
 "cells": [
  {
   "cell_type": "code",
   "execution_count": null,
   "metadata": {
    "collapsed": true
   },
   "outputs": [],
   "source": [
    "import turtle\n",
    "turtle.setup(650, 350, 200, 200)\n",
    "turtle.penup()\n",
    "turtle.fd(-250)\n",
    "turtle.pendown()\n",
    "turtle.pensize(45)\n",
    "turtle.pencolor(\"purple\")\n",
    "turtle.seth(-40)\n",
    "for i in range( 4):\n",
    "    turtle.circle(40, 80)\n",
    "    turtle.circle(-40, 80)\n",
    "turtle.circle(40, 80/ 2)\n",
    "turtle.fd(40)\n",
    "turtle.circle(16, 180)\n",
    "turtle.fd(40 *  2/ 3)"
   ]
  },
  {
   "cell_type": "code",
   "execution_count": null,
   "metadata": {
    "collapsed": true
   },
   "outputs": [],
   "source": []
  }
 ],
 "metadata": {
  "kernelspec": {
   "display_name": "Python 3",
   "language": "python",
   "name": "python3"
  },
  "language_info": {
   "codemirror_mode": {
    "name": "ipython",
    "version": 3
   },
   "file_extension": ".py",
   "mimetype": "text/x-python",
   "name": "python",
   "nbconvert_exporter": "python",
   "pygments_lexer": "ipython3",
   "version": "3.6.3"
  }
 },
 "nbformat": 4,
 "nbformat_minor": 2
}
