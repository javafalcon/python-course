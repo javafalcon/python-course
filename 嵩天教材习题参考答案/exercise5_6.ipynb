{
 "cells": [
  {
   "cell_type": "code",
   "execution_count": 1,
   "metadata": {},
   "outputs": [
    {
     "data": {
      "text/plain": [
       "'1973-02-04'"
      ]
     },
     "execution_count": 1,
     "metadata": {},
     "output_type": "execute_result"
    }
   ],
   "source": [
    "from datetime import datetime\n",
    "birthday = datetime(1973,2,4)\n",
    "birthday.strftime(\"%Y-%m-%d\")\n",
    "birthday.strftime('%b %d, %Y')\n",
    "birthday.strftime('%d %B %Y')\n",
    "birthday.strftime('%Y/%m/%d')\n",
    "birthday.strftime('%m/%d/%Y')\n",
    "birthday.strftime('%A/%Y/%m/%d')"
   ]
  },
  {
   "cell_type": "code",
   "execution_count": 7,
   "metadata": {},
   "outputs": [
    {
     "data": {
      "text/plain": [
       "'Sunday/1973/02/04'"
      ]
     },
     "execution_count": 7,
     "metadata": {},
     "output_type": "execute_result"
    }
   ],
   "source": [
    "birthday.strftime('%b %d, %Y')\n",
    "birthday.strftime('%d %B %Y')\n",
    "birthday.strftime('%Y/%m/%d')\n",
    "birthday.strftime('%m/%d/%Y')\n",
    "birthday.strftime('%A/%Y/%m/%d')"
   ]
  }
 ],
 "metadata": {
  "kernelspec": {
   "display_name": "Python 3",
   "language": "python",
   "name": "python3"
  },
  "language_info": {
   "codemirror_mode": {
    "name": "ipython",
    "version": 3
   },
   "file_extension": ".py",
   "mimetype": "text/x-python",
   "name": "python",
   "nbconvert_exporter": "python",
   "pygments_lexer": "ipython3",
   "version": "3.6.4"
  }
 },
 "nbformat": 4,
 "nbformat_minor": 2
}
