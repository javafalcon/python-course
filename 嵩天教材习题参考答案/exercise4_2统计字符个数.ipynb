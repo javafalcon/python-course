{
 "cells": [
  {
   "cell_type": "code",
   "execution_count": 1,
   "metadata": {},
   "outputs": [
    {
     "name": "stdout",
     "output_type": "stream",
     "text": [
      "请输入一行字符No one can make you feel inferior without your conset\n",
      "有44个英文字符，0个数字，9个空格和0个其它字符\n"
     ]
    }
   ],
   "source": [
    "n_alphabet = 0\n",
    "n_number = 0\n",
    "n_space = 0\n",
    "n_other = 0\n",
    "s = input('请输入一行字符')\n",
    "\n",
    "for c in s:\n",
    "    if 'A' <= c <= 'Z' or 'a' <= c <= 'z':\n",
    "        n_alphabet += 1\n",
    "    elif '0' <= c <= '9':\n",
    "        n_number += 1\n",
    "    elif c == ' ':\n",
    "        n_space += 1\n",
    "    else:\n",
    "        n_other += 1\n",
    "\n",
    "print('有{0}个英文字符，{1}个数字，{2}个空格和{3}个其它字符'.format(n_alphabet, n_number, n_space, n_other))"
   ]
  }
 ],
 "metadata": {
  "kernelspec": {
   "display_name": "Python 3",
   "language": "python",
   "name": "python3"
  },
  "language_info": {
   "codemirror_mode": {
    "name": "ipython",
    "version": 3
   },
   "file_extension": ".py",
   "mimetype": "text/x-python",
   "name": "python",
   "nbconvert_exporter": "python",
   "pygments_lexer": "ipython3",
   "version": "3.6.3"
  }
 },
 "nbformat": 4,
 "nbformat_minor": 2
}
