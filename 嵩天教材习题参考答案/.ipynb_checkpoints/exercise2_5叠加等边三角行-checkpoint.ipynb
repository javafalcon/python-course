{
 "cells": [
  {
   "cell_type": "code",
   "execution_count": null,
   "metadata": {
    "collapsed": true
   },
   "outputs": [],
   "source": [
    "import turtle"
   ]
  },
  {
   "cell_type": "code",
   "execution_count": null,
   "metadata": {
    "collapsed": true
   },
   "outputs": [],
   "source": [
    "import turtle as t\n",
    "t.setup(600,400,100,100)\n",
    "t.seth(240)\n",
    "t.fd(100)\n",
    "t.left()\n",
    "turtle.fd(100)\n",
    "turtle.seth(0)\n",
    "turtle.fd(100)\n",
    "turtle.seth(240)\n",
    "turtle.fd(100)\n",
    "turtle.seth(0)\n",
    "turtle.fd(100)\n",
    "turtle.seth(120)\n",
    "turtle.fd(200)\n",
    "turtle.seth(240)\n",
    "turtle.fd(200)\n",
    "turtle.done()"
   ]
  },
  {
   "cell_type": "code",
   "execution_count": null,
   "metadata": {},
   "outputs": [],
   "source": [
    "import turtle\n",
    "import math\n",
    "def drawTriangle(edge, theta, increment):\n",
    "    for i in range(3):\n",
    "        turtle.seth(theta)\n",
    "        turtle.fd(edge)\n",
    "        theta = theta + increment\n",
    "turtle.setup(600,400)\n",
    "px = -150\n",
    "py = 0\n",
    "turtle.penup()\n",
    "turtle.setx(px)\n",
    "turtle.sety(py)\n",
    "turtle.pendown()\n",
    "drawTriangle(200,0,120)\n",
    "\n",
    "turtle.penup()\n",
    "turtle.setx(px + 50)\n",
    "turtle.sety(100 * math.sin(math.pi / 3))\n",
    "turtle.pendown()\n",
    "drawTriangle(100, 0, 240)\n",
    "turtle.done()"
   ]
  },
  {
   "cell_type": "code",
   "execution_count": null,
   "metadata": {
    "collapsed": true
   },
   "outputs": [],
   "source": []
  }
 ],
 "metadata": {
  "kernelspec": {
   "display_name": "Python 3",
   "language": "python",
   "name": "python3"
  },
  "language_info": {
   "codemirror_mode": {
    "name": "ipython",
    "version": 3
   },
   "file_extension": ".py",
   "mimetype": "text/x-python",
   "name": "python",
   "nbconvert_exporter": "python",
   "pygments_lexer": "ipython3",
   "version": "3.6.5"
  },
  "toc": {
   "base_numbering": 1,
   "nav_menu": {},
   "number_sections": true,
   "sideBar": true,
   "skip_h1_title": false,
   "title_cell": "Table of Contents",
   "title_sidebar": "Contents",
   "toc_cell": false,
   "toc_position": {},
   "toc_section_display": true,
   "toc_window_display": false
  }
 },
 "nbformat": 4,
 "nbformat_minor": 2
}
