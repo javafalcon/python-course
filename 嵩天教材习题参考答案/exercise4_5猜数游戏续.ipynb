{
 "cells": [
  {
   "cell_type": "code",
   "execution_count": null,
   "metadata": {},
   "outputs": [],
   "source": [
    "from random import *\n",
    "seed(0)\n",
    "p = randint(0,100)\n",
    "count = 0;\n",
    "while True:\n",
    "    n = eval(input('请输入一个0-100之间的整数：'))\n",
    "          \n",
    "    if not isinstance(n, int):\n",
    "        print('你输入的不是整数。')\n",
    "        break\n",
    "     \n",
    "    count += 1\n",
    "    if n > p:\n",
    "        print('遗憾，太大了')\n",
    "    elif n == p:\n",
    "        print('预测{}次，你猜中了！'.format(count))\n",
    "        break\n",
    "    else:\n",
    "        print('遗憾，太小了')\n",
    "        "
   ]
  },
  {
   "cell_type": "code",
   "execution_count": null,
   "metadata": {},
   "outputs": [],
   "source": [
    "from random import *\n",
    "seed(0)\n",
    "p = randint(0,100)\n",
    "count = 0;\n",
    "while True:\n",
    "    n = eval(input('请输入一个0-100之间的整数：'))\n",
    "          \n",
    "    if not isinstance(n, int):\n",
    "        print('输入的内容必须是整数。')\n",
    "        continue\n",
    "     \n",
    "    count += 1\n",
    "    if n > p:\n",
    "        print('遗憾，太大了')\n",
    "    elif n == p:\n",
    "        print('预测{}次，你猜中了！'.format(count))\n",
    "        break\n",
    "    else:\n",
    "        print('遗憾，太小了')"
   ]
  },
  {
   "cell_type": "code",
   "execution_count": 1,
   "metadata": {},
   "outputs": [
    {
     "name": "stdout",
     "output_type": "stream",
     "text": [
      "请输入一个0-100之间的整数：4a\n",
      "输入错误！\n"
     ]
    }
   ],
   "source": [
    "from random import *\n",
    "seed(0)\n",
    "p = randint(0,100)\n",
    "count = 0;\n",
    "while True:\n",
    "    try:\n",
    "        n = int(input('请输入一个0-100之间的整数：'))\n",
    "    except:\n",
    "        print(\"输入错误！\")\n",
    "        break\n",
    "        \n",
    "    count += 1\n",
    "    if n > p:\n",
    "        print('遗憾，太大了')\n",
    "    elif n == p:\n",
    "        print('预测{}次，你猜中了！'.format(count))\n",
    "        break\n",
    "    else:\n",
    "        print('遗憾，太小了')"
   ]
  },
  {
   "cell_type": "code",
   "execution_count": 2,
   "metadata": {},
   "outputs": [
    {
     "name": "stdout",
     "output_type": "stream",
     "text": [
      "请输入一个0-100之间的整数：4=7\n",
      "输入错误，请输入一个整数！\n",
      "请输入一个0-100之间的整数：4+7\n",
      "输入错误，请输入一个整数！\n",
      "请输入一个0-100之间的整数：a\n",
      "输入错误，请输入一个整数！\n",
      "请输入一个0-100之间的整数：2.3\n",
      "输入错误，请输入一个整数！\n",
      "请输入一个0-100之间的整数：4+6j\n",
      "输入错误，请输入一个整数！\n",
      "请输入一个0-100之间的整数：87\n",
      "遗憾，太大了\n",
      "请输入一个0-100之间的整数：44\n",
      "遗憾，太小了\n",
      "请输入一个0-100之间的整数：60\n",
      "遗憾，太大了\n",
      "请输入一个0-100之间的整数：52\n",
      "遗憾，太大了\n",
      "请输入一个0-100之间的整数：48\n",
      "遗憾，太小了\n",
      "请输入一个0-100之间的整数：50\n",
      "遗憾，太大了\n",
      "请输入一个0-100之间的整数：49\n",
      "预测7次，你猜中了！\n"
     ]
    }
   ],
   "source": [
    "from random import *\n",
    "seed(0)\n",
    "p = randint(0,100)\n",
    "count = 0;\n",
    "while True:\n",
    "    try:\n",
    "        n = int(input('请输入一个0-100之间的整数：'))\n",
    "    except:\n",
    "        print(\"输入错误，请输入一个整数！\")\n",
    "        continue\n",
    "        \n",
    "    count += 1\n",
    "    if n > p:\n",
    "        print('遗憾，太大了')\n",
    "    elif n == p:\n",
    "        print('预测{}次，你猜中了！'.format(count))\n",
    "        break\n",
    "    else:\n",
    "        print('遗憾，太小了')"
   ]
  },
  {
   "cell_type": "code",
   "execution_count": null,
   "metadata": {},
   "outputs": [],
   "source": []
  }
 ],
 "metadata": {
  "kernelspec": {
   "display_name": "Python 3",
   "language": "python",
   "name": "python3"
  },
  "language_info": {
   "codemirror_mode": {
    "name": "ipython",
    "version": 3
   },
   "file_extension": ".py",
   "mimetype": "text/x-python",
   "name": "python",
   "nbconvert_exporter": "python",
   "pygments_lexer": "ipython3",
   "version": "3.6.5"
  }
 },
 "nbformat": 4,
 "nbformat_minor": 2
}
