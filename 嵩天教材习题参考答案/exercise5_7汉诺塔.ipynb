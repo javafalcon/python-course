{
 "cells": [
  {
   "cell_type": "code",
   "execution_count": null,
   "metadata": {},
   "outputs": [],
   "source": [
    "# n个圆盘由a柱移动到c柱，借助b柱\n",
    "def hanoi(a,b,c,n):\n",
    "    if n == 1:\n",
    "        print(a + \"-->\" + c)\n",
    "    else:\n",
    "        hanoi(a,c,b,n-1)\n",
    "        hanoi(a,b,c,1)\n",
    "        hanoi(b,a,c,n-1)\n",
    "        \n",
    "        \n",
    "hanoi('a','b','c',3)"
   ]
  },
  {
   "cell_type": "code",
   "execution_count": null,
   "metadata": {},
   "outputs": [],
   "source": [
    "# n个圆盘由a柱移动到c柱，借助b柱\n",
    "\n",
    "def hanoi(a,b,c,p):\n",
    "    if len(p) == 1:\n",
    "        print(\"圆盘{}:{}-->{}\".format( str(p[0]), a, c))\n",
    "    else:\n",
    "        hanoi(a,c,b,p[0:-1])\n",
    "        hanoi(a,b,c,[p[-1]])\n",
    "        hanoi(b,a,c,p[0:-1])\n",
    "        \n",
    "p = range(1,5)        \n",
    "hanoi('a','b','c',p)"
   ]
  }
 ],
 "metadata": {
  "kernelspec": {
   "display_name": "Python 3",
   "language": "python",
   "name": "python3"
  },
  "language_info": {
   "codemirror_mode": {
    "name": "ipython",
    "version": 3
   },
   "file_extension": ".py",
   "mimetype": "text/x-python",
   "name": "python",
   "nbconvert_exporter": "python",
   "pygments_lexer": "ipython3",
   "version": "3.6.4"
  }
 },
 "nbformat": 4,
 "nbformat_minor": 2
}
