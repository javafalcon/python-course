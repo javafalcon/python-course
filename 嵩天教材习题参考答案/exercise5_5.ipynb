{
 "cells": [
  {
   "cell_type": "code",
   "execution_count": 1,
   "metadata": {},
   "outputs": [
    {
     "name": "stdout",
     "output_type": "stream",
     "text": [
      "Enter an Integer: 2.5\n",
      "Please enter an Integer: \n",
      "Enter an Integer: 6\n",
      "6 is not prime.\n",
      "Enter an Integer: -1\n"
     ]
    }
   ],
   "source": [
    "def isPrime(n):\n",
    "    for i in range(2,n):\n",
    "        if n%i == 0:\n",
    "            return False\n",
    "    return True\n",
    "\n",
    "\n",
    "# 输入-1程序结束\n",
    "while True:\n",
    "    try:\n",
    "        n = eval(input(\"Enter an Integer: \"))\n",
    "    except:\n",
    "        print(\"Enter error! Please enter again: \")\n",
    "        continue\n",
    "    \n",
    "    if type(n) is not int:\n",
    "        print(\"Please enter an Integer: \")\n",
    "        continue\n",
    "    \n",
    "    if n == -1:\n",
    "        break\n",
    "        \n",
    "    if isPrime(n):\n",
    "        print(\"{} is prime.\".format(n))\n",
    "    else:\n",
    "        print(\"{} is not prime.\".format(n))\n",
    "    "
   ]
  },
  {
   "cell_type": "code",
   "execution_count": null,
   "metadata": {
    "collapsed": true
   },
   "outputs": [],
   "source": []
  }
 ],
 "metadata": {
  "kernelspec": {
   "display_name": "Python 3",
   "language": "python",
   "name": "python3"
  },
  "language_info": {
   "codemirror_mode": {
    "name": "ipython",
    "version": 3
   },
   "file_extension": ".py",
   "mimetype": "text/x-python",
   "name": "python",
   "nbconvert_exporter": "python",
   "pygments_lexer": "ipython3",
   "version": "3.6.4"
  }
 },
 "nbformat": 4,
 "nbformat_minor": 2
}
