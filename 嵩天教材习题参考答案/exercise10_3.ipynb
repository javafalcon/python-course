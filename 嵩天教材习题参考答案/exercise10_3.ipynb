{
 "cells": [
  {
   "cell_type": "code",
   "execution_count": null,
   "metadata": {},
   "outputs": [],
   "source": [
    "from bs4 import BeautifulSoup\n",
    "import requests\n",
    "\n",
    "def getHTML(url):\n",
    "    response = requests.get(url,timeout=30)\n",
    "    response.raise_for_status()\n",
    "    response.encoding='utf-8'\n",
    "    return response.text\n",
    "\n",
    "def findLinks(text):\n",
    "    soup = BeautifulSoup(text, 'html.parser')\n",
    "    title = soup.find_all('li',{'class' : 'base_name'})[0].string\n",
    "    time = soup.find_all('li', {'class' : 'base_pub'})[0].string\n",
    "    info = soup.find_all('li', {'class' : 'base_what'})[0].string\n",
    "    print('{}-{}{}'.format(title,time,info))\n",
    "    series = soup.find_all('a', {'site' : True})\n",
    "    z = 0\n",
    "    print('当前剧集')\n",
    "    for i in series:\n",
    "        print('{:^3}'.format(i.string), end='')\n",
    "        z += 1\n",
    "        if z%6 == 0:\n",
    "            print('\\n')\n",
    "            \n",
    "\n",
    "text = getHTML('http://www.soku.com/detail/show/XNjA4NTI=?spm=a2h0k.8191414.0.0',)\n",
    "findLinks(text)"
   ]
  },
  {
   "cell_type": "code",
   "execution_count": null,
   "metadata": {},
   "outputs": [],
   "source": []
  }
 ],
 "metadata": {
  "kernelspec": {
   "display_name": "Python 3",
   "language": "python",
   "name": "python3"
  },
  "language_info": {
   "codemirror_mode": {
    "name": "ipython",
    "version": 3
   },
   "file_extension": ".py",
   "mimetype": "text/x-python",
   "name": "python",
   "nbconvert_exporter": "python",
   "pygments_lexer": "ipython3",
   "version": "3.6.5"
  },
  "toc": {
   "base_numbering": 1,
   "nav_menu": {},
   "number_sections": true,
   "sideBar": true,
   "skip_h1_title": false,
   "title_cell": "Table of Contents",
   "title_sidebar": "Contents",
   "toc_cell": false,
   "toc_position": {},
   "toc_section_display": true,
   "toc_window_display": false
  }
 },
 "nbformat": 4,
 "nbformat_minor": 2
}
