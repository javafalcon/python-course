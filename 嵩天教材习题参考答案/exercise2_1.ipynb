{
 "cells": [
  {
   "cell_type": "code",
   "execution_count": 4,
   "metadata": {},
   "outputs": [
    {
     "name": "stdout",
     "output_type": "stream",
     "text": [
      "请输入温度体系符号: F\n",
      "请输入温度值: 89\n",
      "转换后的温度是:32C\n"
     ]
    }
   ],
   "source": [
    "SymbolStr = input(\"请输入温度体系符号: \")\n",
    "if SymbolStr in ['F', 'f']:\n",
    "    t = eval(input(\"请输入温度值: \"))\n",
    "    C = (t - 32) / 1.8\n",
    "    print(\"转换后的温度是:{:.0f}C\".format(C))\n",
    "elif SymbolStr in ['C', 'c']:\n",
    "    t = eval(input(\"请输入温度值: \"))\n",
    "    F = t * 1.8 + 32\n",
    "    print(\"转换后的温度是:{:.0f}F\".format(F))\n",
    "else:\n",
    "    print(\"输入符号错误\")"
   ]
  },
  {
   "cell_type": "code",
   "execution_count": null,
   "metadata": {
    "collapsed": true
   },
   "outputs": [],
   "source": []
  }
 ],
 "metadata": {
  "kernelspec": {
   "display_name": "Python 3",
   "language": "python",
   "name": "python3"
  },
  "language_info": {
   "codemirror_mode": {
    "name": "ipython",
    "version": 3
   },
   "file_extension": ".py",
   "mimetype": "text/x-python",
   "name": "python",
   "nbconvert_exporter": "python",
   "pygments_lexer": "ipython3",
   "version": "3.6.3"
  }
 },
 "nbformat": 4,
 "nbformat_minor": 2
}
