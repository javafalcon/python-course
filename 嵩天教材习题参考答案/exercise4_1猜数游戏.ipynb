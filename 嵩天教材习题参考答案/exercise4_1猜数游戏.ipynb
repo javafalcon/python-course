{
 "cells": [
  {
   "cell_type": "code",
   "execution_count": 3,
   "metadata": {},
   "outputs": [
    {
     "name": "stdout",
     "output_type": "stream",
     "text": [
      "请输入一个0-9之间的整数：6\n",
      "遗憾，太小了\n",
      "请输入一个0-9之间的整数：8\n",
      "遗憾，太大了\n",
      "请输入一个0-9之间的整数：7\n",
      "预测3次，你猜中了！\n"
     ]
    }
   ],
   "source": [
    "p = 7\n",
    "count = 0;\n",
    "while True:\n",
    "    n = eval(input('请输入一个0-9之间的整数：'))\n",
    "    count += 1\n",
    "    if n > p:\n",
    "        print('遗憾，太大了')\n",
    "    elif n == p:\n",
    "        print('预测{}次，你猜中了！'.format(count))\n",
    "        break\n",
    "    else:\n",
    "        print('遗憾，太小了')\n",
    "        "
   ]
  },
  {
   "cell_type": "code",
   "execution_count": null,
   "metadata": {
    "collapsed": true
   },
   "outputs": [],
   "source": []
  }
 ],
 "metadata": {
  "kernelspec": {
   "display_name": "Python 3",
   "language": "python",
   "name": "python3"
  },
  "language_info": {
   "codemirror_mode": {
    "name": "ipython",
    "version": 3
   },
   "file_extension": ".py",
   "mimetype": "text/x-python",
   "name": "python",
   "nbconvert_exporter": "python",
   "pygments_lexer": "ipython3",
   "version": "3.6.3"
  }
 },
 "nbformat": 4,
 "nbformat_minor": 2
}
