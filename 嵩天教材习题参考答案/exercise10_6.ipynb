{
 "cells": [
  {
   "cell_type": "code",
   "execution_count": null,
   "metadata": {},
   "outputs": [],
   "source": [
    "import requests\n",
    "import json\n",
    "import re\n",
    "import os\n",
    "index = 1"
   ]
  },
  {
   "cell_type": "code",
   "execution_count": null,
   "metadata": {},
   "outputs": [],
   "source": [
    "def downloadImageFile(imgUrl, destUrl, fname=''):\n",
    "    local_filename = imgUrl.split('/')[-1]\n",
    "    print('Download Image File={}'.format(local_filename))\n",
    "    try:\n",
    "        r = requests.get(imgUrl, stream=True)\n",
    "        r.raise_for_status()\n",
    "\n",
    "        if len(fname) == 0:\n",
    "            fname = local_filename\n",
    "        print('fname={}'.format(fname))\n",
    "        with open(destUrl + \"/\" + fname, 'wb') as f:\n",
    "            for chunk in r.iter_content(chunk_size=1024):\n",
    "                if chunk:\n",
    "                    f.write(chunk)\n",
    "                    f.flush()\n",
    "            f.close()\n",
    "        return r.status_code\n",
    "    except:\n",
    "        return r.status_code"
   ]
  },
  {
   "cell_type": "code",
   "execution_count": null,
   "metadata": {},
   "outputs": [],
   "source": [
    "def download(urls,path):\n",
    "    global index\n",
    "    for url in urls:\n",
    "        print(\"Download Image from page:{}\".format(url))\n",
    "        status = downloadImageFile(url,path,str(index)+\".jpg\")\n",
    "        try:\n",
    "            if str(status)[0] == '4':\n",
    "                print(\"未下载成功{}\".format(url))\n",
    "                continue\n",
    "        except Exception as e:\n",
    "            print(\"未下载成功{}\".format(url))\n",
    "        index += 1"
   ]
  },
  {
   "cell_type": "code",
   "execution_count": null,
   "metadata": {},
   "outputs": [],
   "source": [
    "page = 'https://image.baidu.com/search/acjson?tn=resultjson_com&ipn=rj'\\\n",
    "       '&ct=201326592&is=&fp=result&queryWord=杨幂&cl=&lm=&hd=&latest='\\\n",
    "       '&copyright=&ie=utf-8&oe=utf-8&adpicid=&st=&z=&ic='\\\n",
    "       '&word=杨幂&s=&se=&tab=&width=&height=&face=&istype='\\\n",
    "       '&qc=&nc=&fr=&pn=30&rn=30&gsm=1e&1545721051065='\n",
    "try:\n",
    "    rsp = requests.get(page,timeout=10)\n",
    "    rsp.raise_for_status()\n",
    "except:\n",
    "    print('对不起，百度图片访问失败！程序退出')\n",
    "    \n",
    "imgdata=json.loads(rsp.text)\n",
    "imgs = imgdata['data']"
   ]
  },
  {
   "cell_type": "code",
   "execution_count": null,
   "metadata": {},
   "outputs": [],
   "source": [
    "urls=[]\n",
    "for im in imgs:\n",
    "    url = im.get('thumbURL')\n",
    "    print(url)\n",
    "    if url is not None:\n",
    "        urls.append(im.get('thumbURL'))   "
   ]
  },
  {
   "cell_type": "code",
   "execution_count": null,
   "metadata": {},
   "outputs": [],
   "source": [
    "download(urls, 'e:/baidupic')"
   ]
  },
  {
   "cell_type": "markdown",
   "metadata": {},
   "source": [
    "# 下载超过30张图片"
   ]
  },
  {
   "cell_type": "code",
   "execution_count": null,
   "metadata": {},
   "outputs": [],
   "source": [
    "pagestr = 'https://image.baidu.com/search/acjson?tn=resultjson_com&ipn=rj'\\\n",
    "       '&ct=201326592&is=&fp=result&queryWord={}&cl=&lm=&hd=&latest='\\\n",
    "       '&copyright=&ie=utf-8&oe=utf-8&adpicid=&st=&z=&ic='\\\n",
    "       '&word={}&s=&se=&tab=&width=&height=&face=&istype='\\\n",
    "       '&qc=&nc=&fr=&pn={}&rn=30&gsm=1e&1545721051065='\n",
    "for i in range(1,6):\n",
    "    page = pagestr.format('杨幂','杨幂',i*30)\n",
    "    print(page)\n",
    "    try:\n",
    "        rsp = requests.get(page,timeout=10)\n",
    "        rsp.raise_for_status()\n",
    "    except:\n",
    "        print('对不起，百度图片访问失败！程序退出')\n",
    "        \n",
    "    imgdata=json.loads(rsp.text)\n",
    "    imgs = imgdata['data']\n",
    "    \n",
    "    urls=[]\n",
    "    for im in imgs:\n",
    "        url = im.get('thumbURL')\n",
    "        if url is not None:\n",
    "            urls.append(url)\n",
    "    download(urls, 'e:/baidupic')    "
   ]
  },
  {
   "cell_type": "code",
   "execution_count": null,
   "metadata": {},
   "outputs": [],
   "source": []
  }
 ],
 "metadata": {
  "kernelspec": {
   "display_name": "Python 3",
   "language": "python",
   "name": "python3"
  },
  "language_info": {
   "codemirror_mode": {
    "name": "ipython",
    "version": 3
   },
   "file_extension": ".py",
   "mimetype": "text/x-python",
   "name": "python",
   "nbconvert_exporter": "python",
   "pygments_lexer": "ipython3",
   "version": "3.6.5"
  },
  "toc": {
   "base_numbering": 1,
   "nav_menu": {},
   "number_sections": true,
   "sideBar": true,
   "skip_h1_title": false,
   "title_cell": "Table of Contents",
   "title_sidebar": "Contents",
   "toc_cell": false,
   "toc_position": {},
   "toc_section_display": true,
   "toc_window_display": false
  }
 },
 "nbformat": 4,
 "nbformat_minor": 2
}
