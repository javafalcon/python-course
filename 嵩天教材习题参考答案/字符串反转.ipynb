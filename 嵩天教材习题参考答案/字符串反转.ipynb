{
 "cells": [
  {
   "cell_type": "code",
   "execution_count": 4,
   "metadata": {},
   "outputs": [
    {
     "name": "stdout",
     "output_type": "stream",
     "text": [
      "请输入一个字符串： a1b2c\n",
      "c2b1a\n"
     ]
    }
   ],
   "source": [
    "# 方法一\n",
    "# 以最后一个字符+前面子串的反转\n",
    "def reverse(s):\n",
    "    if len(s) == 1:\n",
    "        return s\n",
    "    else:\n",
    "        return s[-1] + reverse(s[0:-1])\n",
    "\n",
    "str = input(\"请输入一个字符串： \")\n",
    "print( reverse(str))"
   ]
  },
  {
   "cell_type": "code",
   "execution_count": 5,
   "metadata": {},
   "outputs": [
    {
     "name": "stdout",
     "output_type": "stream",
     "text": [
      "请输入一个字符串： a1b2c3d4\n",
      "4d3c2b1a\n"
     ]
    }
   ],
   "source": [
    "# 方法二\n",
    "# 字符串从中间位置分为前后两个子串，然后分别对两个子串反转，再连接在一起\n",
    "def reverse(s):\n",
    "    n = len(s)\n",
    "    if n == 1:\n",
    "        return s\n",
    "    else:\n",
    "        return reverse(s[n//2:]) + reverse(s[0:n//2])\n",
    "    \n",
    "str = input(\"请输入一个字符串： \")\n",
    "print( reverse(str))"
   ]
  }
 ],
 "metadata": {
  "kernelspec": {
   "display_name": "Python 3",
   "language": "python",
   "name": "python3"
  },
  "language_info": {
   "codemirror_mode": {
    "name": "ipython",
    "version": 3
   },
   "file_extension": ".py",
   "mimetype": "text/x-python",
   "name": "python",
   "nbconvert_exporter": "python",
   "pygments_lexer": "ipython3",
   "version": "3.6.4"
  }
 },
 "nbformat": 4,
 "nbformat_minor": 2
}
