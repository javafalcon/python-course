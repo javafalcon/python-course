{
 "cells": [
  {
   "cell_type": "code",
   "execution_count": null,
   "metadata": {},
   "outputs": [],
   "source": [
    "import turtle\n",
    "import math\n",
    "def drawTriangle(edge, theta, increment):\n",
    "    for i in range(3):\n",
    "        turtle.seth(theta)\n",
    "        turtle.fd(edge)\n",
    "        theta = theta + increment\n",
    "        \n",
    "px = -150\n",
    "py = 0\n",
    "turtle.setup(800, 600)\n",
    "turtle.penup()\n",
    "turtle.setx(px)\n",
    "turtle.sety(py)\n",
    "turtle.pendown()\n",
    "drawTriangle(180, 30, 240)\n",
    "\n",
    "turtle.penup()\n",
    "turtle.setx(px + 60 * math.cos(math.pi / 6))\n",
    "turtle.sety(py - 90)\n",
    "turtle.pendown()\n",
    "drawTriangle(180, 30, 120)"
   ]
  },
  {
   "cell_type": "code",
   "execution_count": null,
   "metadata": {
    "collapsed": true
   },
   "outputs": [],
   "source": []
  }
 ],
 "metadata": {
  "kernelspec": {
   "display_name": "Python 3",
   "language": "python",
   "name": "python3"
  },
  "language_info": {
   "codemirror_mode": {
    "name": "ipython",
    "version": 3
   },
   "file_extension": ".py",
   "mimetype": "text/x-python",
   "name": "python",
   "nbconvert_exporter": "python",
   "pygments_lexer": "ipython3",
   "version": "3.6.3"
  }
 },
 "nbformat": 4,
 "nbformat_minor": 2
}
