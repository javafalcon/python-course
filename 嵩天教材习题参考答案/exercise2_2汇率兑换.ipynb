{
 "cells": [
  {
   "cell_type": "code",
   "execution_count": 1,
   "metadata": {},
   "outputs": [
    {
     "name": "stdout",
     "output_type": "stream",
     "text": [
      "请输入带货币符号的金额(美元$,人民币￥): 789￥\n",
      "789￥ = 131.50$\n"
     ]
    }
   ],
   "source": [
    "exchangeRate = 6\n",
    "currencyStr = input(\"请输入带货币符号的金额(美元$,人民币￥): \")\n",
    "if currencyStr[-1] == \"$\":\n",
    "    d = eval(currencyStr[0:-1])\n",
    "    y = d * exchangeRate\n",
    "    print(\"{}$ = {} ￥\".format(d, y))\n",
    "elif currencyStr[-1] == '￥':\n",
    "    y = eval(currencyStr[0:-1])\n",
    "    d = y / exchangeRate\n",
    "    print(\"{}￥ = {:.2f}$\".format(y, d))\n",
    "else:\n",
    "    print(\"输入有错误\")\n",
    "    "
   ]
  },
  {
   "cell_type": "code",
   "execution_count": null,
   "metadata": {
    "collapsed": true
   },
   "outputs": [],
   "source": []
  }
 ],
 "metadata": {
  "kernelspec": {
   "display_name": "Python 3",
   "language": "python",
   "name": "python3"
  },
  "language_info": {
   "codemirror_mode": {
    "name": "ipython",
    "version": 3
   },
   "file_extension": ".py",
   "mimetype": "text/x-python",
   "name": "python",
   "nbconvert_exporter": "python",
   "pygments_lexer": "ipython3",
   "version": "3.6.3"
  }
 },
 "nbformat": 4,
 "nbformat_minor": 2
}
