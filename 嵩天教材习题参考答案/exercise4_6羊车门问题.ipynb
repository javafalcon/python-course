{
 "cells": [
  {
   "cell_type": "code",
   "execution_count": 9,
   "metadata": {},
   "outputs": [
    {
     "name": "stdout",
     "output_type": "stream",
     "text": [
      "改变选择获胜的概率：0.3333；坚持选择获胜的概率：0.6667\n"
     ]
    }
   ],
   "source": [
    "from random import *\n",
    "N = 1000000\n",
    "sequence = ['车','羊1','羊2']\n",
    "first_guess_count = 0\n",
    "change_guess_count = 0\n",
    "for i in range(N):\n",
    "    guess = choice(sequence)\n",
    "    if guess == '车':\n",
    "        first_guess_count += 1\n",
    "    else:\n",
    "        change_guess_count += 1\n",
    "        \n",
    "print(\"改变选择获胜的概率：{:.4f}；坚持选择获胜的概率：{:.4f}\".format(first_guess_count / N, change_guess_count / N))\n",
    "    "
   ]
  }
 ],
 "metadata": {
  "kernelspec": {
   "display_name": "Python 3",
   "language": "python",
   "name": "python3"
  },
  "language_info": {
   "codemirror_mode": {
    "name": "ipython",
    "version": 3
   },
   "file_extension": ".py",
   "mimetype": "text/x-python",
   "name": "python",
   "nbconvert_exporter": "python",
   "pygments_lexer": "ipython3",
   "version": "3.6.3"
  }
 },
 "nbformat": 4,
 "nbformat_minor": 2
}
