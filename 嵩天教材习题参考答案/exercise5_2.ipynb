{
 "cells": [
  {
   "cell_type": "code",
   "execution_count": null,
   "metadata": {},
   "outputs": [],
   "source": [
    "def isOdd(n):\n",
    "    if n%2 == 1:\n",
    "        return True\n",
    "    else:\n",
    "        return False\n",
    "\n",
    "# 输入-1程序结束运行    \n",
    "while True:\n",
    "    s = input(\"Plese enter an Integer:\")   \n",
    "    if not s.isdigit():\n",
    "        print(\"Please enter again!\")\n",
    "        continue\n",
    "    n = eval(s)\n",
    "    if n == -1:\n",
    "        print(\"program is over!\")\n",
    "        break\n",
    "    if isOdd(n):\n",
    "        print(\"{} is odd\".format(n))\n",
    "    else:\n",
    "        print(\"{} is even\".format(n))"
   ]
  }
 ],
 "metadata": {
  "kernelspec": {
   "display_name": "Python 3",
   "language": "python",
   "name": "python3"
  },
  "language_info": {
   "codemirror_mode": {
    "name": "ipython",
    "version": 3
   },
   "file_extension": ".py",
   "mimetype": "text/x-python",
   "name": "python",
   "nbconvert_exporter": "python",
   "pygments_lexer": "ipython3",
   "version": "3.6.4"
  }
 },
 "nbformat": 4,
 "nbformat_minor": 2
}
