{
 "cells": [
  {
   "cell_type": "markdown",
   "metadata": {
    "toc": true
   },
   "source": [
    "<h1>Table of Contents<span class=\"tocSkip\"></span></h1>\n",
    "<div class=\"toc\"><ul class=\"toc-item\"><li><span><a href=\"#组合数据类型概述\" data-toc-modified-id=\"组合数据类型概述-1\"><span class=\"toc-item-num\">1&nbsp;&nbsp;</span>组合数据类型概述</a></span><ul class=\"toc-item\"><li><span><a href=\"#序列类型\" data-toc-modified-id=\"序列类型-1.1\"><span class=\"toc-item-num\">1.1&nbsp;&nbsp;</span>序列类型</a></span><ul class=\"toc-item\"><li><span><a href=\"#序列通用操作\" data-toc-modified-id=\"序列通用操作-1.1.1\"><span class=\"toc-item-num\">1.1.1&nbsp;&nbsp;</span>序列通用操作</a></span></li><li><span><a href=\"#元祖\" data-toc-modified-id=\"元祖-1.1.2\"><span class=\"toc-item-num\">1.1.2&nbsp;&nbsp;</span>元祖</a></span></li></ul></li><li><span><a href=\"#集合类型\" data-toc-modified-id=\"集合类型-1.2\"><span class=\"toc-item-num\">1.2&nbsp;&nbsp;</span>集合类型</a></span></li><li><span><a href=\"#映射类型\" data-toc-modified-id=\"映射类型-1.3\"><span class=\"toc-item-num\">1.3&nbsp;&nbsp;</span>映射类型</a></span></li></ul></li><li><span><a href=\"#列表类型和操作\" data-toc-modified-id=\"列表类型和操作-2\"><span class=\"toc-item-num\">2&nbsp;&nbsp;</span>列表类型和操作</a></span><ul class=\"toc-item\"><li><span><a href=\"#列表类型的操作\" data-toc-modified-id=\"列表类型的操作-2.1\"><span class=\"toc-item-num\">2.1&nbsp;&nbsp;</span>列表类型的操作</a></span></li></ul></li><li><span><a href=\"#实例9：基本统计值计算\" data-toc-modified-id=\"实例9：基本统计值计算-3\"><span class=\"toc-item-num\">3&nbsp;&nbsp;</span>实例9：基本统计值计算</a></span></li><li><span><a href=\"#字典类型的计算\" data-toc-modified-id=\"字典类型的计算-4\"><span class=\"toc-item-num\">4&nbsp;&nbsp;</span>字典类型的计算</a></span><ul class=\"toc-item\"><li><span><a href=\"#字典类型的操作\" data-toc-modified-id=\"字典类型的操作-4.1\"><span class=\"toc-item-num\">4.1&nbsp;&nbsp;</span>字典类型的操作</a></span></li></ul></li><li><span><a href=\"#jieba库的概述\" data-toc-modified-id=\"jieba库的概述-5\"><span class=\"toc-item-num\">5&nbsp;&nbsp;</span>jieba库的概述</a></span></li><li><span><a href=\"#文本词频统计\" data-toc-modified-id=\"文本词频统计-6\"><span class=\"toc-item-num\">6&nbsp;&nbsp;</span>文本词频统计</a></span><ul class=\"toc-item\"><li><span><a href=\"#《Hamlet》英文词频统计\" data-toc-modified-id=\"《Hamlet》英文词频统计-6.1\"><span class=\"toc-item-num\">6.1&nbsp;&nbsp;</span>《Hamlet》英文词频统计</a></span></li><li><span><a href=\"#《三国演义》人物出场统计\" data-toc-modified-id=\"《三国演义》人物出场统计-6.2\"><span class=\"toc-item-num\">6.2&nbsp;&nbsp;</span>《三国演义》人物出场统计</a></span></li></ul></li><li><span><a href=\"#Python之禅!\" data-toc-modified-id=\"Python之禅!-7\"><span class=\"toc-item-num\">7&nbsp;&nbsp;</span>Python之禅!</a></span></li></ul></div>"
   ]
  },
  {
   "cell_type": "markdown",
   "metadata": {},
   "source": [
    "# 第6章 组合数据类型"
   ]
  },
  {
   "cell_type": "markdown",
   "metadata": {},
   "source": [
    "【学习目标】：\n",
    "1. 了解<font color='red'>3类基本组合</font>数据类型。\n",
    "2. 理解<font color='red'>列表</font>概念，掌握列表的使用。\n",
    "3. 理解<font color='red'>字典</font>概念，掌握字典的使用。\n",
    "4. 运用列表管理、构建数据结构。\n",
    "5. 运用字典处理复杂的数据信息。\n",
    "6. 运用组合数据类型进行<b>文本词频统计。\n"
   ]
  },
  {
   "cell_type": "markdown",
   "metadata": {},
   "source": [
    "## 组合数据类型概述\n",
    "\n",
    "组合数据类型能够将<b><font color='red'>多个同类型或不同类型的数据</font></b>组织起来,通过单一的表示使数据操作更有序、更容易。<p>\n",
    "组合数据类型分3类：<b><font color='red'>序列类型、集合类型</font>和<font color='red'>映射类型</font></b><p>\n",
    "    <li><b><font color='red'>序列类型</font></b>是一个<b>元素向量</b>，元素之间存在<b>先后关系</b>，通过<b>序号访问</b>，元素之间不排它（即<b>元素可以重复</b>）</li>\n",
    "    <li><b><font color='red'>集合类型</font></b>是一个<b>元素集合</b>，元素之间<b>无序</b>，集合中<b>不可以有重复的元素</b>。</li>\n",
    "    <li><b><font color='red'>映射类型</font></b>是<b>“键-值”</b>数据项的组合，每个元素是一个键值对，表示为<b>(key,value)</b>。\n",
    " <p><img src='figs/fig6-1.jpg'/>     "
   ]
  },
  {
   "cell_type": "markdown",
   "metadata": {},
   "source": [
    "### 序列类型"
   ]
  },
  {
   "cell_type": "markdown",
   "metadata": {},
   "source": [
    "序列类型是一维元素向量，元素之间存在先后关系，通过序号访问。<p>\n",
    "当需要访问序列中某特定值时，只需要通过下标标出即可。\n"
   ]
  },
  {
   "cell_type": "markdown",
   "metadata": {},
   "source": [
    "由于元素之间存在顺序关系，所以序列中可以存在相同数值但位置不同的元素。\n",
    "序列类型支持成员关系操作符（in）、长度计算函数（len()）、分片（[]），\n",
    "元素本身也可以是序列类型。\n"
   ]
  },
  {
   "cell_type": "markdown",
   "metadata": {},
   "source": [
    "Python语言中有很多数据类型都是序列类型，其中比较重要的是：<b>str（字符串）、tuple（元组）和list（列表）</b>。\n",
    "<li>元组是包含0个或多个数据项的<b>不可变序列类型。元组生成后是固定的，其中任何数据项不能替换或删除</b>。</li>\n",
    "<li>列表则是一个可以修改数据项的序列类型，使用也最灵活。</b>"
   ]
  },
  {
   "cell_type": "markdown",
   "metadata": {},
   "source": [
    "#### 序列通用操作\n",
    "所有的序列类型使用相同的索引体系：<b>正向递增序号</b>和<b>反向递减序号</b>\n",
    "<p><img src='figs/fig6-2.jpg'/>"
   ]
  },
  {
   "cell_type": "markdown",
   "metadata": {},
   "source": [
    "<div align='center'>序列类型有12个通用操作符和函数</div>\n",
    "<img src='figs/tab6-1.jpg'/>"
   ]
  },
  {
   "cell_type": "markdown",
   "metadata": {},
   "source": [
    "#### 元祖\n",
    "元组（tuple）是序列类型中比较特殊的类型，因为它一旦创建就不能被修改。<br>\n",
    "元组类型在以下4个方面：<br>\n",
    " &nbsp;&nbsp;-<b>表达固定数据项</b><br>\n",
    " &nbsp;&nbsp;-<b>函数多返回值</b><br>\n",
    " &nbsp;&nbsp;-<b>多变量同步赋值</b><br>\n",
    " &nbsp;&nbsp;-<b>循环遍历</b>\n",
    "<br>\n",
    "Python中元组采用逗号和圆括号（可选）来表示。"
   ]
  },
  {
   "cell_type": "code",
   "execution_count": null,
   "metadata": {},
   "outputs": [],
   "source": [
    "creature = \"cat\", \"dog\", \"tiger\", \"human\""
   ]
  },
  {
   "cell_type": "code",
   "execution_count": null,
   "metadata": {},
   "outputs": [],
   "source": [
    "creature"
   ]
  },
  {
   "cell_type": "code",
   "execution_count": null,
   "metadata": {},
   "outputs": [],
   "source": [
    "color = (\"red\", 0x001100, \"blue\", creature)"
   ]
  },
  {
   "cell_type": "code",
   "execution_count": null,
   "metadata": {},
   "outputs": [],
   "source": [
    "color"
   ]
  },
  {
   "cell_type": "code",
   "execution_count": null,
   "metadata": {},
   "outputs": [],
   "source": [
    "color[2]"
   ]
  },
  {
   "cell_type": "code",
   "execution_count": null,
   "metadata": {},
   "outputs": [],
   "source": [
    "color[-1][2]"
   ]
  },
  {
   "cell_type": "code",
   "execution_count": null,
   "metadata": {},
   "outputs": [],
   "source": [
    "def func(x):  #函数多返回值\n",
    "    return x, x**3"
   ]
  },
  {
   "cell_type": "code",
   "execution_count": null,
   "metadata": {},
   "outputs": [],
   "source": [
    "a, b = 'dog', 'tiger'  #多变量同步赋值"
   ]
  },
  {
   "cell_type": "code",
   "execution_count": null,
   "metadata": {},
   "outputs": [],
   "source": [
    "import math\n",
    "for x, y in ((1,0), (2,5), (3,8)):  #循环遍历\n",
    "    print(math.hypot(x,y))          #求多个坐标值到原点的距离"
   ]
  },
  {
   "cell_type": "markdown",
   "metadata": {},
   "source": [
    "### 集合类型"
   ]
  },
  {
   "cell_type": "markdown",
   "metadata": {},
   "source": [
    "1.集合类型与数学中集合的概念一致，即包含0个或多个数据项的<b>无序组合</b>。<br>\n",
    "2.集合中<b>元素不可重复。</b><br>\n",
    "3.<b><font color='red'>元素类型只能是固定数据类型</font>，例如：整数、浮点数、字符串、元组等。</b><br>\n",
    "4.<b><font color='blue'>列表、字典和集合类型</font></b>本身都是可变数据类型，<b><font color='red'>不能作为集合的元素</font></b>出现。<br>\n",
    "5.由于集合是无序组合，它<b><font color='red'>没有索引和位置的概念</font></b>，<b><font color='blue'>不能分片。</font></b><br>\n",
    "6.集合中元素可以动态增加或删除。<br>\n",
    "7.集合用大括号（{}）表示，可以用赋值语句生成一个集合。<br>"
   ]
  },
  {
   "cell_type": "code",
   "execution_count": null,
   "metadata": {},
   "outputs": [],
   "source": [
    "S = {425, \"BIT\", (10, \"CS\"), 424}\n",
    "S"
   ]
  },
  {
   "cell_type": "code",
   "execution_count": null,
   "metadata": {},
   "outputs": [],
   "source": [
    "T = {425, \"BIT\", (10, \"CS\"), 424, 425, \"BIT\"}\n",
    "T"
   ]
  },
  {
   "cell_type": "code",
   "execution_count": null,
   "metadata": {},
   "outputs": [],
   "source": [
    "W = set('apple')\n",
    "W"
   ]
  },
  {
   "cell_type": "code",
   "execution_count": null,
   "metadata": {},
   "outputs": [],
   "source": [
    "V = set((\"cat\", \"dog\", \"tiger\", \"human\"))\n",
    "V"
   ]
  },
  {
   "cell_type": "markdown",
   "metadata": {},
   "source": [
    "<div align='center'>集合类型操作符（共10个）</div>\n",
    "<img src='figs/tab6-2.jpg'/>"
   ]
  },
  {
   "cell_type": "markdown",
   "metadata": {},
   "source": [
    "以上操作表达了集合的4种操作：交、并、差、补\n",
    "<img src='figs/fig6-3.jpg'/>"
   ]
  },
  {
   "cell_type": "markdown",
   "metadata": {},
   "source": [
    "<div align='center'>集合操作类型的操作函数（共10个）</div>\n",
    "<img src='figs/tab6-3.jpg'/>"
   ]
  },
  {
   "cell_type": "markdown",
   "metadata": {},
   "source": [
    "集合类型主要用于三个场景：<b>\n",
    "<li>成员关系测试</li>\n",
    "<li>元素去重</li>\n",
    "<li>删除数据项</li></b>"
   ]
  },
  {
   "cell_type": "code",
   "execution_count": null,
   "metadata": {},
   "outputs": [],
   "source": [
    "\"BIT\" in {\"PYTHON\", \"BIT\", 123, \"GOOD\"} #成员关系测试"
   ]
  },
  {
   "cell_type": "code",
   "execution_count": null,
   "metadata": {},
   "outputs": [],
   "source": [
    "tup = (\"PYTHON\", \"BIT\", 123, \"GOOD\", 123) #元素去重\n",
    "set(tup)"
   ]
  },
  {
   "cell_type": "code",
   "execution_count": null,
   "metadata": {},
   "outputs": [],
   "source": [
    "newtup = tuple(set(tup)-{'PYTHON'}) # 去重同时删除数据项\n",
    "newtup"
   ]
  },
  {
   "cell_type": "markdown",
   "metadata": {},
   "source": [
    "<table><tr>\n",
    "    <td><img src=\"figs/warn.jpg\" width=\"50%\"></td>\n",
    "    <td><div align='left'>\n",
    "        <b><font color='red' size=4>\n",
    "            当需要对一维数据进行去重或进行数据重复处理时，一般通过集合来完成。</font></b></div>\n",
    "     </td>\n",
    "    </tr>\n",
    "</table>"
   ]
  },
  {
   "cell_type": "markdown",
   "metadata": {},
   "source": [
    "### 映射类型"
   ]
  },
  {
   "cell_type": "markdown",
   "metadata": {},
   "source": [
    "映射类型是“键-值”数据项的组合，每个元素是一个<b>键值对</b>，即元素是(key, value)，元素之间是无序的。键值对(key, value)是一种二元关系。在Python中，映射类型主要以<b>字典（dict）体现。</b>"
   ]
  },
  {
   "cell_type": "markdown",
   "metadata": {},
   "source": [
    "## 列表类型和操作"
   ]
  },
  {
   "cell_type": "markdown",
   "metadata": {},
   "source": [
    "列表（list）是包含0个或多个对象引用的有序序列，属于序列类型。<br>\n",
    "与元组不同，列表的长度和内容都是可变的，可自由对列表中数据项进行增加、删除或替换。<br>\n",
    "**列表没有长度限制，元素类型可以不同，使用非常灵活**。<br>"
   ]
  },
  {
   "cell_type": "markdown",
   "metadata": {},
   "source": [
    "- 由于列表属于序列类型，所以列表也支持成员关系操作符（in）、长度计算函数（len()）、分片（[]）。\n",
    "- 列表可以同时使用正向递增序号和反向递减序号，可以采用标准的比较操作符（<、<=、==、!=、>=、>）进行比较，**列表的比较实际上是单个数据项的逐个比较**。"
   ]
  },
  {
   "cell_type": "markdown",
   "metadata": {},
   "source": [
    "- 列表用中括号（[]）表示，也可以通过list()函数将元组或字符串转化成列表。\n",
    "- 直接使用list()函数会返回一个空列表。"
   ]
  },
  {
   "cell_type": "code",
   "execution_count": null,
   "metadata": {},
   "outputs": [],
   "source": [
    "ls = [425, \"BIT\", [10, \"CS\"], 425]\n",
    "ls"
   ]
  },
  {
   "cell_type": "code",
   "execution_count": null,
   "metadata": {},
   "outputs": [],
   "source": [
    "ls[2][-1][0]"
   ]
  },
  {
   "cell_type": "code",
   "execution_count": null,
   "metadata": {},
   "outputs": [],
   "source": [
    "list((425, \"BIT\", [10, \"CS\"], 425))"
   ]
  },
  {
   "cell_type": "code",
   "execution_count": null,
   "metadata": {},
   "outputs": [],
   "source": [
    "list(\"中国是一个伟大的国家\")"
   ]
  },
  {
   "cell_type": "code",
   "execution_count": null,
   "metadata": {},
   "outputs": [],
   "source": [
    "list()"
   ]
  },
  {
   "cell_type": "markdown",
   "metadata": {},
   "source": [
    "**与整数和字符串不同，列表要处理一组数据，因此，列表必须通过显式的数据赋值才能生成，简单将一个列表赋值给另一个列表不会生成新的列表对象**。\n"
   ]
  },
  {
   "cell_type": "code",
   "execution_count": null,
   "metadata": {},
   "outputs": [],
   "source": [
    "ls = [425, \"BIT\", 1024]  #用数据赋值产生列表ls"
   ]
  },
  {
   "cell_type": "code",
   "execution_count": null,
   "metadata": {},
   "outputs": [],
   "source": [
    "lt = ls       #lt是ls所对应数据的引用，lt并不包含真实数据"
   ]
  },
  {
   "cell_type": "code",
   "execution_count": null,
   "metadata": {},
   "outputs": [],
   "source": [
    "ls[0] = 0     "
   ]
  },
  {
   "cell_type": "code",
   "execution_count": null,
   "metadata": {},
   "outputs": [],
   "source": [
    "lt"
   ]
  },
  {
   "cell_type": "markdown",
   "metadata": {},
   "source": [
    "![figs/fig6-5.jpg](figs/fig6-5.jpg)"
   ]
  },
  {
   "cell_type": "markdown",
   "metadata": {},
   "source": [
    "### 列表类型的操作\n",
    "![Table6-4](figs/tab6-4.jpg)"
   ]
  },
  {
   "cell_type": "code",
   "execution_count": null,
   "metadata": {},
   "outputs": [],
   "source": [
    "vlist = list(range(5))"
   ]
  },
  {
   "cell_type": "code",
   "execution_count": null,
   "metadata": {},
   "outputs": [],
   "source": [
    "vlist"
   ]
  },
  {
   "cell_type": "code",
   "execution_count": null,
   "metadata": {},
   "outputs": [],
   "source": [
    "len(vlist[2:])      #计算从第3个位置开始到结尾的子串长度"
   ]
  },
  {
   "cell_type": "code",
   "execution_count": null,
   "metadata": {},
   "outputs": [],
   "source": [
    "2 in vlist           #判断2是否在列表vlist中"
   ]
  },
  {
   "cell_type": "code",
   "execution_count": null,
   "metadata": {},
   "outputs": [],
   "source": [
    "vlist[3]=\"python\"   #修改序号3的元素值和类型"
   ]
  },
  {
   "cell_type": "code",
   "execution_count": null,
   "metadata": {},
   "outputs": [],
   "source": [
    "vlist "
   ]
  },
  {
   "cell_type": "code",
   "execution_count": null,
   "metadata": {},
   "outputs": [],
   "source": [
    "vlist[1:3]=[\"bit\", \"computer\"] "
   ]
  },
  {
   "cell_type": "code",
   "execution_count": null,
   "metadata": {},
   "outputs": [],
   "source": [
    "vlist"
   ]
  },
  {
   "cell_type": "markdown",
   "metadata": {},
   "source": [
    "**当使用一个列表改变另一个列表值时，Python不要求两个列表长度一样，但遵循“多增少减”的原则**。"
   ]
  },
  {
   "cell_type": "code",
   "execution_count": null,
   "metadata": {},
   "outputs": [],
   "source": [
    "vlist[1:3]=[\"new_bit\", \"new_computer\", 123]\n",
    "vlist"
   ]
  },
  {
   "cell_type": "code",
   "execution_count": null,
   "metadata": {},
   "outputs": [],
   "source": [
    "vlist[1:3]=[\"fewer\"]\n",
    "vlist"
   ]
  },
  {
   "cell_type": "markdown",
   "metadata": {},
   "source": [
    "**列表可以通过for…in语句对其元素进行遍历，基本语法结构如下：  **\n",
    "\n",
    "<b>for \t<任意变量名>  in  <列表名>:  \n",
    " 　　　语句块</b>\n",
    "    "
   ]
  },
  {
   "cell_type": "code",
   "execution_count": null,
   "metadata": {},
   "outputs": [],
   "source": [
    "for e in vlist:\n",
    "         print(e, end=\" \")"
   ]
  },
  {
   "cell_type": "markdown",
   "metadata": {},
   "source": [
    "<table><tr><td>![注](figs/warn.jpg)</td><td><div  align='left' ><b><font color='red' size=4>列表是一个十分灵活的数据结构，它具有处理任意长度、混合类型的能力，并提供了丰富的基础操作符和方法。当程序需要使用组合数据类型管理批量数据时，请尽量使用列表类型。</font></b></div></td></tr></table>"
   ]
  },
  {
   "cell_type": "markdown",
   "metadata": {},
   "source": [
    "<table align=\"left\">\n",
    "    <tr>\n",
    "        <td><img src=\"figs/question.jpg\" width=60px hight=60px></td>\n",
    "        <td><font size=4>1.对列表ls=[2,5,7,1,6]分别按升序和降序排列<br>2.比较两个列表ls1=[30,1,2,0]和ls2=[1,21,133]</font></td>\n",
    "    <tr>\n",
    "</table>"
   ]
  },
  {
   "cell_type": "code",
   "execution_count": null,
   "metadata": {},
   "outputs": [],
   "source": [
    "ls=[2,5,7,1,6]"
   ]
  },
  {
   "cell_type": "code",
   "execution_count": 24,
   "metadata": {},
   "outputs": [
    {
     "name": "stdout",
     "output_type": "stream",
     "text": [
      "False\n"
     ]
    }
   ],
   "source": [
    "ls1=[30,1,1,0]\n",
    "ls2=[1,21,133]\n",
    "print(ls1==ls2)"
   ]
  },
  {
   "cell_type": "markdown",
   "metadata": {},
   "source": [
    "## 实例9：基本统计值计算"
   ]
  },
  {
   "cell_type": "markdown",
   "metadata": {},
   "source": [
    "<font size=4>以最简单的统计问题为例，求解一组不定长数据的基本统计值，即平均值、标准差、中位数。</font>"
   ]
  },
  {
   "cell_type": "markdown",
   "metadata": {},
   "source": [
    "<font size=4>一组数据表示为S=s0, s1, …, sn-1，其算术平均值、标准差分别表示为：</font>\n",
    "$$m=\\frac{ \\left( \\sum_{i=0}^{n-1}s_i \\right)}{n}$$\n",
    "$$d=\\sqrt{ \\frac {\\left( \\sum_{i=0}^{n-1} \\left( s_i - m \\right)^2 \\right)}{(n-1)}}$$"
   ]
  },
  {
   "cell_type": "markdown",
   "metadata": {},
   "source": [
    "<font size=4>由于平均数、标准差和中位数是三个不同的计算目标，使用函数方式编写计算程序。<br>\n",
    ". getNum()函数从用户输入获得数据<br>\n",
    ". mean()函数计算平均值<br>\n",
    ". dev()函数计算标准差<br>\n",
    ". median()函数计算中位数<br>\n",
    "</font>"
   ]
  },
  {
   "cell_type": "code",
   "execution_count": null,
   "metadata": {},
   "outputs": [],
   "source": [
    "#e9.1CalStatistics.py\n",
    "from math import sqrt\n",
    "def getNum():       #获取用户不定长输入\n",
    "    nums = []\n",
    "    iNumStr = input(\"请输入数字(直接输入回车退出): \")\n",
    "    while iNumStr != \"\":\n",
    "        nums.append(eval(iNumStr))\n",
    "        iNumStr = input(\"请输入数字(直接输入回车退出): \")\n",
    "    return nums\n",
    "\n",
    "def mean(numbers):  #计算平均值\n",
    "    s = 0.0\n",
    "    for num in numbers:\n",
    "        s = s + num\n",
    "    return s / len(numbers)\n",
    "\n",
    "def dev(numbers, mean): #计算方差\n",
    "    sdev = 0.0\n",
    "    for num in numbers:\n",
    "        sdev = sdev + (num - mean)**2\n",
    "    return sqrt(sdev / (len(numbers)-1))\n",
    "\n",
    "def median(numbers):    #计算中位数\n",
    "    sorted(numbers)\n",
    "    size = len(numbers)\n",
    "    if size % 2 == 0:\n",
    "        med = (numbers[size//2-1] + numbers[size//2])/2\n",
    "    else:\n",
    "        med = numbers[size//2]\n",
    "    return med\n",
    "\n",
    "n =  getNum() #主体函数\n",
    "m =  mean(n)\n",
    "print(\"平均值:{},方差:{:.2},中位数:{}.\".format(m, dev(n,m),median(n)))\n",
    "\n"
   ]
  },
  {
   "cell_type": "markdown",
   "metadata": {},
   "source": [
    "**列表在实现基本数据统计时发挥了重要作用，表现在：**\n",
    "- **列表是一个动态长度的数据结构，可以根据需求增加或减少元素；**\n",
    "- **列表的一系列方法或操作符为计算提供了简单的元素运算手段；**\n",
    "- **列表提供了对每个元素的简单访问方式及所有元素的遍历方式。**"
   ]
  },
  {
   "cell_type": "markdown",
   "metadata": {},
   "source": [
    "## 字典类型的计算"
   ]
  },
  {
   "cell_type": "markdown",
   "metadata": {},
   "source": [
    "通过任意键信息找一组数据的值信息的过程叫映射。Python语言通过字典实现映射。"
   ]
  },
  {
   "cell_type": "markdown",
   "metadata": {},
   "source": [
    "通过大括号{}建立，模式如下：<br>\n",
    "{<键1>:<值1>, <键2>:<值2>, … , <键n>:<值n>}"
   ]
  },
  {
   "cell_type": "code",
   "execution_count": 1,
   "metadata": {},
   "outputs": [
    {
     "data": {
      "text/plain": [
       "{'中国': '北京', '美国': '华盛顿', '法国': '巴黎'}"
      ]
     },
     "execution_count": 1,
     "metadata": {},
     "output_type": "execute_result"
    }
   ],
   "source": [
    "Dcountry={\"中国\":\"北京\", \"美国\":\"华盛顿\", \"法国\":\"巴黎\"}\n",
    "Dcountry"
   ]
  },
  {
   "cell_type": "markdown",
   "metadata": {},
   "source": [
    "注意到：字典打印顺序与创建时的顺序可能有不同。字典是集合类型的延续，各个元素没有顺序之分。"
   ]
  },
  {
   "cell_type": "markdown",
   "metadata": {},
   "source": [
    "字典主要用于查找与特定键相对应的值，方式：<值> = <字典变量>[键]"
   ]
  },
  {
   "cell_type": "code",
   "execution_count": 2,
   "metadata": {},
   "outputs": [
    {
     "data": {
      "text/plain": [
       "'北京'"
      ]
     },
     "execution_count": 2,
     "metadata": {},
     "output_type": "execute_result"
    }
   ],
   "source": [
    "Dcountry['中国']"
   ]
  },
  {
   "cell_type": "code",
   "execution_count": 3,
   "metadata": {},
   "outputs": [
    {
     "name": "stdout",
     "output_type": "stream",
     "text": [
      "{'中国': '大北京', '美国': '华盛顿', '法国': '巴黎'}\n"
     ]
    }
   ],
   "source": [
    "Dcountry[\"中国\"] = \"大北京\"\n",
    "print(Dcountry)"
   ]
  },
  {
   "cell_type": "code",
   "execution_count": 4,
   "metadata": {},
   "outputs": [
    {
     "name": "stdout",
     "output_type": "stream",
     "text": [
      "{'中国': '大北京', '美国': '华盛顿', '法国': '巴黎', '英国': '伦敦'}\n"
     ]
    }
   ],
   "source": [
    "Dcountry[\"英国\"] = \"伦敦\"\n",
    "print(Dcountry)"
   ]
  },
  {
   "cell_type": "code",
   "execution_count": 5,
   "metadata": {},
   "outputs": [],
   "source": [
    "Dp = {}"
   ]
  },
  {
   "cell_type": "code",
   "execution_count": 6,
   "metadata": {},
   "outputs": [
    {
     "name": "stdout",
     "output_type": "stream",
     "text": [
      "{'2^10': 1024}\n"
     ]
    }
   ],
   "source": [
    "Dp['2^10'] = 1024\n",
    "print(Dp)"
   ]
  },
  {
   "cell_type": "markdown",
   "metadata": {},
   "source": [
    "### 字典类型的操作"
   ]
  },
  {
   "cell_type": "markdown",
   "metadata": {},
   "source": [
    "<img src='figs/fig6-6.jpg' />"
   ]
  },
  {
   "cell_type": "code",
   "execution_count": 7,
   "metadata": {},
   "outputs": [
    {
     "data": {
      "text/plain": [
       "dict_keys(['中国', '美国', '法国'])"
      ]
     },
     "execution_count": 7,
     "metadata": {},
     "output_type": "execute_result"
    }
   ],
   "source": [
    "Dcountry={\"中国\":\"北京\", \"美国\":\"华盛顿\", \"法国\":\"巴黎\"}\n",
    "Dcountry.keys()"
   ]
  },
  {
   "cell_type": "code",
   "execution_count": 8,
   "metadata": {},
   "outputs": [
    {
     "data": {
      "text/plain": [
       "['北京', '华盛顿', '巴黎']"
      ]
     },
     "execution_count": 8,
     "metadata": {},
     "output_type": "execute_result"
    }
   ],
   "source": [
    "list(Dcountry.values())"
   ]
  },
  {
   "cell_type": "code",
   "execution_count": 9,
   "metadata": {},
   "outputs": [
    {
     "data": {
      "text/plain": [
       "dict_items([('中国', '北京'), ('美国', '华盛顿'), ('法国', '巴黎')])"
      ]
     },
     "execution_count": 9,
     "metadata": {},
     "output_type": "execute_result"
    }
   ],
   "source": [
    "Dcountry.items()"
   ]
  },
  {
   "cell_type": "code",
   "execution_count": 10,
   "metadata": {},
   "outputs": [
    {
     "data": {
      "text/plain": [
       "True"
      ]
     },
     "execution_count": 10,
     "metadata": {},
     "output_type": "execute_result"
    }
   ],
   "source": [
    "'中国' in Dcountry   #只对键进行判断"
   ]
  },
  {
   "cell_type": "code",
   "execution_count": 11,
   "metadata": {},
   "outputs": [
    {
     "data": {
      "text/plain": [
       "'华盛顿'"
      ]
     },
     "execution_count": 11,
     "metadata": {},
     "output_type": "execute_result"
    }
   ],
   "source": [
    "Dcountry.get('美国', '悉尼') #'美国'在字典中存在"
   ]
  },
  {
   "cell_type": "code",
   "execution_count": 12,
   "metadata": {},
   "outputs": [
    {
     "data": {
      "text/plain": [
       "'悉尼'"
      ]
     },
     "execution_count": 12,
     "metadata": {},
     "output_type": "execute_result"
    }
   ],
   "source": [
    "Dcountry.get('澳大利亚', '悉尼') #'澳大利亚'在字典中不存在'悉尼'"
   ]
  },
  {
   "cell_type": "code",
   "execution_count": 13,
   "metadata": {},
   "outputs": [
    {
     "name": "stdout",
     "output_type": "stream",
     "text": [
      "中国\n",
      "美国\n",
      "法国\n"
     ]
    }
   ],
   "source": [
    "for key in Dcountry:\n",
    "    print(key)"
   ]
  },
  {
   "cell_type": "markdown",
   "metadata": {},
   "source": [
    "字典是实现键值对映射的数据结构，操作的基本原则：<br>\n",
    "字典是一个键值对的集合，该集合以键为索引，一个键信息只对应一个值信息； <br>\n",
    "字典中元素以键信息为索引访问；<br>\n",
    "字典长度是可变的，可以通过对键信息赋值实现增加或修改键值对。<br> "
   ]
  },
  {
   "cell_type": "markdown",
   "metadata": {},
   "source": [
    "## jieba库的概述"
   ]
  },
  {
   "cell_type": "markdown",
   "metadata": {},
   "source": [
    "安装jieba库的方法："
   ]
  },
  {
   "cell_type": "code",
   "execution_count": null,
   "metadata": {},
   "outputs": [],
   "source": [
    "pip install jieba   # 或者 pip3 install jieba"
   ]
  },
  {
   "cell_type": "markdown",
   "metadata": {},
   "source": [
    "使用实例："
   ]
  },
  {
   "cell_type": "code",
   "execution_count": 1,
   "metadata": {},
   "outputs": [
    {
     "name": "stderr",
     "output_type": "stream",
     "text": [
      "Building prefix dict from the default dictionary ...\n",
      "Dumping model to file cache C:\\Users\\falcon1\\AppData\\Local\\Temp\\jieba.cache\n",
      "Loading model cost 1.599 seconds.\n",
      "Prefix dict has been built succesfully.\n"
     ]
    },
    {
     "data": {
      "text/plain": [
       "['中华人民共和国', '是', '一个', '伟大', '的', '国家']"
      ]
     },
     "execution_count": 1,
     "metadata": {},
     "output_type": "execute_result"
    }
   ],
   "source": [
    "import jieba\n",
    "jieba.lcut(\"中华人民共和国是一个伟大的国家\")"
   ]
  },
  {
   "cell_type": "code",
   "execution_count": 2,
   "metadata": {},
   "outputs": [
    {
     "data": {
      "text/plain": [
       "['中华',\n",
       " '中华人民',\n",
       " '中华人民共和国',\n",
       " '华人',\n",
       " '人民',\n",
       " '人民共和国',\n",
       " '共和',\n",
       " '共和国',\n",
       " '国是',\n",
       " '一个',\n",
       " '伟大',\n",
       " '的',\n",
       " '国家']"
      ]
     },
     "execution_count": 2,
     "metadata": {},
     "output_type": "execute_result"
    }
   ],
   "source": [
    "jieba.lcut(\"中华人民共和国是一个伟大的国家\", cut_all=True)"
   ]
  },
  {
   "cell_type": "code",
   "execution_count": 3,
   "metadata": {},
   "outputs": [
    {
     "data": {
      "text/plain": [
       "['中华', '华人', '人民', '共和', '共和国', '中华人民共和国', '是', '一个', '伟大', '的', '国家']"
      ]
     },
     "execution_count": 3,
     "metadata": {},
     "output_type": "execute_result"
    }
   ],
   "source": [
    "jieba.lcut_for_search(\"中华人民共和国是一个伟大的国家\")"
   ]
  },
  {
   "cell_type": "markdown",
   "metadata": {},
   "source": [
    "<img src='figs/fig6-7.jpg' />"
   ]
  },
  {
   "cell_type": "markdown",
   "metadata": {},
   "source": [
    "## 文本词频统计"
   ]
  },
  {
   "cell_type": "markdown",
   "metadata": {},
   "source": [
    "### 《Hamlet》英文词频统计"
   ]
  },
  {
   "cell_type": "code",
   "execution_count": 5,
   "metadata": {},
   "outputs": [
    {
     "name": "stdout",
     "output_type": "stream",
     "text": [
      "the        1138\n",
      "and         965\n",
      "to          754\n",
      "of          669\n",
      "you         550\n",
      "i           542\n",
      "a           542\n",
      "my          514\n",
      "hamlet      462\n",
      "in          436\n"
     ]
    }
   ],
   "source": [
    "#e10.1CalHamlet.py\n",
    "def getText():\n",
    "    txt = open(\"hamlet.txt\", \"r\").read()\n",
    "    txt = txt.lower()\n",
    "    for ch in '!\"#$%&()*+,-./:;<=>?@[\\\\]^_‘{|}~':\n",
    "        txt = txt.replace(ch, \" \")   #将文本中特殊字符替换为空格\n",
    "    return txt\n",
    "hamletTxt = getText()\n",
    "words  = hamletTxt.split()\n",
    "counts = {}\n",
    "for word in words:\t\t\t\n",
    "    counts[word] = counts.get(word,0) + 1\n",
    "items = list(counts.items())\n",
    "items.sort(key=lambda x:x[1], reverse=True) \n",
    "for i in range(10):\n",
    "    word, count = items[i]\n",
    "    print (\"{0:<10}{1:>5}\".format(word, count))"
   ]
  },
  {
   "cell_type": "markdown",
   "metadata": {},
   "source": [
    "观察输出结果可以看到，高频单词大多数是冠词、代词、连接词等语法型词汇，并不能代表文章的含义。进一步，可以采用集合类型构建一个排除词汇库excludes，在输出结果中排除这个词汇库中内容。"
   ]
  },
  {
   "cell_type": "code",
   "execution_count": null,
   "metadata": {},
   "outputs": [],
   "source": [
    "#e10.2CalHamlet.py\n",
    "excludes = {\"the\",\"and\",\"of\",\"you\",\"a\",\"i\",\"my\",\"in\"}\n",
    "def getText():\n",
    "    txt = open(\"hamlet.txt\", \"r\").read()\n",
    "    txt = txt.lower()\n",
    "    for ch in '!\"#$%&()*+,-./:;<=>?@[\\\\]^_‘{|}~':\n",
    "        txt = txt.replace(ch, \" \")   #将文本中特殊字符替换为空格\n",
    "    return txt\n",
    "hamletTxt = getText()\n",
    "words  = hamletTxt.split()\n",
    "counts = {}\n",
    "for word in words:\t\t\t\n",
    "    counts[word] = counts.get(word,0) + 1\n",
    "for word in excludes:\n",
    "    del(counts[word])    \n",
    "items = list(counts.items())\n",
    "items.sort(key=lambda x:x[1], reverse=True) \n",
    "for i in range(10):\n",
    "    word, count = items[i]\n",
    "    print (\"{0:<10}{1:>5}\".format(word, count))\n"
   ]
  },
  {
   "cell_type": "markdown",
   "metadata": {},
   "source": [
    "### 《三国演义》人物出场统计 "
   ]
  },
  {
   "cell_type": "code",
   "execution_count": 9,
   "metadata": {},
   "outputs": [
    {
     "name": "stdout",
     "output_type": "stream",
     "text": [
      "曹操          953\n",
      "孔明          836\n",
      "将军          772\n",
      "却说          656\n",
      "玄德          585\n",
      "关公          510\n",
      "丞相          491\n",
      "二人          469\n",
      "不可          440\n",
      "荆州          425\n",
      "玄德曰         390\n",
      "孔明曰         390\n",
      "不能          384\n",
      "如此          378\n",
      "张飞          358\n"
     ]
    }
   ],
   "source": [
    "#e10.3CalThreeKingdoms.py\n",
    "import jieba\n",
    "txt = open(\"三国演义.txt\", \"r\", encoding='utf-8').read()\n",
    "words  = jieba.lcut(txt)\n",
    "counts = {}\n",
    "for word in words:\n",
    "    if len(word) == 1:  #排除单个字符的分词结果\n",
    "        continue\n",
    "    else:\n",
    "        counts[word] = counts.get(word,0) + 1\n",
    "items = list(counts.items())\n",
    "items.sort(key=lambda x:x[1], reverse=True) \n",
    "for i in range(15):\n",
    "    word, count = items[i]\n",
    "    print (\"{0:<10}{1:>5}\".format(word, count))\n"
   ]
  },
  {
   "cell_type": "code",
   "execution_count": 7,
   "metadata": {},
   "outputs": [
    {
     "name": "stdout",
     "output_type": "stream",
     "text": [
      "曹操          953\n",
      "孔明          836\n",
      "将军          772\n",
      "却说          656\n",
      "玄德          585\n",
      "关公          510\n",
      "丞相          491\n",
      "二人          469\n",
      "不可          440\n",
      "荆州          425\n",
      "玄德曰         390\n",
      "孔明曰         390\n",
      "不能          384\n",
      "如此          378\n",
      "张飞          358\n"
     ]
    }
   ],
   "source": [
    "#e10.3CalThreeKingdoms.py\n",
    "import jieba\n",
    "excludes = {}#{\"将军\",\"却说\",\"丞相\"}\n",
    "txt = open(\"三国演义.txt\", \"r\", encoding='utf-8').read()\n",
    "words  = jieba.lcut(txt)\n",
    "counts = {}\n",
    "for word in words:\n",
    "    if len(word) == 1:\n",
    "        continue\n",
    "    else:\n",
    "        counts[word] = counts.get(word,0) + 1\n",
    "for word in excludes:\n",
    "    del(counts[word])\n",
    "items = list(counts.items())\n",
    "items.sort(key=lambda x:x[1], reverse=True) \n",
    "for i in range(15):\n",
    "    word, count = items[i]\n",
    "    print (\"{0:<10}{1:>5}\".format(word, count))"
   ]
  },
  {
   "cell_type": "code",
   "execution_count": null,
   "metadata": {},
   "outputs": [],
   "source": [
    "import jieba\n",
    "excludes = {\"将军\",\"却说\",\"荆州\",\"二人\",\"不可\",\"不能\",\"如此\"}\n",
    "txt = open(\"三国演义.txt\", \"r\", encoding='utf-8').read()\n",
    "words  = jieba.lcut(txt)\n",
    "counts = {}\n",
    "for word in words:\n",
    "    if len(word) == 1:\n",
    "        continue\n",
    "    elif word == \"诸葛亮\" or word == \"孔明曰\":\n",
    "        rword = \"孔明\"\n",
    "    elif word == \"关公\" or word == \"云长\":\n",
    "        rword = \"关羽\"\n",
    "    elif word == \"玄德\" or word == \"玄德曰\":\n",
    "        rword = \"刘备\"\n",
    "    elif word == \"孟德\" or word == \"丞相\":\n",
    "        rword = \"曹操\"\n",
    "    else:\n",
    "        rword = word\n",
    "    counts[rword] = counts.get(rword,0) + 1\n",
    "for word in excludes:\n",
    "    del(counts[word])\n",
    "items = list(counts.items())\n",
    "items.sort(key=lambda x:x[1], reverse=True) \n",
    "for i in range(5):\n",
    "    word, count = items[i]\n",
    "    print (\"{0:<10}{1:>5}\".format(word, count))\n"
   ]
  },
  {
   "cell_type": "markdown",
   "metadata": {},
   "source": [
    "## Python之禅!"
   ]
  },
  {
   "cell_type": "code",
   "execution_count": 10,
   "metadata": {},
   "outputs": [
    {
     "name": "stdout",
     "output_type": "stream",
     "text": [
      "The Zen of Python, by Tim Peters\n",
      "\n",
      "Beautiful is better than ugly.\n",
      "Explicit is better than implicit.\n",
      "Simple is better than complex.\n",
      "Complex is better than complicated.\n",
      "Flat is better than nested.\n",
      "Sparse is better than dense.\n",
      "Readability counts.\n",
      "Special cases aren't special enough to break the rules.\n",
      "Although practicality beats purity.\n",
      "Errors should never pass silently.\n",
      "Unless explicitly silenced.\n",
      "In the face of ambiguity, refuse the temptation to guess.\n",
      "There should be one-- and preferably only one --obvious way to do it.\n",
      "Although that way may not be obvious at first unless you're Dutch.\n",
      "Now is better than never.\n",
      "Although never is often better than *right* now.\n",
      "If the implementation is hard to explain, it's a bad idea.\n",
      "If the implementation is easy to explain, it may be a good idea.\n",
      "Namespaces are one honking great idea -- let's do more of those!\n"
     ]
    }
   ],
   "source": [
    "import this"
   ]
  },
  {
   "cell_type": "markdown",
   "metadata": {},
   "source": [
    "<img src='figs/fig6-8.jpg' />"
   ]
  },
  {
   "cell_type": "code",
   "execution_count": 16,
   "metadata": {},
   "outputs": [
    {
     "name": "stdout",
     "output_type": "stream",
     "text": [
      "The Zen of Python, by Tim Peters\n",
      " \n",
      "Beautiful is better than ugly.\n",
      "Explicit is better than implicit.\n",
      "Simple is better than complex.\n",
      "Complex is better than complicated.\n",
      "Flat is better than nested.\n",
      "Sparse is better than dense.\n",
      "Readability counts.\n",
      "Special cases aren't special enough to break the rules.\n",
      "Although practicality beats purity.\n",
      "Errors should never pass silently.\n",
      "Unless explicitly silenced.\n",
      "In the face of ambiguity, refuse the temptation to guess.\n",
      "There should be one-- and preferably only one --obvious way to do it.\n",
      "Although that way may not be obvious at first unless you're Dutch.\n",
      "Now is better than never.\n",
      "Although never is often better than *right* now.\n",
      "If the implementation is hard to explain, it's a bad idea.\n",
      "If the implementation is easy to explain, it may be a good idea.\n",
      "Namespaces are one honking great idea -- let's do more of those!\n"
     ]
    }
   ],
   "source": [
    "s = \"\"\"Gur Mra bs Clguba, ol Gvz Crgref\n",
    " \n",
    "Ornhgvshy vf orggre guna htyl.\n",
    "Rkcyvpvg vf orggre guna vzcyvpvg.\n",
    "Fvzcyr vf orggre guna pbzcyrk.\n",
    "Pbzcyrk vf orggre guna pbzcyvpngrq.\n",
    "Syng vf orggre guna arfgrq.\n",
    "Fcnefr vf orggre guna qrafr.\n",
    "Ernqnovyvgl pbhagf.\n",
    "Fcrpvny pnfrf nera'g fcrpvny rabhtu gb oernx gur ehyrf.\n",
    "Nygubhtu cenpgvpnyvgl orngf chevgl.\n",
    "Reebef fubhyq arire cnff fvyragyl.\n",
    "Hayrff rkcyvpvgyl fvyraprq.\n",
    "Va gur snpr bs nzovthvgl, ershfr gur grzcgngvba gb thrff.\n",
    "Gurer fubhyq or bar-- naq cersrenoyl bayl bar --boivbhf jnl gb qb vg.\n",
    "Nygubhtu gung jnl znl abg or boivbhf ng svefg hayrff lbh'er Qhgpu.\n",
    "Abj vf orggre guna arire.\n",
    "Nygubhtu arire vf bsgra orggre guna *evtug* abj.\n",
    "Vs gur vzcyrzragngvba vf uneq gb rkcynva, vg'f n onq vqrn.\n",
    "Vs gur vzcyrzragngvba vf rnfl gb rkcynva, vg znl or n tbbq vqrn.\n",
    "Anzrfcnprf ner bar ubaxvat terng vqrn -- yrg'f qb zber bs gubfr!\"\"\"\n",
    "\n",
    "d = {}\n",
    "for c in (65, 97):\n",
    "    for i in range(26):\n",
    "        d[chr(i+c)] = chr((i+13) % 26 + c)\n",
    "\n",
    "lines = [d.get(c,c) for c in s]\n",
    "print(\"\".join(lines))"
   ]
  },
  {
   "cell_type": "markdown",
   "metadata": {},
   "source": [
    "<b>\n",
    "密文：A B C D E F G H I J K L M N O P Q R S T U V W X Y Z <br>\n",
    "原文：N O P Q R S T U V W X Y Z A B C D E F G H I J K L M<br>\n",
    "密文：a b c d e f g h i j k l m n o p q r s t u v w x y z<br>\n",
    "原文：n o p q r s t u v w x y z a b c d e f g h i j k l m <br>\n",
    "</b>"
   ]
  },
  {
   "cell_type": "code",
   "execution_count": null,
   "metadata": {},
   "outputs": [],
   "source": []
  }
 ],
 "metadata": {
  "kernelspec": {
   "display_name": "Python 3",
   "language": "python",
   "name": "python3"
  },
  "language_info": {
   "codemirror_mode": {
    "name": "ipython",
    "version": 3
   },
   "file_extension": ".py",
   "mimetype": "text/x-python",
   "name": "python",
   "nbconvert_exporter": "python",
   "pygments_lexer": "ipython3",
   "version": "3.6.5"
  },
  "toc": {
   "base_numbering": 1,
   "nav_menu": {},
   "number_sections": true,
   "sideBar": true,
   "skip_h1_title": true,
   "title_cell": "Table of Contents",
   "title_sidebar": "Contents",
   "toc_cell": true,
   "toc_position": {},
   "toc_section_display": true,
   "toc_window_display": false
  }
 },
 "nbformat": 4,
 "nbformat_minor": 2
}
