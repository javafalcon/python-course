{
 "cells": [
  {
   "cell_type": "code",
   "execution_count": 1,
   "metadata": {},
   "outputs": [
    {
     "ename": "AttributeError",
     "evalue": "module 'math' has no attribute 'power'",
     "output_type": "error",
     "traceback": [
      "\u001b[1;31m---------------------------------------------------------------------------\u001b[0m",
      "\u001b[1;31mAttributeError\u001b[0m                            Traceback (most recent call last)",
      "\u001b[1;32m<ipython-input-1-2a8b3307a9dc>\u001b[0m in \u001b[0;36m<module>\u001b[1;34m()\u001b[0m\n\u001b[0;32m      1\u001b[0m \u001b[1;32mimport\u001b[0m \u001b[0mmath\u001b[0m\u001b[1;33m\u001b[0m\u001b[0m\n\u001b[1;32m----> 2\u001b[1;33m \u001b[0mmath\u001b[0m\u001b[1;33m.\u001b[0m\u001b[0mpower\u001b[0m\u001b[1;33m(\u001b[0m\u001b[1;36m2\u001b[0m\u001b[1;33m,\u001b[0m\u001b[1;36m3\u001b[0m\u001b[1;33m)\u001b[0m\u001b[1;33m\u001b[0m\u001b[0m\n\u001b[0m",
      "\u001b[1;31mAttributeError\u001b[0m: module 'math' has no attribute 'power'"
     ]
    }
   ],
   "source": [
    "import math\n",
    "math.power(2,3)"
   ]
  },
  {
   "cell_type": "markdown",
   "metadata": {},
   "source": [
    "# 第三章 基本数据类型"
   ]
  },
  {
   "cell_type": "markdown",
   "metadata": {},
   "source": [
    "## 天天向上的力量\n",
    "<font size=4 face='宋体'>【实例代码1】一年365天，以第1天的能力值为基数，记为1.0，当好好学习时能力值相比前一天提高1‰，当没有学习时由于遗忘等原因能力值相比前一天下降1‰。每天努力和每天放任，一年下来的能力值相差多少呢？</font>"
   ]
  },
  {
   "cell_type": "markdown",
   "metadata": {},
   "source": [
    "<font size=4 face='Times New Roman'>天天向上的力量是：$$(1+0.001)^{365}$$<br>\n",
    "放任或向下的力量是：$$(1-0.001)^{365}$$"
   ]
  },
  {
   "cell_type": "code",
   "execution_count": 1,
   "metadata": {},
   "outputs": [
    {
     "name": "stdout",
     "output_type": "stream",
     "text": [
      "向上：1.44, 向下：0.69.\n"
     ]
    }
   ],
   "source": [
    "import math\n",
    "dayup = math.pow( (1.0 + 0.001), 365) #天天向上\n",
    "daydown = math.pow( (1.0 - 0.001), 365) #放任\n",
    "print(\"向上：{:.2f}, 向下：{:.2f}.\".format(dayup, daydown))"
   ]
  },
  {
   "cell_type": "markdown",
   "metadata": {},
   "source": [
    "<font size=4 face='宋体'>【实例代码2】一年365天，如果好好学习时能力值相比前一天提高5‰，当放任时相比前一天下降5‰。效果相差多少呢？</font>"
   ]
  },
  {
   "cell_type": "code",
   "execution_count": 2,
   "metadata": {},
   "outputs": [
    {
     "name": "stdout",
     "output_type": "stream",
     "text": [
      "向上：6.17, 向下：0.16.\n"
     ]
    }
   ],
   "source": [
    "import math\n",
    "dayup = math.pow( (1.0 + 0.005), 365) #提高0.005\n",
    "daydown = math.pow( (1.0 - 0.005), 365) #放任0.005\n",
    "print(\"向上：{:.2f}, 向下：{:.2f}.\".format(dayup, daydown))"
   ]
  },
  {
   "cell_type": "markdown",
   "metadata": {},
   "source": [
    "<font size=4 face='宋体'>【实例代码3】一年365天，如果好好学习时能力值相比前一天提高1%，当放任时相比前一天下降1%。效果相差多少呢？</font>"
   ]
  },
  {
   "cell_type": "code",
   "execution_count": 3,
   "metadata": {},
   "outputs": [
    {
     "name": "stdout",
     "output_type": "stream",
     "text": [
      "向上：37.78, 向下：0.03.\n"
     ]
    }
   ],
   "source": [
    "import math\n",
    "dayup = math.pow( (1.0 + 0.01), 365) #提高0.01\n",
    "daydown = math.pow( (1.0 - 0.01), 365) #放任0.01\n",
    "print(\"向上：{:.2f}, 向下：{:.2f}.\".format(dayup, daydown))"
   ]
  },
  {
   "cell_type": "markdown",
   "metadata": {},
   "source": [
    "<font size=4 face='宋体'>【实例代码4】一年365天，一周5个工作日，如果每个工作日都很努力，可以提高1%，仅在周末放任一下，能力值每天下降1%，效果如何呢？ </font>"
   ]
  },
  {
   "cell_type": "code",
   "execution_count": 4,
   "metadata": {},
   "outputs": [
    {
     "name": "stdout",
     "output_type": "stream",
     "text": [
      "向上5天向下2天的力量：4.63.\n"
     ]
    }
   ],
   "source": [
    "dayup, dayfactor = 1.0, 0.01\n",
    "for i in range(365):\n",
    "    if i%7 not in [6, 0]:\n",
    "        dayup = dayup * (1 + dayfactor) #提高\n",
    "    else:\n",
    "        dayup = dayup * (1 - dayfactor) #放任\n",
    "print(\"向上5天向下2天的力量：{:.2f}.\".format(dayup))"
   ]
  },
  {
   "cell_type": "markdown",
   "metadata": {},
   "source": [
    "<font size=4 face='宋体'>【实例代码5】每周工作5天，休息2天，休息日水平下降0.01，工作日要努力到什么程度一年后的水平才与每天努力1%所取得的效果一样呢？</font>"
   ]
  },
  {
   "cell_type": "code",
   "execution_count": 5,
   "metadata": {},
   "outputs": [
    {
     "name": "stdout",
     "output_type": "stream",
     "text": [
      "每天的努力参数是：0.019.\n"
     ]
    }
   ],
   "source": [
    "def dayUP(df):\n",
    "    dayup = 1\n",
    "    for i in range(365):\n",
    "        if i%7 in [6, 0]:\n",
    "            dayup = dayup * (1 - 0.01) #放任\n",
    "        else:\n",
    "            dayup = dayup * (1 + df) #提高\n",
    "    return dayup\n",
    "\n",
    "dayfactor = 0.01\n",
    "while( dayUP(dayfactor) < 37.78):\n",
    "    dayfactor += 0.001\n",
    "    \n",
    "print(\"每天的努力参数是：{:.3f}.\".format(dayfactor))"
   ]
  },
  {
   "cell_type": "markdown",
   "metadata": {},
   "source": [
    "## 字符串类型及其操作"
   ]
  },
  {
   "cell_type": "markdown",
   "metadata": {},
   "source": [
    "### 字符串类型的表示"
   ]
  },
  {
   "cell_type": "markdown",
   "metadata": {},
   "source": [
    "#### 引号的使用"
   ]
  },
  {
   "cell_type": "code",
   "execution_count": 6,
   "metadata": {},
   "outputs": [
    {
     "name": "stdout",
     "output_type": "stream",
     "text": [
      "单引号表示可以使用\"双引号\"作为字符串的一部分\n"
     ]
    }
   ],
   "source": [
    "print('单引号表示可以使用\"双引号\"作为字符串的一部分')"
   ]
  },
  {
   "cell_type": "code",
   "execution_count": 7,
   "metadata": {},
   "outputs": [
    {
     "name": "stdout",
     "output_type": "stream",
     "text": [
      "双引号表示可以使用'单引号'作为字符串的一部分\n"
     ]
    }
   ],
   "source": [
    "print(\"双引号表示可以使用'单引号'作为字符串的一部分\")"
   ]
  },
  {
   "cell_type": "code",
   "execution_count": 8,
   "metadata": {},
   "outputs": [
    {
     "name": "stdout",
     "output_type": "stream",
     "text": [
      "三引号中可以使用\"双引号\"\n",
      "'单引号'\n",
      "也可以使用换行\n"
     ]
    }
   ],
   "source": [
    "print('''三引号中可以使用\"双引号\"\n",
    "'单引号'\n",
    "也可以使用换行''')"
   ]
  },
  {
   "cell_type": "markdown",
   "metadata": {},
   "source": [
    "#### input()函数\n",
    "函数将用户输入的内容当作一个字符串类型"
   ]
  },
  {
   "cell_type": "code",
   "execution_count": 9,
   "metadata": {},
   "outputs": [
    {
     "name": "stdout",
     "output_type": "stream",
     "text": [
      "请输入名字：Lin w卫\n",
      "Lin w卫\n"
     ]
    }
   ],
   "source": [
    "name = input(\"请输入名字：\")\n",
    "print(name)"
   ]
  },
  {
   "cell_type": "markdown",
   "metadata": {},
   "source": [
    "#### type()函数\n",
    "测试一个变量或常量的类型"
   ]
  },
  {
   "cell_type": "code",
   "execution_count": 10,
   "metadata": {},
   "outputs": [
    {
     "data": {
      "text/plain": [
       "str"
      ]
     },
     "execution_count": 10,
     "metadata": {},
     "output_type": "execute_result"
    }
   ],
   "source": [
    "type(name)"
   ]
  },
  {
   "cell_type": "markdown",
   "metadata": {},
   "source": [
    "#### 转义字符\n",
    "特殊的格式化控制字符使用反斜杠(\\)开头，常用的控制字符如下。\n",
    "\n",
    "|转义字符|含义|\n",
    "|--|--|\n",
    "|\\a|蜂鸣，响铃|\n",
    "|\\b|回退，向后退一格|\n",
    "|\\f|换页|\n",
    "|\\n|换行，光标移动到下行首位置|\n",
    "|\\r|回车，光标移动到本行首位置|\n",
    "|\\t|水平制表|\n",
    "|\\v|垂直制表|\n",
    "|\\0|NULL，什么都不做|"
   ]
  },
  {
   "cell_type": "code",
   "execution_count": 11,
   "metadata": {},
   "outputs": [
    {
     "name": "stdout",
     "output_type": "stream",
     "text": [
      "\"大家好\"\n"
     ]
    }
   ],
   "source": [
    "print(\"\\\"大家好\\\"\")"
   ]
  },
  {
   "cell_type": "code",
   "execution_count": null,
   "metadata": {},
   "outputs": [],
   "source": [
    "print(\"爱\\t生活\\t爱\\tPython\")"
   ]
  },
  {
   "cell_type": "code",
   "execution_count": null,
   "metadata": {},
   "outputs": [],
   "source": [
    "print(\"我是反斜杠\\\\\")"
   ]
  },
  {
   "cell_type": "markdown",
   "metadata": {},
   "source": [
    "### 字符串操作符"
   ]
  },
  {
   "cell_type": "markdown",
   "metadata": {},
   "source": [
    "<table>\n",
    "    <tr><td>操作符</td><td align='center'>描述</td></tr>\n",
    "    <tr><td>x+y</td><td>连接两个字符串x与y</td></tr>\n",
    "    <tr><td>x * n 或 n * x</td><td>复制n次字符串x</td></tr>\n",
    "    <tr><td>x in s</td><td>如果x是s的子串，返回True；否则返回False</td></tr>\n",
    "    <tr><td>str[i]</td><td>索引，返回第i个字符</td></tr>\n",
    "    <tr><td>str[N:M]</td><td>切片，返回索引第N到第M个子串，其中不包含M</td></tr>\n",
    "</table>"
   ]
  },
  {
   "cell_type": "markdown",
   "metadata": {},
   "source": [
    "#### 字符串索引和切片"
   ]
  },
  {
   "cell_type": "markdown",
   "metadata": {},
   "source": [
    "\n",
    "|0|1|2|3|4|5|6|7|8|9|10|\n",
    "|--|--|--|--|--|--|--|--|--|--|--|\n",
    "|H|e|l|l|o|--|W|o|r|l|d|\n",
    "|-11|-10|-9|-8|-7|-6|-5|-4|-3|-2|-1|\n",
    "\n",
    "|0|1|2|3|4|5|6|7|8|9|10|11|\n",
    "|--|--|--|--|--|--|--|--|--|--|--|--|\n",
    "|P|y|t|h|o|n|语|言|程|序|设|计|\n",
    "|-12|-11|-10|-9|-8|-7|-6|-5|-4|-3|-2|-1|"
   ]
  },
  {
   "cell_type": "code",
   "execution_count": null,
   "metadata": {},
   "outputs": [],
   "source": [
    "name=\"Python语言程序设计\"\n",
    "print(name[0], name[7], name[-1], name[-12])"
   ]
  },
  {
   "cell_type": "code",
   "execution_count": null,
   "metadata": {},
   "outputs": [],
   "source": [
    "print(name[2:-4])"
   ]
  },
  {
   "cell_type": "code",
   "execution_count": null,
   "metadata": {},
   "outputs": [],
   "source": [
    "print(name[:6])"
   ]
  },
  {
   "cell_type": "code",
   "execution_count": null,
   "metadata": {},
   "outputs": [],
   "source": [
    "print(name[6:])"
   ]
  },
  {
   "cell_type": "code",
   "execution_count": null,
   "metadata": {},
   "outputs": [],
   "source": [
    "print(name[:])"
   ]
  },
  {
   "cell_type": "code",
   "execution_count": null,
   "metadata": {},
   "outputs": [],
   "source": [
    "print(name[0:-1])"
   ]
  },
  {
   "cell_type": "code",
   "execution_count": null,
   "metadata": {},
   "outputs": [],
   "source": [
    "print(name[-12:12])"
   ]
  },
  {
   "cell_type": "code",
   "execution_count": null,
   "metadata": {},
   "outputs": [],
   "source": [
    "print(name[::-1])"
   ]
  },
  {
   "cell_type": "markdown",
   "metadata": {},
   "source": [
    "#### 字符串基本操作"
   ]
  },
  {
   "cell_type": "code",
   "execution_count": null,
   "metadata": {},
   "outputs": [],
   "source": [
    "\"Python语言\" + \"程序设计\""
   ]
  },
  {
   "cell_type": "code",
   "execution_count": null,
   "metadata": {},
   "outputs": [],
   "source": [
    "name = \"Python语言\" + \"程序设计\" + \"基础\"\n",
    "print(name)"
   ]
  },
  {
   "cell_type": "code",
   "execution_count": null,
   "metadata": {},
   "outputs": [],
   "source": [
    "\"GOAL!\" * 3"
   ]
  },
  {
   "cell_type": "code",
   "execution_count": null,
   "metadata": {},
   "outputs": [],
   "source": [
    "\"Python语言\" in name"
   ]
  },
  {
   "cell_type": "code",
   "execution_count": null,
   "metadata": {},
   "outputs": [],
   "source": [
    "'Y' in \"Python语言\""
   ]
  },
  {
   "cell_type": "markdown",
   "metadata": {},
   "source": [
    "#### 字符串内置处理<font color='red'>函数</font>\n",
    "共有6个函数"
   ]
  },
  {
   "cell_type": "code",
   "execution_count": null,
   "metadata": {},
   "outputs": [],
   "source": [
    "#len(x): 返回一个字符串x的长度\n",
    "len(name)"
   ]
  },
  {
   "cell_type": "code",
   "execution_count": null,
   "metadata": {},
   "outputs": [],
   "source": [
    "#str(x): 把x的类型转换为字符串\n",
    "print(type(3.1415926))\n",
    "s = str(3.1415926)\n",
    "print(type(s))"
   ]
  },
  {
   "cell_type": "code",
   "execution_count": null,
   "metadata": {},
   "outputs": [],
   "source": [
    "s"
   ]
  },
  {
   "cell_type": "code",
   "execution_count": null,
   "metadata": {},
   "outputs": [],
   "source": [
    "#chr(x)：返回Unicode编码对应的字符\n",
    "#ord(x): 返回x对应的Unicode编码\n",
    "c =  chr(10004)\n",
    "print( c)"
   ]
  },
  {
   "cell_type": "code",
   "execution_count": null,
   "metadata": {},
   "outputs": [],
   "source": [
    "print( ord(c))"
   ]
  },
  {
   "cell_type": "code",
   "execution_count": null,
   "metadata": {},
   "outputs": [],
   "source": [
    "#hex(x): 返回整数x对应的十六进制\n",
    "#oct(x): 返回整数x对应的八进制\n",
    "hex(255)"
   ]
  },
  {
   "cell_type": "code",
   "execution_count": null,
   "metadata": {},
   "outputs": [],
   "source": [
    "oct(-255)"
   ]
  },
  {
   "cell_type": "code",
   "execution_count": null,
   "metadata": {},
   "outputs": [],
   "source": [
    "hex(3.2)"
   ]
  },
  {
   "cell_type": "markdown",
   "metadata": {},
   "source": [
    "#### 【实例3.2】凯撒密码\n",
    "<font size=4>凯撒密码是古罗马凯撒大帝用来对军事情报进行加密的算法，它采用了替换方法对信息中的每一个英文字符循环替换为字母表序列该字符后面第三个字符，对应关系如下：<br>\n",
    "原文：A B C D E F G H I J K L M N O P Q R S T U V W X Y Z<br>\n",
    "密文：D E F G H I J K L M N O P Q R S T U V W X Y Z A B C<br>\n",
    "原文字符P，其密文字符C满足如下条件：\n",
    "$$C = ( P + 3 ) mod 26$$\n",
    "解密方法反之，满足：\n",
    "$$P = ( C – 3 ) mod 26$$</font>"
   ]
  },
  {
   "cell_type": "code",
   "execution_count": null,
   "metadata": {},
   "outputs": [],
   "source": [
    "plaincode = input(\"请输入明文: \")\n",
    "for p in plaincode: \n",
    "    if ord(\"a\") <= ord(p) <= ord(\"z\"):\n",
    "         print(chr(ord(\"a\")+(ord(p)-ord(\"a\")+3)%26), end='')\n",
    "    else:\n",
    "         print(p, end='')\n"
   ]
  },
  {
   "cell_type": "markdown",
   "metadata": {},
   "source": [
    "#### 字符串内置处理<font color='red'>方法</font>\n",
    "字符串是一个类，共包含了43个内置方法。见教材83-84页表3.12"
   ]
  },
  {
   "cell_type": "markdown",
   "metadata": {},
   "source": [
    "## 字符串类型的格式化"
   ]
  },
  {
   "cell_type": "code",
   "execution_count": null,
   "metadata": {},
   "outputs": [],
   "source": []
  }
 ],
 "metadata": {
  "kernelspec": {
   "display_name": "Python 3",
   "language": "python",
   "name": "python3"
  },
  "language_info": {
   "codemirror_mode": {
    "name": "ipython",
    "version": 3
   },
   "file_extension": ".py",
   "mimetype": "text/x-python",
   "name": "python",
   "nbconvert_exporter": "python",
   "pygments_lexer": "ipython3",
   "version": "3.6.5"
  },
  "toc": {
   "base_numbering": 1,
   "nav_menu": {},
   "number_sections": true,
   "sideBar": true,
   "skip_h1_title": false,
   "title_cell": "Table of Contents",
   "title_sidebar": "Contents",
   "toc_cell": false,
   "toc_position": {},
   "toc_section_display": true,
   "toc_window_display": false
  }
 },
 "nbformat": 4,
 "nbformat_minor": 2
}
