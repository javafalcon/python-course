{
 "cells": [
  {
   "cell_type": "markdown",
   "metadata": {},
   "source": [
    "# 函数的基本使用"
   ]
  },
  {
   "cell_type": "markdown",
   "metadata": {},
   "source": [
    "## 函数的定义\n",
    "<p></p>\n",
    "<li>定义：</li>\n",
    "函数是一段具有特定功能，可重用的语句组，用函数名来表示并通过函数名进行功能调用。<br>\n",
    "<li>功能：</li>\n",
    "函数是一种功能的抽象，可以看成一个黑盒子。使用者不需要了解函数内部具体的工作原理，只要了解<b>函数的<font color=\"red\">接口</font>：函数名称、输入、输出。</b><br>\n",
    "<li>目的：</li>\n",
    " 1). 降低编程难度<br>\n",
    " 2). 代码重用，提高工作效率<br>\n",
    "<li>使用方法：</li>\n",
    "<p></p>\n",
    "<b><font color=\"red\">定义</font>的语法格式</b><p></p>\n",
    "def <函数名>(<参数列表>):<br>\n",
    "&emsp;<函数体><br>\n",
    "&emsp;return <返回值列表>\n",
    "<p></p>\n",
    "<b><font color=\"red\">调用</font>的语法格式</b><p></p>\n",
    "<函数名>(<参数列表>)"
   ]
  },
  {
   "cell_type": "code",
   "execution_count": 1,
   "metadata": {},
   "outputs": [
    {
     "name": "stdout",
     "output_type": "stream",
     "text": [
      "Happy birthday to you!\n",
      "Happy birthday to you!\n",
      "Happy birthday, dear Mike\n",
      "Happy birthday to you!\n",
      "\n",
      "Happy birthday to you!\n",
      "Happy birthday to you!\n",
      "Happy birthday, dear Lily\n",
      "Happy birthday to you!\n"
     ]
    }
   ],
   "source": [
    "def happy():\n",
    "    print(\"Happy birthday to you!\")\n",
    "def happyB(name):\n",
    "    happy()\n",
    "    happy()\n",
    "    print(\"Happy birthday, dear {}\".format(name))\n",
    "    happy()\n",
    "happyB(\"Mike\")\n",
    "print()\n",
    "happyB(\"Lily\")"
   ]
  },
  {
   "cell_type": "markdown",
   "metadata": {},
   "source": [
    "## 函数的调用过程"
   ]
  },
  {
   "cell_type": "markdown",
   "metadata": {},
   "source": [
    "程序调用一个函数需要执行4个步骤：<br>\n",
    "（1）调用程序在调用处暂停执行；<br>\n",
    "（2）在调用时将实参复制给函数的形参；<br>\n",
    "（3）执行函数体语句；<br>\n",
    "（4）函数调用结束给出返回值，程序回到调用前的暂停处继续执行。<br>"
   ]
  },
  {
   "cell_type": "markdown",
   "metadata": {},
   "source": [
    "<img src=\"figs/fig5-1.jpg\" />"
   ]
  },
  {
   "cell_type": "markdown",
   "metadata": {},
   "source": [
    "<img src='figs/fig5-2.jpg' />"
   ]
  },
  {
   "cell_type": "markdown",
   "metadata": {},
   "source": [
    "<img src=\"figs/fig5-3.jpg\" />"
   ]
  },
  {
   "cell_type": "markdown",
   "metadata": {},
   "source": [
    "<table align=\"left\">\n",
    "    <tr><td><img src=\"figs/warn.jpg\" width=\"50px\" height=\"50px\"></img></td>\n",
    "    <td>\n",
    "    <div align=\"left\">\n",
    "        <li>形式参数：在函数定义中的参数列表</li>\n",
    "        <li>实际参数：调用函数时，传递给函数的参数</li>\n",
    "    </div>\n",
    "    </td>\n",
    "    </tr>\n",
    "</table>"
   ]
  },
  {
   "cell_type": "markdown",
   "metadata": {},
   "source": [
    "## lambda函数"
   ]
  },
  {
   "cell_type": "markdown",
   "metadata": {},
   "source": [
    "保留字<font color=\"blue\">lambda</font>用于定义一种特殊的函数——<font color=\"red\">匿名函数</font>，又称<font color=\"red\">lambda函数</font>"
   ]
  },
  {
   "cell_type": "markdown",
   "metadata": {},
   "source": [
    "<font color=\"red\"><b>匿名函数</b></font>并非没有名字，而是<font color=\"red\">将函数名作为函数结果返回</font>。 <br>\n",
    "<p></p>\n",
    "语法格式如下：<br>\n",
    "<font color=\"blue\"><b><函数名> = lambda <参数列表>: <表达式></b></font> \n",
    "<p>lambda函数与正常函数一样，等价于下面形式：<br>\n",
    "<font color=\"blue\">def <函数名>(<参数列表>):<br>\n",
    "    &emsp;return <表达式></font>"
   ]
  },
  {
   "cell_type": "code",
   "execution_count": null,
   "metadata": {},
   "outputs": [],
   "source": [
    "f = lambda x,y : x + y\n",
    "type(f)"
   ]
  },
  {
   "cell_type": "code",
   "execution_count": null,
   "metadata": {},
   "outputs": [],
   "source": [
    "f(10, 12)"
   ]
  },
  {
   "cell_type": "code",
   "execution_count": null,
   "metadata": {},
   "outputs": [],
   "source": [
    "def f1():\n",
    "    f2()\n",
    "def f2():\n",
    "    print(\"函数f2()\")\n",
    "f1()"
   ]
  },
  {
   "cell_type": "code",
   "execution_count": null,
   "metadata": {},
   "outputs": [],
   "source": [
    "f1()\n",
    "def f1():\n",
    "    print(\" function f1\")"
   ]
  },
  {
   "cell_type": "markdown",
   "metadata": {},
   "source": [
    "# 函数的参数传递"
   ]
  },
  {
   "cell_type": "markdown",
   "metadata": {},
   "source": [
    "## 可选参数和可变数量参数"
   ]
  },
  {
   "cell_type": "markdown",
   "metadata": {},
   "source": [
    "- <font size=3 color=\"red\">可选参数</font>"
   ]
  },
  {
   "cell_type": "code",
   "execution_count": null,
   "metadata": {},
   "outputs": [],
   "source": [
    "def dup(str, times=2,t2=4):\n",
    "    print(str*times)\n",
    "    print(str*t2)"
   ]
  },
  {
   "cell_type": "code",
   "execution_count": null,
   "metadata": {},
   "outputs": [],
   "source": [
    "dup(\"knock~\")"
   ]
  },
  {
   "cell_type": "code",
   "execution_count": null,
   "metadata": {},
   "outputs": [],
   "source": [
    "dup(\"knock~\", 4)"
   ]
  },
  {
   "cell_type": "markdown",
   "metadata": {},
   "source": [
    "- <font size=3 color=\"red\">可变参数</font>"
   ]
  },
  {
   "cell_type": "code",
   "execution_count": null,
   "metadata": {},
   "outputs": [],
   "source": [
    "def vfun(a, *b):\n",
    "    print(type(b))\n",
    "    for n in b:\n",
    "        a += n\n",
    "    return a"
   ]
  },
  {
   "cell_type": "code",
   "execution_count": null,
   "metadata": {},
   "outputs": [],
   "source": [
    "vfun(1,2,3,4,5,6)"
   ]
  },
  {
   "cell_type": "markdown",
   "metadata": {},
   "source": [
    "## 参数的位置和名称传递"
   ]
  },
  {
   "cell_type": "markdown",
   "metadata": {},
   "source": [
    "<font size=3 color=\"blue\">按照形参名称输入实参</font>"
   ]
  },
  {
   "cell_type": "code",
   "execution_count": null,
   "metadata": {},
   "outputs": [],
   "source": [
    "dup(\"knock~\",t2=3,times=2)"
   ]
  },
  {
   "cell_type": "code",
   "execution_count": null,
   "metadata": {},
   "outputs": [],
   "source": [
    "dup(times=3,str=\"knock~\",t2=4)"
   ]
  },
  {
   "cell_type": "markdown",
   "metadata": {},
   "source": [
    "## 函数的返回值"
   ]
  },
  {
   "cell_type": "markdown",
   "metadata": {},
   "source": [
    "- <font color=\"red\"><b>return</b></font>语句用来退出函数并将程序返回到函数被调用的位置继续执行。\n",
    "- <font color=\"red\"><b>return</b></font>可以同时将0个、1个或多个函数运算后的结果返回给函数被调用出的<font color=\"blue\"><b>变量</b></font>。"
   ]
  },
  {
   "cell_type": "code",
   "execution_count": null,
   "metadata": {},
   "outputs": [],
   "source": [
    "def func(a, b):\n",
    "    return a*b\n",
    "s = func(7, 2)\n",
    "print(s)"
   ]
  },
  {
   "cell_type": "code",
   "execution_count": null,
   "metadata": {},
   "outputs": [],
   "source": [
    "def func(a, b):\n",
    "    return b,a\n",
    "s = func(5,8)\n",
    "print(s, type(s))"
   ]
  },
  {
   "cell_type": "code",
   "execution_count": null,
   "metadata": {},
   "outputs": [],
   "source": [
    "a,b = 4,9\n",
    "a,b = func(a,b)\n",
    "print(\"a={},b={}\".format(a,b))\n",
    "print(type(a))"
   ]
  },
  {
   "cell_type": "code",
   "execution_count": null,
   "metadata": {},
   "outputs": [],
   "source": [
    "a,b = 4, 9\n",
    "print(\"a={},b={}\".format(b,a))"
   ]
  },
  {
   "cell_type": "code",
   "execution_count": null,
   "metadata": {},
   "outputs": [],
   "source": [
    "a,b = 4,9\n",
    "t = a\n",
    "a = b\n",
    "b = t\n",
    "print(a,b)"
   ]
  },
  {
   "cell_type": "code",
   "execution_count": null,
   "metadata": {},
   "outputs": [],
   "source": [
    "a,b = 4, 9\n",
    "a,b = b,a"
   ]
  },
  {
   "cell_type": "code",
   "execution_count": null,
   "metadata": {},
   "outputs": [],
   "source": [
    "print(a,b)"
   ]
  },
  {
   "cell_type": "markdown",
   "metadata": {},
   "source": [
    "## 函数对变量的作用"
   ]
  },
  {
   "cell_type": "code",
   "execution_count": null,
   "metadata": {},
   "outputs": [],
   "source": []
  },
  {
   "cell_type": "markdown",
   "metadata": {},
   "source": [
    "- <font size=4 color=\"red\"><b>全局变量</b></font>\n",
    "> 在<font size=4 color=\"blue\"><b>函数之外定义的变量</b></font>，一般没有缩进，在程序执行全过程有效<p/>\n",
    "- <font size=4 color=\"red\"><b>局部变量</b></font>\n",
    "    > 在函数内部使用的变量，仅在函数内部有效。包括函数的<font size=4 color=\"blue\"><b>参数，以及在函数体内定义的变量</b>。"
   ]
  },
  {
   "cell_type": "code",
   "execution_count": null,
   "metadata": {},
   "outputs": [],
   "source": [
    "def func(a, b):\n",
    "    c = a * b\n",
    "    print(s)\n",
    "    return c\n",
    "s = func(\"knock~\", 2)\n",
    "print(c)"
   ]
  },
  {
   "cell_type": "code",
   "execution_count": 2,
   "metadata": {},
   "outputs": [
    {
     "name": "stdout",
     "output_type": "stream",
     "text": [
      "knock~knock~knock~ 3\n"
     ]
    }
   ],
   "source": [
    "n = 3\n",
    "def func(a, b):\n",
    "    c = a * n\n",
    "    return c\n",
    "s = func(\"knock~\", 2)\n",
    "print(s,n)"
   ]
  },
  {
   "cell_type": "code",
   "execution_count": 3,
   "metadata": {},
   "outputs": [
    {
     "name": "stdout",
     "output_type": "stream",
     "text": [
      "knock~knock~ 1\n"
     ]
    }
   ],
   "source": [
    "n = 1\n",
    "def func(a, b):\n",
    "    n = b\n",
    "    return a*b\n",
    "s = func(\"knock~\", 2)\n",
    "print(s, n)"
   ]
  },
  {
   "cell_type": "code",
   "execution_count": 5,
   "metadata": {},
   "outputs": [
    {
     "name": "stdout",
     "output_type": "stream",
     "text": [
      "2\n"
     ]
    }
   ],
   "source": [
    "n = 1\n",
    "def func(a, b):\n",
    "    global n\n",
    "    n = b\n",
    "    return a*b\n",
    "s = func(\"knock~\", 2)\n",
    "print(n)"
   ]
  },
  {
   "cell_type": "code",
   "execution_count": 6,
   "metadata": {},
   "outputs": [
    {
     "name": "stdout",
     "output_type": "stream",
     "text": [
      "knock~knock~ [2]\n"
     ]
    }
   ],
   "source": [
    "ls = []\n",
    "def func(a,b):\n",
    "    ls.append(b)\n",
    "    return a*b\n",
    "s = func(\"knock~\", 2)\n",
    "print(s, ls)"
   ]
  },
  {
   "cell_type": "code",
   "execution_count": 9,
   "metadata": {},
   "outputs": [
    {
     "name": "stdout",
     "output_type": "stream",
     "text": [
      "knock~knock~ []\n"
     ]
    }
   ],
   "source": [
    "ls = []\n",
    "def func(a,b):\n",
    "    #global ls\n",
    "    ls = []\n",
    "    ls.append(b)\n",
    "    return a*b\n",
    "s = func(\"knock~\", 2)\n",
    "print(s, ls)"
   ]
  },
  {
   "cell_type": "markdown",
   "metadata": {},
   "source": [
    "<table align=\"left\">\n",
    "    <tr>\n",
    "        <td><img src=\"figs/warn.jpg\" width=\"50px\" height=\"50px\"/></td>\n",
    "        <td><font color=\"red\" size=3><b>Python函数对变量的作用遵守如下原则：</b></font></td>\n",
    "    </tr>\n",
    "</table>"
   ]
  },
  {
   "cell_type": "markdown",
   "metadata": {},
   "source": [
    "<li><font color=\"blue\"><b>简单数据类型</b></font>变量无论是否与全局变量重名，仅<font color=\"blue\"><b>在函数内部创建和使用，函数退出后变量被释放</b></font>；</li>\n",
    "<li>简单数据类型变量在<font color=\"blue\"><b>用global保留字声明后，作为全局变量；</b></font></li>\n",
    "<li>对于<font color=\"blue\"><b>组合数据类型的全局变量</b></font>，如果在函数内部没有被真实创建的同名变量，则函数内部可直接使用并修改全局变量的值；</li>\n",
    "<li>如果函数内部真实创建了组合数据类型变量，无论是否有同名全局变量，函数仅对局部变量进行操作。</li>"
   ]
  },
  {
   "cell_type": "markdown",
   "metadata": {},
   "source": [
    "# 模块3：datetime库的使用"
   ]
  },
  {
   "cell_type": "markdown",
   "metadata": {},
   "source": [
    "## 概述"
   ]
  },
  {
   "cell_type": "markdown",
   "metadata": {},
   "source": [
    "<font size=\"3\"><b>datetime库以格林威治时间为基础。</b></font><p>\n",
    "datetime库以类的方式提供多种日期和时间表达方式：<br>\n",
    "<li>datetime.date：日期表示类，可以表示年、月、日等</li>\n",
    "<li>datetime.time：时间表示类，可以表示小时、分钟、秒、毫秒等</li>\n",
    "<li>datetime.datetime：日期和时间表示的类，功能覆盖date和time类</li>\n",
    "<li>datetime.timedelta：时间间隔有关的类</li>\n",
    "<li>datetime.tzinfo：与时区有关的信息表示类</li>"
   ]
  },
  {
   "cell_type": "markdown",
   "metadata": {},
   "source": [
    "<font size=3><b>引用datetime类的方法：</b></font>   "
   ]
  },
  {
   "cell_type": "code",
   "execution_count": 11,
   "metadata": {},
   "outputs": [],
   "source": [
    "from datetime import datetime"
   ]
  },
  {
   "cell_type": "markdown",
   "metadata": {},
   "source": [
    "## datetime库解析"
   ]
  },
  {
   "cell_type": "markdown",
   "metadata": {},
   "source": [
    "<font size=3>\n",
    "    1. datetime.now()<p/>\n",
    "    <b>作用：</b>返回一个datetime类型，表示当前的日期和时间，精确到微秒。\n",
    "</font>"
   ]
  },
  {
   "cell_type": "code",
   "execution_count": 12,
   "metadata": {},
   "outputs": [
    {
     "data": {
      "text/plain": [
       "datetime.datetime(2018, 9, 30, 9, 39, 32, 474647)"
      ]
     },
     "execution_count": 12,
     "metadata": {},
     "output_type": "execute_result"
    }
   ],
   "source": [
    "today = datetime.now()\n",
    "today"
   ]
  },
  {
   "cell_type": "markdown",
   "metadata": {},
   "source": [
    "<font size=3>\n",
    "    2. datetime.utcnow()<p/>\n",
    "    <b>作用：</b>返回一个datetime类型，表示当前日期和时间的UTC表示，精确到微秒。\n",
    "</font>"
   ]
  },
  {
   "cell_type": "code",
   "execution_count": 13,
   "metadata": {},
   "outputs": [
    {
     "name": "stdout",
     "output_type": "stream",
     "text": [
      "2018-09-30 01:40:30.416617\n"
     ]
    }
   ],
   "source": [
    "today = datetime.utcnow()\n",
    "print(today)"
   ]
  },
  {
   "cell_type": "markdown",
   "metadata": {},
   "source": [
    "<font size=3>\n",
    "    3. datetime()构造一个时间对象<p/>\n",
    "    <b>使用方法：</b>datetime(year, month, day, hour=0, minute=0,second=0, microsecond=0)<br>\n",
    "    <b>作用：</b>返回一个datetime类型，表示<font color=\"red\">指定</font>的日期和时间，精确到微秒。<br>\n",
    "</font>"
   ]
  },
  {
   "cell_type": "code",
   "execution_count": 14,
   "metadata": {},
   "outputs": [
    {
     "name": "stdout",
     "output_type": "stream",
     "text": [
      "2018-09-26 20:57:13.001000\n"
     ]
    }
   ],
   "source": [
    "someday = datetime(2018,9,26,20,57,13,1000)\n",
    "print(someday)"
   ]
  },
  {
   "cell_type": "code",
   "execution_count": 15,
   "metadata": {},
   "outputs": [
    {
     "data": {
      "text/plain": [
       "datetime.datetime(9999, 12, 31, 23, 59, 59, 999999)"
      ]
     },
     "execution_count": 15,
     "metadata": {},
     "output_type": "execute_result"
    }
   ],
   "source": [
    "someday.max"
   ]
  },
  {
   "cell_type": "code",
   "execution_count": 16,
   "metadata": {},
   "outputs": [
    {
     "data": {
      "text/plain": [
       "datetime.datetime(1, 1, 1, 0, 0)"
      ]
     },
     "execution_count": 16,
     "metadata": {},
     "output_type": "execute_result"
    }
   ],
   "source": [
    "someday.min"
   ]
  },
  {
   "cell_type": "code",
   "execution_count": 23,
   "metadata": {},
   "outputs": [
    {
     "data": {
      "text/plain": [
       "datetime.datetime(9999, 12, 31, 23, 59, 59, 999999)"
      ]
     },
     "execution_count": 23,
     "metadata": {},
     "output_type": "execute_result"
    }
   ],
   "source": [
    "today.max"
   ]
  },
  {
   "cell_type": "code",
   "execution_count": 22,
   "metadata": {},
   "outputs": [
    {
     "data": {
      "text/plain": [
       "26"
      ]
     },
     "execution_count": 22,
     "metadata": {},
     "output_type": "execute_result"
    }
   ],
   "source": [
    "someday.day"
   ]
  },
  {
   "cell_type": "code",
   "execution_count": 19,
   "metadata": {},
   "outputs": [
    {
     "data": {
      "text/plain": [
       "1000"
      ]
     },
     "execution_count": 19,
     "metadata": {},
     "output_type": "execute_result"
    }
   ],
   "source": [
    "someday.microsecond"
   ]
  },
  {
   "cell_type": "markdown",
   "metadata": {},
   "source": [
    "<font size=4 color=\"blue\"><b>时间格式化</b></font>"
   ]
  },
  {
   "cell_type": "markdown",
   "metadata": {},
   "source": [
    "|属性|描述|\n",
    "|--|--|\n",
    "|someday.isoformat()|采用ISO8601标准显示时间|\n",
    "|someday.isoweekday()|根据日期计算星期后返回1~7，对应星期一到星期日|\n",
    "|someday.strfime(format)|根据格式化字符串format进行格式显示|"
   ]
  },
  {
   "cell_type": "code",
   "execution_count": 24,
   "metadata": {},
   "outputs": [
    {
     "data": {
      "text/plain": [
       "'2018-09-27T09:30:27.000007'"
      ]
     },
     "execution_count": 24,
     "metadata": {},
     "output_type": "execute_result"
    }
   ],
   "source": [
    "otherday = datetime(2018,9,27,9,30,27,7)\n",
    "otherday.isoformat()"
   ]
  },
  {
   "cell_type": "code",
   "execution_count": 25,
   "metadata": {},
   "outputs": [
    {
     "data": {
      "text/plain": [
       "4"
      ]
     },
     "execution_count": 25,
     "metadata": {},
     "output_type": "execute_result"
    }
   ],
   "source": [
    "otherday.isoweekday()"
   ]
  },
  {
   "cell_type": "markdown",
   "metadata": {},
   "source": [
    "<img src=\"figs/tab5-3.jpg\" />"
   ]
  },
  {
   "cell_type": "code",
   "execution_count": 33,
   "metadata": {},
   "outputs": [
    {
     "data": {
      "text/plain": [
       "'September/27,2018 AM09:30:27, Thu'"
      ]
     },
     "execution_count": 33,
     "metadata": {},
     "output_type": "execute_result"
    }
   ],
   "source": [
    "otherday.strftime(\"%B/%d,%Y %p%I:%M:%S, %a\")"
   ]
  },
  {
   "cell_type": "markdown",
   "metadata": {},
   "source": [
    "<table align=\"left\">\n",
    "    <tr>\n",
    "        <td><img src=\"figs/why.jpg\" width=\"50px\" height=\"50px\"/></td>\n",
    "        <td><font size=3><b>利用datetime库输出当前系统时间的5种不同日期格式</b></font></td>\n",
    "    </tr>\n",
    "</table>"
   ]
  },
  {
   "cell_type": "code",
   "execution_count": null,
   "metadata": {},
   "outputs": [],
   "source": []
  },
  {
   "cell_type": "markdown",
   "metadata": {},
   "source": [
    "# 实例7：七段数码管绘制"
   ]
  },
  {
   "cell_type": "markdown",
   "metadata": {},
   "source": [
    "<font color=\"red\" size=3>该问题的IPO描述：</font><p/>\n",
    "<b>输入：</b>当前日期的数字形式<br>\n",
    "<b>处理：</b>根据每个数字绘制七段数码管表示<br>\n",
    "<b>输出：</b>绘制当前日期的七段数码管表示"
   ]
  },
  {
   "cell_type": "markdown",
   "metadata": {},
   "source": [
    "<img src=\"figs/fig5-6.jpg\" width=\"100px\" height=\"100px\" align=\"left\"/>"
   ]
  },
  {
   "cell_type": "code",
   "execution_count": null,
   "metadata": {},
   "outputs": [],
   "source": [
    "import turtle, datetime\n",
    "def drawLine(draw):   #绘制单段数码管\n",
    "    turtle.pendown() if draw else turtle.penup()\n",
    "    turtle.fd(40)\n",
    "    turtle.right(90)\n",
    "def drawDigit(digit): #根据数字绘制七段数码管\n",
    "    drawLine(True) if digit in [2,3,4,5,6,8,9] else drawLine(False)\n",
    "    drawLine(True) if digit in [0,1,3,4,5,6,7,8,9] else drawLine(False)\n",
    "    drawLine(True) if digit in [0,2,3,5,6,8,9] else drawLine(False)\n",
    "    drawLine(True) if digit in [0,2,6,8] else drawLine(False)\n",
    "    turtle.left(90)\n",
    "    drawLine(True) if digit in [0,4,5,6,8,9] else drawLine(False)\n",
    "    drawLine(True) if digit in [0,2,3,5,6,7,8,9] else drawLine(False)\n",
    "    drawLine(True) if digit in [0,1,2,3,4,7,8,9] else drawLine(False)\n",
    "    turtle.left(180)\n",
    "    turtle.penup()\n",
    "    turtle.fd(20) \n",
    "def drawDate(date):  #获得要输出的数字\n",
    "    for i in date:\n",
    "        drawDigit(eval(i))  #注意: 通过eval()函数将数字变为整数\n",
    "def main():\n",
    "    turtle.setup(800, 350, 200, 200)\n",
    "    turtle.penup()\n",
    "    turtle.fd(-300)\n",
    "    turtle.pensize(5)\n",
    "    drawDate(datetime.datetime.now().strftime('%Y%m%d'))\n",
    "    turtle.hideturtle()\n",
    "    turtle.done()\n",
    "main()    "
   ]
  },
  {
   "cell_type": "markdown",
   "metadata": {},
   "source": [
    "<font size=4 color=\"red\">另一种风格的七段数码管</font>"
   ]
  },
  {
   "cell_type": "code",
   "execution_count": null,
   "metadata": {},
   "outputs": [],
   "source": [
    "import turtle, datetime\n",
    "def drawGap(): #绘制数码管间隔\n",
    "    turtle.penup()\n",
    "    turtle.fd(5)\n",
    "def drawLine(draw):   #绘制单段数码管\n",
    "    drawGap()\n",
    "    turtle.pendown() if draw else turtle.penup()\n",
    "    turtle.fd(40)\n",
    "    drawGap()    \n",
    "    turtle.right(90)\n",
    "def drawDigit(d): #根据数字绘制七段数码管\n",
    "    drawLine(True) if d in [2,3,4,5,6,8,9] else drawLine(False)\n",
    "    drawLine(True) if d in [0,1,3,4,5,6,7,8,9] else drawLine(False)\n",
    "    drawLine(True) if d in [0,2,3,5,6,8,9] else drawLine(False)\n",
    "    drawLine(True) if d in [0,2,6,8] else drawLine(False)\n",
    "    turtle.left(90)\n",
    "    drawLine(True) if d in [0,4,5,6,8,9] else drawLine(False)\n",
    "    drawLine(True) if d in [0,2,3,5,6,7,8,9] else drawLine(False)\n",
    "    drawLine(True) if d in [0,1,2,3,4,7,8,9] else drawLine(False)\n",
    "    turtle.left(180)\n",
    "    turtle.penup()\n",
    "    turtle.fd(20) \n",
    "def drawDate(date):\n",
    "    turtle.pencolor(\"red\")\n",
    "    for i in date:\n",
    "        if i == '-':\n",
    "            turtle.write('年',font=(\"Arial\", 18, \"normal\"))\n",
    "            turtle.pencolor(\"green\")\n",
    "            turtle.fd(40) \n",
    "        elif i == '=':\n",
    "            turtle.write('月',font=(\"Arial\", 18, \"normal\"))\n",
    "            turtle.pencolor(\"blue\")\n",
    "            turtle.fd(40)\n",
    "        elif i == '+':\n",
    "            turtle.write('日',font=(\"Arial\", 18, \"normal\"))\n",
    "        else:\n",
    "            drawDigit(eval(i))\n",
    "def main():\n",
    "    turtle.setup(800, 350, 200, 200)\n",
    "    turtle.penup()\n",
    "    turtle.fd(-350)\n",
    "    turtle.pensize(5)\n",
    "    drawDate(datetime.datetime.now().strftime('%Y-%m=%d+'))\n",
    "    turtle.hideturtle()\n",
    "    turtle.done()\n",
    "main()    "
   ]
  },
  {
   "cell_type": "markdown",
   "metadata": {},
   "source": [
    "# 代码复用和模块化设计"
   ]
  },
  {
   "cell_type": "markdown",
   "metadata": {},
   "source": [
    "函数是程序的一种基本抽象方式，<b>它将一系列代码组织起来通过命名供其他程序使用</b>。<br>\n",
    "函数封装的直接好处是<b>代码复用</b>，任何其他代码只要输入参数即可调用函数，从而避免相同功能代码在被调用处重复编写。<br>\n",
    "代码复用产生了另一个好处，<b>当更新函数功能时，所有被调用处的功能都被更新。</b>"
   ]
  },
  {
   "cell_type": "markdown",
   "metadata": {},
   "source": [
    "<font color=\"red\">模块化</font>\n",
    "当程序的长度在百行以上，如果不划分模块就算是最好的程序员也很难理解程序含义。<br>\n",
    "解决<b>程序的可读性很糟糕</b>这一问题的最好方法是将一个程序分割成短小的程序段。<br>\n",
    "每一段程序完成一个小的功能。\n",
    "无论面向过程和面向对象编程，对程序合理划分功能模块并基于模块设计程序是一种常用方法，\n",
    "被称为<b>“模块化设计”</b>。"
   ]
  },
  {
   "cell_type": "markdown",
   "metadata": {},
   "source": [
    "<b>模块化设计</b>一般有两个基本要求：\n",
    "<li><font color=\"red\"><b>紧耦合</b></font>：尽可能合理划分功能块，功能块内部耦合紧密；</li>\n",
    "<li><font color=\"red\"><b>松耦合：</b></font>模块间关系尽可能简单，功能块之间耦合度低。</li>\n",
    "<p/>使用函数只是模块化设计的必要非充分条件，根据计算需求合理划分函数十分重要。一般来说，完成特定功能或被经常复用的一组语句应该采用函数来封装，并尽可能减少函数间参数和返回值的数量。"
   ]
  },
  {
   "cell_type": "markdown",
   "metadata": {},
   "source": [
    "# 函数的递归"
   ]
  },
  {
   "cell_type": "markdown",
   "metadata": {},
   "source": [
    "## 递归的定义"
   ]
  },
  {
   "cell_type": "markdown",
   "metadata": {},
   "source": [
    "函数作为一种代码封装，可以被其他程序调用，当然，也可以被函数内部代码调用。这种函数定义中调用函数自身的方式称为递归。就像一个人站在装满镜子的房间中，看到的影像就是递归的结果。递归在数学和计算机应用上非常强大，能够非常<b>简洁的解决重要问题</b>。"
   ]
  },
  {
   "cell_type": "markdown",
   "metadata": {},
   "source": [
    "阶乘通常定义为：\n",
    "$$ n!=n \\left( n-1 \\right) \\left( n-2 \\right) \\cdots \\left( 1 \\right) $$"
   ]
  },
  {
   "cell_type": "markdown",
   "metadata": {},
   "source": [
    "另一种阶乘的定义：\n",
    "$$ n! = \\begin{equation}\n",
    "      \\left\\{\n",
    "      \\begin{array}{lr}\n",
    "      1\\ n=0 & \\\\\n",
    "      n(n-1)\\ otherwise &\n",
    "      \\end{array}\n",
    "      \\right.\n",
    "      \\end{equation}$$"
   ]
  },
  {
   "cell_type": "markdown",
   "metadata": {},
   "source": [
    "<b>递归的<font color=\"red\">两个关键</b></font>:<p/>\n",
    "<li>（1）存在一个或多个基例，基例不需要再次递归。</li>\n",
    "<li>（2）所有递归链要以一个或多个基例结尾。</li>\n",
    "    "
   ]
  },
  {
   "cell_type": "code",
   "execution_count": null,
   "metadata": {},
   "outputs": [],
   "source": [
    "#【微实例5.2】阶乘的计算\n",
    "def fact(n):\n",
    "    if n == 0:\n",
    "        return 1\n",
    "    else:\n",
    "        return n * fact(n-1)\n",
    "num = eval(input(\"请输入一个整数：\"))\n",
    "print(fact(abs(int(num))))"
   ]
  },
  {
   "cell_type": "markdown",
   "metadata": {},
   "source": [
    "<table align=\"left\">\n",
    "    <tr>\n",
    "        <td><img src=\"figs/question.jpg\" width=60px hight=60px></td>\n",
    "        <td>修改上面的代码，使仅能计算非负整数的阶乘</td>\n",
    "    <tr>\n",
    "</table>"
   ]
  },
  {
   "cell_type": "code",
   "execution_count": null,
   "metadata": {},
   "outputs": [],
   "source": [
    "def fact(n):\n",
    "    if n == 0:\n",
    "        return 1\n",
    "    else:\n",
    "        return n * fact(n-1)\n",
    "try:\n",
    "    num = int(input(\"请输入一个整数：\"))\n",
    "    print(fact(num))\n",
    "except:\n",
    "    print(\"输入非法\")"
   ]
  },
  {
   "cell_type": "markdown",
   "metadata": {},
   "source": [
    "<img src=\"figs/fig5-9.jpg\"></img>"
   ]
  },
  {
   "cell_type": "markdown",
   "metadata": {},
   "source": [
    "【微实例5.3】字符串反转<p/>\n",
    "对于用户输入的字符串s,输出反转后的字符串。"
   ]
  },
  {
   "cell_type": "code",
   "execution_count": null,
   "metadata": {},
   "outputs": [],
   "source": [
    "def reverse(s):\n",
    "    return reverse(s[1:]) + s[0]"
   ]
  },
  {
   "cell_type": "code",
   "execution_count": null,
   "metadata": {},
   "outputs": [],
   "source": [
    "reverse(\"ABC\")"
   ]
  },
  {
   "cell_type": "markdown",
   "metadata": {},
   "source": [
    "<table align=\"left\">\n",
    "    <tr>\n",
    "        <td><img src=\"figs/question.jpg\" width=60px hight=60px></img></td>\n",
    "        <td><font size=3><b>还有其它的方法反转字符串吗？</b></font></td>\n",
    "    </tr>\n",
    "</table>"
   ]
  },
  {
   "cell_type": "code",
   "execution_count": null,
   "metadata": {},
   "outputs": [],
   "source": [
    "def reverse(s):\n",
    "    return s[::-1]\n",
    "reverse(\"ABC\")"
   ]
  },
  {
   "cell_type": "markdown",
   "metadata": {},
   "source": [
    "# 实例8：科赫曲线绘制"
   ]
  },
  {
   "cell_type": "markdown",
   "metadata": {},
   "source": [
    "<b>科赫(Koch)曲线</b>在众多经典数学曲线中非常著名，由瑞典数学家冯·科赫(H·V·Koch)于1904年提出，由于其形状类似雪花，也被称为<b>雪花曲线</b>。"
   ]
  },
  {
   "cell_type": "markdown",
   "metadata": {},
   "source": [
    "科赫曲线的<b>基本概念和绘制方法</b>如下：\n",
    "正整数n代表科赫曲线的阶数，表示生成科赫曲线过程的操作次数。科赫曲线初始化阶数为0，表示一个长度为L的直线。对于直线L，将其等分为三段，中间一段用边长为L/3的等边三角形的两个边替代，得到1阶科赫曲线，它包含四条线段。进一步对每条线段重复同样的操作后得到2阶科赫曲线。继续重复同样的操作n次可以得到n阶科赫曲线。"
   ]
  },
  {
   "cell_type": "markdown",
   "metadata": {},
   "source": [
    "<img src=\"figs/fig5-10.jpg\" width=400px height=300px />"
   ]
  },
  {
   "cell_type": "code",
   "execution_count": null,
   "metadata": {},
   "outputs": [],
   "source": [
    "import turtle\n",
    "def koch(size, n):\n",
    "    if n == 0:\n",
    "        turtle.fd(size)\n",
    "    else:\n",
    "        for angle in [0, 60, -120, 60]:\n",
    "           turtle.left(angle)\n",
    "           koch(size/3, n-1)\n",
    "def main():\n",
    "    turtle.setup(800,400)\n",
    "    turtle.speed(0)\n",
    "    turtle.penup()\n",
    "    turtle.goto(-300, -50)\n",
    "    turtle.pendown()\n",
    "    turtle.pensize(2)\n",
    "    koch(600,3)     # 0阶科赫曲线长度，阶数\n",
    "    turtle.hideturtle()\n",
    "    turtle.done()\n",
    "main()"
   ]
  },
  {
   "cell_type": "code",
   "execution_count": null,
   "metadata": {},
   "outputs": [],
   "source": [
    "import turtle\n",
    "def koch(size, n):\n",
    "    if n == 0:\n",
    "        turtle.fd(size)\n",
    "    else:\n",
    "        for angle in [0, 60, -120, 60]:\n",
    "           turtle.left(angle)\n",
    "           koch(size/3, n-1)\n",
    "def main():\n",
    "    turtle.setup(600,600)\n",
    "    turtle.speed(0)\n",
    "    turtle.penup()\n",
    "    turtle.goto(-200, 100)\n",
    "    turtle.pendown()\n",
    "    turtle.pensize(2)\n",
    "    level = 5\n",
    "    koch(400,level)     # 0阶科赫曲线长度，阶数\n",
    "    turtle.right(120)\n",
    "    koch(400,level)\n",
    "    turtle.right(120)\n",
    "    koch(400,level)\n",
    "    turtle.hideturtle()\n",
    "    turtle.done()\n",
    "main()"
   ]
  },
  {
   "cell_type": "markdown",
   "metadata": {},
   "source": [
    "<table align=\"left\">\n",
    "    <tr>\n",
    "        <td><img src=\"figs/question.jpg\" width=60px hight=60px></img></td>\n",
    "        <td><font size=3><b>反向绘制科赫曲线，从直线开始，中间部分向下方绘制</b></font></td>\n",
    "    </tr>\n",
    "</table>"
   ]
  },
  {
   "cell_type": "markdown",
   "metadata": {},
   "source": [
    "# Python内置函数"
   ]
  },
  {
   "cell_type": "code",
   "execution_count": null,
   "metadata": {},
   "outputs": [],
   "source": [
    "ls = [1,2,5,0]\n",
    "all(ls)"
   ]
  },
  {
   "cell_type": "code",
   "execution_count": null,
   "metadata": {},
   "outputs": [],
   "source": [
    "any(ls)"
   ]
  },
  {
   "cell_type": "code",
   "execution_count": null,
   "metadata": {},
   "outputs": [],
   "source": [
    "hash(\"中国，你好\")"
   ]
  },
  {
   "cell_type": "code",
   "execution_count": null,
   "metadata": {},
   "outputs": [],
   "source": [
    "id(ls)"
   ]
  },
  {
   "cell_type": "code",
   "execution_count": null,
   "metadata": {},
   "outputs": [],
   "source": [
    "list(reversed(ls))"
   ]
  },
  {
   "cell_type": "code",
   "execution_count": null,
   "metadata": {},
   "outputs": [],
   "source": [
    "sorted(ls)"
   ]
  },
  {
   "cell_type": "code",
   "execution_count": null,
   "metadata": {},
   "outputs": [],
   "source": [
    "ls"
   ]
  },
  {
   "cell_type": "code",
   "execution_count": null,
   "metadata": {},
   "outputs": [],
   "source": [
    "sorted(ls, reverse=True)"
   ]
  },
  {
   "cell_type": "code",
   "execution_count": null,
   "metadata": {},
   "outputs": [],
   "source": [
    "type(ls)"
   ]
  },
  {
   "cell_type": "code",
   "execution_count": null,
   "metadata": {},
   "outputs": [],
   "source": [
    "type(reversed(ls))"
   ]
  },
  {
   "cell_type": "markdown",
   "metadata": {},
   "source": [
    "## 例题"
   ]
  },
  {
   "cell_type": "markdown",
   "metadata": {},
   "source": [
    "【Hanoi塔问题】A、B、C三根柱子，A柱子上有64个盘子，盘子大小不一，小的在上，大的在下，要求把A柱子上的盘子借助B柱子移到C柱子上，仍为小上大下，移动规则一次移动一个盘子，每移动一次，三根柱子上的盘子都是小上大下？"
   ]
  },
  {
   "cell_type": "markdown",
   "metadata": {},
   "source": [
    "【思路分析】把64个盘子看做两份，最下面最大的一个盘子看作一份（不妨记作D1)，把上面63块盘子看作一个盘子（不妨记作D2）。移动的次序如下：<p/>\n",
    "1）把D2从A柱移动到B柱，需借助C柱；<br>\n",
    "2）把D1从A柱移动到C柱；<br>\n",
    "3）把D2从B柱移动到C柱，需借助A柱。任务完成。<br>"
   ]
  },
  {
   "cell_type": "markdown",
   "metadata": {},
   "source": [
    "那如何把D2的63块盘子从A柱移动到B柱，从B柱移动到C柱？可以重复刚才三个步骤，直到D2只有一块盘子。这就是递归的解题思路。"
   ]
  },
  {
   "cell_type": "code",
   "execution_count": 3,
   "metadata": {},
   "outputs": [
    {
     "name": "stdout",
     "output_type": "stream",
     "text": [
      "移动No.1： A -->C\n",
      "移动No.2： A -->B\n",
      "移动No.1： C -->B\n",
      "移动No.3： A -->C\n",
      "移动No.1： B -->A\n",
      "移动No.2： B -->C\n",
      "移动No.1： A -->C\n"
     ]
    }
   ],
   "source": [
    "#从a柱借助b柱移动移动n块盘子到c柱\n",
    "def move(n,a,b,c):\n",
    "    if n == 1: #只有一块盘子，直接移动\n",
    "        print(\"移动No.{}： {} -->{}\".format(n,a,c))\n",
    "    else:\n",
    "        move(n-1,a,c,b)\n",
    "        print(\"移动No.{}： {} -->{}\".format(n,a,c))\n",
    "        move(n-1,b,a,c)\n",
    "move(3,'A','B','C')"
   ]
  }
 ],
 "metadata": {
  "kernelspec": {
   "display_name": "Python 3",
   "language": "python",
   "name": "python3"
  },
  "language_info": {
   "codemirror_mode": {
    "name": "ipython",
    "version": 3
   },
   "file_extension": ".py",
   "mimetype": "text/x-python",
   "name": "python",
   "nbconvert_exporter": "python",
   "pygments_lexer": "ipython3",
   "version": "3.6.5"
  },
  "toc": {
   "base_numbering": 1,
   "nav_menu": {},
   "number_sections": true,
   "sideBar": true,
   "skip_h1_title": false,
   "title_cell": "Table of Contents",
   "title_sidebar": "Contents",
   "toc_cell": false,
   "toc_position": {},
   "toc_section_display": true,
   "toc_window_display": false
  }
 },
 "nbformat": 4,
 "nbformat_minor": 2
}
