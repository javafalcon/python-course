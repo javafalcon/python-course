{
 "cells": [
  {
   "cell_type": "markdown",
   "metadata": {},
   "source": [
    "# 将元组 (1,2,3) 和集合 {4,5,6} 合并成一个列表。"
   ]
  },
  {
   "cell_type": "code",
   "execution_count": 26,
   "metadata": {},
   "outputs": [
    {
     "name": "stdout",
     "output_type": "stream",
     "text": [
      "[1, 2, 3, 4, 5, 6]\n",
      "None\n"
     ]
    }
   ],
   "source": [
    "list((1,2,3))+list({4,5,6})"
   ]
  },
  {
   "cell_type": "code",
   "execution_count": 27,
   "metadata": {},
   "outputs": [
    {
     "data": {
      "text/plain": [
       "[1, 2, 3, 4, 5, 6]"
      ]
     },
     "execution_count": 27,
     "metadata": {},
     "output_type": "execute_result"
    }
   ],
   "source": [
    "a = list((1,2,3))\n",
    "a.extend(list({4,5,6}))\n",
    "print(a)"
   ]
  },
  {
   "cell_type": "markdown",
   "metadata": {},
   "source": [
    "# 在列表 [1,2,3,4,5,6] 首尾分别添加整型元素 7 和 0。"
   ]
  },
  {
   "cell_type": "code",
   "execution_count": 4,
   "metadata": {},
   "outputs": [
    {
     "name": "stdout",
     "output_type": "stream",
     "text": [
      "[7, 1, 2, 3, 4, 5, 6, 0]\n"
     ]
    }
   ],
   "source": [
    "a = [1,2,3,4,5,6]\n",
    "a.insert(0,7)\n",
    "a.append(0)\n",
    "print(a)"
   ]
  },
  {
   "cell_type": "markdown",
   "metadata": {},
   "source": [
    "# 反转列表 [0,1,2,3,4,5,6,7]"
   ]
  },
  {
   "cell_type": "code",
   "execution_count": 10,
   "metadata": {},
   "outputs": [
    {
     "name": "stdout",
     "output_type": "stream",
     "text": [
      "[0, 1, 2, 3, 4, 5, 6, 7]\n",
      "[7, 6, 5, 4, 3, 2, 1, 0]\n"
     ]
    }
   ],
   "source": [
    "a = [0,1,2,3,4,5,6,7]\n",
    "b = a[::-1]\n",
    "print(a)\n",
    "print(b)"
   ]
  },
  {
   "cell_type": "code",
   "execution_count": 13,
   "metadata": {},
   "outputs": [
    {
     "name": "stdout",
     "output_type": "stream",
     "text": [
      "[7, 6, 5, 4, 3, 2, 1, 0]\n"
     ]
    }
   ],
   "source": [
    "a = [0,1,2,3,4,5,6,7]\n",
    "b = reversed(a)\n",
    "print(list(b))"
   ]
  },
  {
   "cell_type": "code",
   "execution_count": 14,
   "metadata": {},
   "outputs": [
    {
     "name": "stdout",
     "output_type": "stream",
     "text": [
      "[7, 6, 5, 4, 3, 2, 1, 0]\n"
     ]
    }
   ],
   "source": [
    "a = [0,1,2,3,4,5,6,7]\n",
    "a.reverse()\n",
    "print(a)"
   ]
  },
  {
   "cell_type": "markdown",
   "metadata": {},
   "source": [
    "# 反转列表 [0,1,2,3,4,5,6,7] 后给出中元素 5 的索引号。"
   ]
  },
  {
   "cell_type": "code",
   "execution_count": 20,
   "metadata": {},
   "outputs": [
    {
     "name": "stdout",
     "output_type": "stream",
     "text": [
      "2\n"
     ]
    }
   ],
   "source": [
    "a = [0,1,2,3,4,5,6,7]\n",
    "a.reverse()\n",
    "print(a.index(5))"
   ]
  },
  {
   "cell_type": "markdown",
   "metadata": {},
   "source": [
    "# 分别统计列表 [True,False,0,1,2] 中 True,False,0,1,2的元素个数，发现了什么？"
   ]
  },
  {
   "cell_type": "code",
   "execution_count": 21,
   "metadata": {},
   "outputs": [
    {
     "name": "stdout",
     "output_type": "stream",
     "text": [
      "2\n",
      "2\n",
      "2\n",
      "2\n",
      "1\n"
     ]
    }
   ],
   "source": [
    "a = [True, False, 0, 1, 2]\n",
    "print(a.count(True))\n",
    "print(a.count(False))\n",
    "print(a.count(0))\n",
    "print(a.count(1))\n",
    "print(a.count(2))\n"
   ]
  },
  {
   "cell_type": "code",
   "execution_count": null,
   "metadata": {},
   "outputs": [],
   "source": [
    "# 结论： count不区分True和1，False和0"
   ]
  },
  {
   "cell_type": "markdown",
   "metadata": {},
   "source": [
    "# 从列表 [True,1,0,‘x’,None,‘x’,False,2,True] 中删除元素‘x’。"
   ]
  },
  {
   "cell_type": "code",
   "execution_count": 29,
   "metadata": {},
   "outputs": [
    {
     "name": "stdout",
     "output_type": "stream",
     "text": [
      "[True, 1, 0, None, False, 2, True]\n"
     ]
    }
   ],
   "source": [
    "a =  [True,1,0,'x',None,'x',False,2,True]\n",
    "while True:\n",
    "    try:\n",
    "        a.remove('x')\n",
    "    except ValueError:\n",
    "        break\n",
    "print(a)"
   ]
  },
  {
   "cell_type": "markdown",
   "metadata": {},
   "source": [
    "# 从列表 [True,1,0,‘x’,None,‘x’,False,2,True] 中删除索引号为4的元素。"
   ]
  },
  {
   "cell_type": "code",
   "execution_count": 34,
   "metadata": {},
   "outputs": [
    {
     "name": "stdout",
     "output_type": "stream",
     "text": [
      "[True, 1, 0, 'x', 'x', False, 2, True]\n"
     ]
    }
   ],
   "source": [
    "a =  [True,1,0,'x',None,'x',False,2,True]\n",
    "a.pop(4)\n",
    "print(a)"
   ]
  },
  {
   "cell_type": "markdown",
   "metadata": {},
   "source": [
    "# 删除列表中索引号为奇数（或偶数）的元素。"
   ]
  },
  {
   "cell_type": "code",
   "execution_count": 46,
   "metadata": {},
   "outputs": [
    {
     "name": "stdout",
     "output_type": "stream",
     "text": [
      "原始列表是：\n",
      "[True, 1, 0, 'x', None, 'x', False, 2, True]\n",
      "删除索引号为奇数的元素后：\n",
      "[True, 0, None, False, True]\n"
     ]
    }
   ],
   "source": [
    "a = [True,1,0,'x',None,'x',False,2,True]\n",
    "print(\"原始列表是：\")\n",
    "print(a)\n",
    "indx = list(range(1,len(a),2))\n",
    "indx.reverse()\n",
    "for k in indx:\n",
    "    a.pop(k)\n",
    "print(\"删除索引号为奇数的元素后：\")\n",
    "print(a)"
   ]
  },
  {
   "cell_type": "markdown",
   "metadata": {},
   "source": [
    "# 清空列表中的所有元素。"
   ]
  },
  {
   "cell_type": "code",
   "execution_count": 47,
   "metadata": {},
   "outputs": [
    {
     "data": {
      "text/plain": [
       "[]"
      ]
     },
     "execution_count": 47,
     "metadata": {},
     "output_type": "execute_result"
    }
   ],
   "source": [
    "a = [True,1,0,'x',None,'x',False,2,True]\n",
    "a.clear()\n",
    "a"
   ]
  },
  {
   "cell_type": "markdown",
   "metadata": {},
   "source": [
    "# 对列表 [3,0,8,5,7] 分别做升序和降序排列。"
   ]
  },
  {
   "cell_type": "code",
   "execution_count": 48,
   "metadata": {},
   "outputs": [
    {
     "name": "stdout",
     "output_type": "stream",
     "text": [
      "升序排序结果：\n",
      "[0, 3, 5, 7, 8]\n",
      "降序排序结果：\n",
      "[8, 7, 5, 3, 0]\n"
     ]
    }
   ],
   "source": [
    "a = [3,0,8,5,7]\n",
    "a.sort()\n",
    "print(\"升序排序结果：\")\n",
    "print(a)\n",
    "\n",
    "a = [3,0,8,5,7]\n",
    "a.sort(reverse=True)\n",
    "print(\"降序排序结果：\")\n",
    "print(a)"
   ]
  },
  {
   "cell_type": "code",
   "execution_count": 53,
   "metadata": {},
   "outputs": [
    {
     "name": "stdout",
     "output_type": "stream",
     "text": [
      "升序排序结果：\n",
      "[0, 3, 5, 7, 8]\n",
      "降序排序结果：\n",
      "[8, 7, 5, 3, 0]\n",
      "元素列表：\n",
      "[3, 0, 8, 5, 7]\n"
     ]
    }
   ],
   "source": [
    "a = [3,0,8,5,7]\n",
    "b = sorted(a)\n",
    "print(\"升序排序结果：\")\n",
    "print(b)\n",
    "\n",
    "c = sorted(a,reverse=True)\n",
    "print(\"降序排序结果：\")\n",
    "print(c)\n",
    "\n",
    "print(\"原始列表：\")\n",
    "print(a)"
   ]
  },
  {
   "cell_type": "markdown",
   "metadata": {},
   "source": [
    "# 将列表 [3,0,8,5,7] 中大于 5 元素置为1，其余元素置为0"
   ]
  },
  {
   "cell_type": "code",
   "execution_count": 54,
   "metadata": {},
   "outputs": [
    {
     "name": "stdout",
     "output_type": "stream",
     "text": [
      "[0, 0, 1, 0, 1]\n"
     ]
    }
   ],
   "source": [
    "a = [3,0,8,5,7]\n",
    "for i in range(len(a)):\n",
    "    if a[i] > 5:\n",
    "        a[i] = 1\n",
    "    else:\n",
    "        a[i] = 0\n",
    "print(a)"
   ]
  },
  {
   "cell_type": "markdown",
   "metadata": {},
   "source": [
    "# 遍历列表 [‘x’,‘y’,‘z’]，打印每一个元素及其对应的索引号。"
   ]
  },
  {
   "cell_type": "code",
   "execution_count": 56,
   "metadata": {},
   "outputs": [
    {
     "name": "stdout",
     "output_type": "stream",
     "text": [
      "x --> 0\n",
      "y --> 1\n",
      "z --> 2\n"
     ]
    }
   ],
   "source": [
    "a = ['x','y','z']\n",
    "for i in range(len(a)):\n",
    "    print(\"{} --> {}\".format(a[i],i))"
   ]
  },
  {
   "cell_type": "markdown",
   "metadata": {},
   "source": [
    "# 将列表 [0, 1, 2, 3, 4, 5, 6, 7, 8, 9] 拆分为奇数组和偶数组两个列表。"
   ]
  },
  {
   "cell_type": "code",
   "execution_count": 57,
   "metadata": {},
   "outputs": [
    {
     "name": "stdout",
     "output_type": "stream",
     "text": [
      "奇数组：\n",
      "[1, 3, 5, 7, 9]\n",
      "偶数组：\n",
      "[0, 2, 4, 6, 8]\n"
     ]
    }
   ],
   "source": [
    "a = [0,1,2,3,4,5,6,7,8,9]\n",
    "even,odd = [],[]\n",
    "for e in a:\n",
    "    if e%2 == 1:\n",
    "        odd.append(e)\n",
    "    else:\n",
    "        even.append(e)\n",
    "print(\"奇数组：\")\n",
    "print(odd)\n",
    "print(\"偶数组：\")\n",
    "print(even)"
   ]
  },
  {
   "cell_type": "markdown",
   "metadata": {},
   "source": [
    "# 分别根据每一行的首元素和尾元素大小对二维列表 [[6, 5], [3, 7], [2, 8]] 排序。"
   ]
  },
  {
   "cell_type": "code",
   "execution_count": 58,
   "metadata": {},
   "outputs": [
    {
     "name": "stdout",
     "output_type": "stream",
     "text": [
      "按每一行首元素大小对二维列表排序：\n",
      "[[2, 8], [3, 7], [6, 5]]\n",
      "按每一行尾元素大小对二维列表排序：\n",
      "[[6, 5], [3, 7], [2, 8]]\n"
     ]
    }
   ],
   "source": [
    "a = [[6, 5], [3, 7], [2, 8]]\n",
    "b = sorted(a, key=lambda x: x[0])\n",
    "print(\"按每一行首元素大小对二维列表排序：\")\n",
    "print(b)\n",
    "c = sorted(a, key = lambda x: x[-1])\n",
    "print(\"按每一行尾元素大小对二维列表排序：\")\n",
    "print(c)"
   ]
  },
  {
   "cell_type": "markdown",
   "metadata": {},
   "source": [
    "# 从列表 [1,4,7,2,5,8] 索引为3的位置开始，依次插入列表 [‘x’,‘y’,‘z’] 的所有元素。"
   ]
  },
  {
   "cell_type": "code",
   "execution_count": 60,
   "metadata": {},
   "outputs": [
    {
     "data": {
      "text/plain": [
       "[1, 4, 7, 'x', 'y', 'z', 2, 5, 8]"
      ]
     },
     "execution_count": 60,
     "metadata": {},
     "output_type": "execute_result"
    }
   ],
   "source": [
    "a = [1,4,7,2,5,8]\n",
    "b = ['x','y','z']\n",
    "i = 3\n",
    "for e in b:\n",
    "    a.insert(i,e)\n",
    "    i += 1\n",
    "a"
   ]
  },
  {
   "cell_type": "markdown",
   "metadata": {},
   "source": [
    "# 快速生成由 [5,50) 区间内的整数组成的列表。"
   ]
  },
  {
   "cell_type": "code",
   "execution_count": 61,
   "metadata": {},
   "outputs": [],
   "source": [
    "a = list(range(5,50))"
   ]
  },
  {
   "cell_type": "markdown",
   "metadata": {},
   "source": [
    "# 若 a = [1,2,3]，令 b = a，执行 b[0] = 9， a[0]亦被改变。为何？如何避免？"
   ]
  },
  {
   "cell_type": "code",
   "execution_count": 64,
   "metadata": {},
   "outputs": [
    {
     "data": {
      "text/plain": [
       "[1, 2, 3]"
      ]
     },
     "execution_count": 64,
     "metadata": {},
     "output_type": "execute_result"
    }
   ],
   "source": [
    "# 原因：b和a指向同一个内存区域\n",
    "# 避免的方法，使用copy()函数\n",
    "a = [1,2,3]\n",
    "b = a.copy()\n",
    "b[0] = 9\n",
    "a"
   ]
  },
  {
   "cell_type": "markdown",
   "metadata": {},
   "source": [
    "# 将列表 [‘x’,‘y’,‘z’] 和 [1,2,3] 转成 [(‘x’,1),(‘y’,2),(‘z’,3)] 的形式。"
   ]
  },
  {
   "cell_type": "code",
   "execution_count": 65,
   "metadata": {},
   "outputs": [],
   "source": [
    "a = ['x','y','z']\n",
    "b = [1,2,3]\n",
    "c = list(zip(a,b))"
   ]
  },
  {
   "cell_type": "markdown",
   "metadata": {},
   "source": [
    "# 以列表形式返回字典 {‘Alice’: 20, ‘Beth’: 18, ‘Cecil’: 21} 中所有的键。"
   ]
  },
  {
   "cell_type": "code",
   "execution_count": 70,
   "metadata": {},
   "outputs": [
    {
     "name": "stdout",
     "output_type": "stream",
     "text": [
      "['Alice', 'Beth', 'Cecil']\n"
     ]
    }
   ],
   "source": [
    "d = {'Alice': 20, 'Beth': 18, 'Cecil': 21}\n",
    "ls = list(d.keys())\n",
    "print(ls)"
   ]
  },
  {
   "cell_type": "markdown",
   "metadata": {},
   "source": [
    "# 以列表形式返回字典 {‘Alice’: 20, ‘Beth’: 18, ‘Cecil’: 21} 中所有的值。"
   ]
  },
  {
   "cell_type": "code",
   "execution_count": 71,
   "metadata": {},
   "outputs": [
    {
     "name": "stdout",
     "output_type": "stream",
     "text": [
      "[20, 18, 21]\n"
     ]
    }
   ],
   "source": [
    "d = {'Alice': 20, 'Beth': 18, 'Cecil': 21}\n",
    "ls = list(d.values())\n",
    "print(ls)"
   ]
  },
  {
   "cell_type": "markdown",
   "metadata": {},
   "source": [
    "# 以列表形式返回字典 {‘Alice’: 20, ‘Beth’: 18, ‘Cecil’: 21} 中所有键值对组成的元组。"
   ]
  },
  {
   "cell_type": "code",
   "execution_count": 72,
   "metadata": {},
   "outputs": [
    {
     "name": "stdout",
     "output_type": "stream",
     "text": [
      "[('Alice', 20), ('Beth', 18), ('Cecil', 21)]\n"
     ]
    }
   ],
   "source": [
    "d = {'Alice': 20, 'Beth': 18, 'Cecil': 21}\n",
    "ls = list(d.items())\n",
    "print(ls)"
   ]
  },
  {
   "cell_type": "markdown",
   "metadata": {},
   "source": [
    "# 向字典 {‘Alice’: 20, ‘Beth’: 18, ‘Cecil’: 21} 中追加 ‘David’:19 键值对，更新Cecil的值为17。"
   ]
  },
  {
   "cell_type": "code",
   "execution_count": 75,
   "metadata": {},
   "outputs": [
    {
     "data": {
      "text/plain": [
       "{'Alice': 20, 'Beth': 18, 'Cecil': 17, 'David': 19}"
      ]
     },
     "execution_count": 75,
     "metadata": {},
     "output_type": "execute_result"
    }
   ],
   "source": [
    "d = {'Alice': 20, 'Beth': 18, 'Cecil': 21}\n",
    "d['David'] = 19\n",
    "d['Cecil'] = 17\n",
    "d"
   ]
  },
  {
   "cell_type": "markdown",
   "metadata": {},
   "source": [
    "# 删除字典 {‘Alice’: 20, ‘Beth’: 18, ‘Cecil’: 21} 中的Beth键后，清空该字典。"
   ]
  },
  {
   "cell_type": "code",
   "execution_count": 77,
   "metadata": {},
   "outputs": [
    {
     "name": "stdout",
     "output_type": "stream",
     "text": [
      "{'Alice': 20, 'Cecil': 21}\n",
      "{}\n"
     ]
    }
   ],
   "source": [
    "d = {'Alice': 20, 'Beth': 18, 'Cecil': 21}\n",
    "del d['Beth']\n",
    "print(d)\n",
    "d.clear()\n",
    "print(d)"
   ]
  },
  {
   "cell_type": "markdown",
   "metadata": {},
   "source": [
    "# 判断 David 和 Alice 是否在字典 {‘Alice’: 20, ‘Beth’: 18, ‘Cecil’: 21} 中。"
   ]
  },
  {
   "cell_type": "code",
   "execution_count": 78,
   "metadata": {},
   "outputs": [
    {
     "data": {
      "text/plain": [
       "False"
      ]
     },
     "execution_count": 78,
     "metadata": {},
     "output_type": "execute_result"
    }
   ],
   "source": [
    "d = {'Alice': 20, 'Beth': 18, 'Cecil': 21}\n",
    "'David' in d"
   ]
  },
  {
   "cell_type": "code",
   "execution_count": 79,
   "metadata": {},
   "outputs": [
    {
     "data": {
      "text/plain": [
       "True"
      ]
     },
     "execution_count": 79,
     "metadata": {},
     "output_type": "execute_result"
    }
   ],
   "source": [
    "'Alice' in d"
   ]
  },
  {
   "cell_type": "markdown",
   "metadata": {},
   "source": [
    "# 遍历字典 {‘Alice’: 20, ‘Beth’: 18, ‘Cecil’: 21}，打印键值对。"
   ]
  },
  {
   "cell_type": "code",
   "execution_count": 80,
   "metadata": {},
   "outputs": [
    {
     "name": "stdout",
     "output_type": "stream",
     "text": [
      "Alice:20\n",
      "Beth:18\n",
      "Cecil:21\n"
     ]
    }
   ],
   "source": [
    "d = {'Alice': 20, 'Beth': 18, 'Cecil': 21}\n",
    "for k in d.keys():\n",
    "    print(\"{}:{}\".format(k,d[k]))"
   ]
  },
  {
   "cell_type": "markdown",
   "metadata": {},
   "source": [
    "# 若 a = dict()，令 b = a，执行 b.update({‘x’:1})， a亦被改变。为何？如何避免？"
   ]
  },
  {
   "cell_type": "code",
   "execution_count": 87,
   "metadata": {},
   "outputs": [
    {
     "data": {
      "text/plain": [
       "{'x': 1}"
      ]
     },
     "execution_count": 87,
     "metadata": {},
     "output_type": "execute_result"
    }
   ],
   "source": [
    "a = dict()\n",
    "b = a.copy()\n",
    "b.update({'x':1})\n",
    "b"
   ]
  },
  {
   "cell_type": "markdown",
   "metadata": {},
   "source": [
    "# 以列表 [‘A’,‘B’,‘C’,‘D’,‘E’,‘F’,‘G’,‘H’] 中的每一个元素为键，默认值都是0，创建一个字典。"
   ]
  },
  {
   "cell_type": "code",
   "execution_count": 89,
   "metadata": {},
   "outputs": [
    {
     "data": {
      "text/plain": [
       "{'A': 0, 'B': 0, 'C': 0, 'D': 0, 'E': 0, 'F': 0, 'G': 0, 'H': 0}"
      ]
     },
     "execution_count": 89,
     "metadata": {},
     "output_type": "execute_result"
    }
   ],
   "source": [
    "ls = ['A','B','C','D','E','F','G','H']\n",
    "d = {}\n",
    "for k in ls:\n",
    "    d[k] = 0\n",
    "d"
   ]
  },
  {
   "cell_type": "markdown",
   "metadata": {},
   "source": [
    "# 将二维结构 [[‘a’,1],[‘b’,2]] 和 ((‘x’,3),(‘y’,4)) 转成字典。"
   ]
  },
  {
   "cell_type": "code",
   "execution_count": 90,
   "metadata": {},
   "outputs": [
    {
     "name": "stdout",
     "output_type": "stream",
     "text": [
      "{'a': 1, 'b': 2}\n",
      "{'x': 3, 'y': 4}\n"
     ]
    }
   ],
   "source": [
    "a = [['a',1],['b',2]]\n",
    "b = (('x',3),('y',4))\n",
    "d1 = dict(a)\n",
    "d2 = dict(b)\n",
    "print(d1)\n",
    "print(d2)"
   ]
  },
  {
   "cell_type": "markdown",
   "metadata": {},
   "source": [
    "# 将元组 (1,2) 和 (3,4) 合并成一个元组。"
   ]
  },
  {
   "cell_type": "code",
   "execution_count": 91,
   "metadata": {},
   "outputs": [
    {
     "data": {
      "text/plain": [
       "(1, 2, 3, 4)"
      ]
     },
     "execution_count": 91,
     "metadata": {},
     "output_type": "execute_result"
    }
   ],
   "source": [
    "a = (1,2)\n",
    "b = (3,4)\n",
    "c = a + b\n",
    "c"
   ]
  },
  {
   "cell_type": "markdown",
   "metadata": {},
   "source": [
    "# 将空间坐标元组 (1,2,3) 的三个元素解包对应到变量 x,y,z。"
   ]
  },
  {
   "cell_type": "code",
   "execution_count": 92,
   "metadata": {},
   "outputs": [
    {
     "name": "stdout",
     "output_type": "stream",
     "text": [
      "1 2 3\n"
     ]
    }
   ],
   "source": [
    "t = (1,2,3)\n",
    "x,y,z = t\n",
    "print(x,y,z)"
   ]
  },
  {
   "cell_type": "markdown",
   "metadata": {},
   "source": [
    "# 返回元组 (‘Alice’,‘Beth’,‘Cecil’) 中 ‘Cecil’ 元素的索引号。"
   ]
  },
  {
   "cell_type": "code",
   "execution_count": 93,
   "metadata": {},
   "outputs": [
    {
     "name": "stdout",
     "output_type": "stream",
     "text": [
      "2\n"
     ]
    }
   ],
   "source": [
    "t = ('Alice', 'Beth', 'Cecil')\n",
    "print(t.index('Cecil'))"
   ]
  },
  {
   "cell_type": "markdown",
   "metadata": {},
   "source": [
    "# 返回元组 (2,5,3,2,4) 中元素 2 的个数。"
   ]
  },
  {
   "cell_type": "code",
   "execution_count": 94,
   "metadata": {},
   "outputs": [
    {
     "data": {
      "text/plain": [
       "2"
      ]
     },
     "execution_count": 94,
     "metadata": {},
     "output_type": "execute_result"
    }
   ],
   "source": [
    "a = (2,5,3,2,4)\n",
    "a.count(2)"
   ]
  },
  {
   "cell_type": "markdown",
   "metadata": {},
   "source": [
    "# 判断 ‘Cecil’ 是否在元组 (‘Alice’,‘Beth’,‘Cecil’) 中。"
   ]
  },
  {
   "cell_type": "code",
   "execution_count": 95,
   "metadata": {},
   "outputs": [
    {
     "data": {
      "text/plain": [
       "True"
      ]
     },
     "execution_count": 95,
     "metadata": {},
     "output_type": "execute_result"
    }
   ],
   "source": [
    "a = ('Alice', 'Beth', 'Cecil')\n",
    "'Cecil' in a"
   ]
  },
  {
   "cell_type": "markdown",
   "metadata": {},
   "source": [
    "# 返回在元组 (2,5,3,7) 索引号为2的位置插入元素 9 之后的新元组。"
   ]
  },
  {
   "cell_type": "code",
   "execution_count": 98,
   "metadata": {},
   "outputs": [
    {
     "data": {
      "text/plain": [
       "[2, 5, 9, 3, 7]"
      ]
     },
     "execution_count": 98,
     "metadata": {},
     "output_type": "execute_result"
    }
   ],
   "source": [
    "t = (2,5,3,7)\n",
    "ls = list(t)\n",
    "ls.insert(2,9)\n",
    "t = tuple(ls)\n",
    "ls"
   ]
  },
  {
   "cell_type": "markdown",
   "metadata": {},
   "source": [
    "# 创建一个空集合，增加 {‘x’,‘y’,‘z’} 三个元素。"
   ]
  },
  {
   "cell_type": "code",
   "execution_count": 101,
   "metadata": {},
   "outputs": [
    {
     "data": {
      "text/plain": [
       "{'x', 'y', 'z'}"
      ]
     },
     "execution_count": 101,
     "metadata": {},
     "output_type": "execute_result"
    }
   ],
   "source": [
    "s = set()\n",
    "s.add('x')\n",
    "s.add('y')\n",
    "s.add('z')\n",
    "s"
   ]
  },
  {
   "cell_type": "markdown",
   "metadata": {},
   "source": [
    "# 删除集合 {‘x’,‘y’,‘z’} 中的 ‘z’ 元素，增加元素 ‘w’，然后清空整个集合。"
   ]
  },
  {
   "cell_type": "code",
   "execution_count": 104,
   "metadata": {},
   "outputs": [
    {
     "data": {
      "text/plain": [
       "set()"
      ]
     },
     "execution_count": 104,
     "metadata": {},
     "output_type": "execute_result"
    }
   ],
   "source": [
    "s = {'x','y','z'}\n",
    "s.remove('z')\n",
    "s.add('w')\n",
    "s.clear()\n",
    "s"
   ]
  },
  {
   "cell_type": "markdown",
   "metadata": {},
   "source": [
    "# 返回集合 {‘A’,‘D’,‘B’} 中未出现在集合 {‘D’,‘E’,‘C’} 中的元素（差集）。"
   ]
  },
  {
   "cell_type": "code",
   "execution_count": 118,
   "metadata": {},
   "outputs": [
    {
     "name": "stdout",
     "output_type": "stream",
     "text": [
      "{'A', 'B'}\n"
     ]
    }
   ],
   "source": [
    "s1 = {'A','D','B'}\n",
    "s2 = {'D','E','C'}\n",
    "s3 = s1 - s2\n",
    "print(s3)"
   ]
  },
  {
   "cell_type": "code",
   "execution_count": 111,
   "metadata": {},
   "outputs": [
    {
     "data": {
      "text/plain": [
       "{'A', 'B'}"
      ]
     },
     "execution_count": 111,
     "metadata": {},
     "output_type": "execute_result"
    }
   ],
   "source": [
    "s3 = s1.difference(s2)\n",
    "s3"
   ]
  },
  {
   "cell_type": "markdown",
   "metadata": {},
   "source": [
    "# 返回两个集合 {‘A’,‘D’,‘B’} 和 {‘D’,‘E’,‘C’} 的并集。"
   ]
  },
  {
   "cell_type": "code",
   "execution_count": 108,
   "metadata": {},
   "outputs": [
    {
     "data": {
      "text/plain": [
       "{'A', 'B', 'C', 'D', 'E'}"
      ]
     },
     "execution_count": 108,
     "metadata": {},
     "output_type": "execute_result"
    }
   ],
   "source": [
    "s1 = {'A','D','B'}\n",
    "s2 = {'D','E','C'}\n",
    "s3 = s1.union(s2)\n",
    "s3"
   ]
  },
  {
   "cell_type": "code",
   "execution_count": 110,
   "metadata": {},
   "outputs": [
    {
     "data": {
      "text/plain": [
       "{'A', 'B', 'C', 'D', 'E'}"
      ]
     },
     "execution_count": 110,
     "metadata": {},
     "output_type": "execute_result"
    }
   ],
   "source": [
    "s3 = s1 | s2\n",
    "s3"
   ]
  },
  {
   "cell_type": "markdown",
   "metadata": {},
   "source": [
    "# 返回两个集合 {‘A’,‘D’,‘B’} 和 {‘D’,‘E’,‘C’} 的交集。"
   ]
  },
  {
   "cell_type": "code",
   "execution_count": 112,
   "metadata": {},
   "outputs": [
    {
     "data": {
      "text/plain": [
       "{'D'}"
      ]
     },
     "execution_count": 112,
     "metadata": {},
     "output_type": "execute_result"
    }
   ],
   "source": [
    "s1 = {'A','D','B'}\n",
    "s2 = {'D','E','C'}\n",
    "s3 = s1.intersection(s2)\n",
    "s3"
   ]
  },
  {
   "cell_type": "code",
   "execution_count": 114,
   "metadata": {},
   "outputs": [
    {
     "data": {
      "text/plain": [
       "{'D'}"
      ]
     },
     "execution_count": 114,
     "metadata": {},
     "output_type": "execute_result"
    }
   ],
   "source": [
    "s3 = s1 & s2\n",
    "s3"
   ]
  },
  {
   "cell_type": "markdown",
   "metadata": {},
   "source": [
    "# 返回两个集合 {‘A’,‘D’,‘B’} 和 {‘D’,‘E’,‘C’} 未重复的元素的集合。"
   ]
  },
  {
   "cell_type": "code",
   "execution_count": 119,
   "metadata": {},
   "outputs": [
    {
     "name": "stdout",
     "output_type": "stream",
     "text": [
      "{'B', 'E', 'C', 'A'}\n"
     ]
    }
   ],
   "source": [
    "s1 = {'A','D','B'}\n",
    "s2 = {'D','E','C'}\n",
    "s3 = s1 ^ s2 \n",
    "print(s3)"
   ]
  },
  {
   "cell_type": "markdown",
   "metadata": {},
   "source": [
    "# 判断两个集合 {‘A’,‘D’,‘B’} 和 {‘D’,‘E’,‘C’} 是否有重复元素。"
   ]
  },
  {
   "cell_type": "code",
   "execution_count": 121,
   "metadata": {},
   "outputs": [
    {
     "name": "stdout",
     "output_type": "stream",
     "text": [
      "两个集合没有重复元素\n"
     ]
    }
   ],
   "source": [
    "s1 = {'A','D','B'}\n",
    "s2 = {'D','E','C'}\n",
    "if not s1.isdisjoint(s2):\n",
    "    print(\"两个集合没有重复元素\")\n",
    "else:\n",
    "    print(\"两个集合有重复元素\")"
   ]
  },
  {
   "cell_type": "markdown",
   "metadata": {},
   "source": [
    "# 判断集合{‘A’,‘C’} 是否是集合 {‘D’,‘E’,‘C’,‘A’}的子集 "
   ]
  },
  {
   "cell_type": "code",
   "execution_count": 1,
   "metadata": {},
   "outputs": [
    {
     "data": {
      "text/plain": [
       "True"
      ]
     },
     "execution_count": 1,
     "metadata": {},
     "output_type": "execute_result"
    }
   ],
   "source": [
    "s1 = {'A','C'}\n",
    "s2 = {'D','E','C','A'}\n",
    "s1 < s2"
   ]
  },
  {
   "cell_type": "markdown",
   "metadata": {},
   "source": [
    "# 去除数组 [1,2,5,2,3,4,5,‘x’,4,‘x’] 中的重复元素。"
   ]
  },
  {
   "cell_type": "code",
   "execution_count": 3,
   "metadata": {},
   "outputs": [
    {
     "name": "stdout",
     "output_type": "stream",
     "text": [
      "[1, 2, 3, 4, 5, 'x']\n"
     ]
    }
   ],
   "source": [
    "ls = [1,2,5,2,3,4,5,'x',4,'x']\n",
    "s = set(ls)\n",
    "ls = list(s)\n",
    "print(ls)"
   ]
  },
  {
   "cell_type": "markdown",
   "metadata": {},
   "source": [
    "# 返回字符串 ‘abCdEfg’ 的全部大写、全部小写和大下写互换形式。"
   ]
  },
  {
   "cell_type": "code",
   "execution_count": 12,
   "metadata": {},
   "outputs": [
    {
     "name": "stdout",
     "output_type": "stream",
     "text": [
      "ABCDEFG\n",
      "abcdefg\n",
      "ABcDeFG\n"
     ]
    }
   ],
   "source": [
    "s = 'abCdEfg'\n",
    "#全部大写\n",
    "s1 = s.upper()\n",
    "print(s1)\n",
    "#全部小写\n",
    "s2 = s.lower()\n",
    "print(s2)\n",
    "#原字符串中大写变小写，小写变大写\n",
    "s3 = []\n",
    "for e in s:\n",
    "    if ord(e)>=65 and ord(e)<=90:#'A’的ASCII码是65，'Z'\n",
    "        s3.append( chr(ord(e) + 32))\n",
    "    else:\n",
    "        s3.append( chr(ord(e) - 32))\n",
    "print(\"\".join(s3))# 把列表s3连接成一个字符串"
   ]
  },
  {
   "cell_type": "markdown",
   "metadata": {},
   "source": [
    "# 判断字符串 ‘abCdEfg’ 是否首字母大写，字母是否全部小写，字母是否全部大写。"
   ]
  },
  {
   "cell_type": "code",
   "execution_count": 14,
   "metadata": {},
   "outputs": [
    {
     "name": "stdout",
     "output_type": "stream",
     "text": [
      "False\n",
      "False\n",
      "False\n"
     ]
    }
   ],
   "source": [
    "s = 'abCdEfg'\n",
    "#判断首字母是否大写\n",
    "print(s[0].isupper())\n",
    "# 判断字母是否全部小写\n",
    "print(s.islower())\n",
    "#判断字母是否全部大写\n",
    "print(s.isupper())"
   ]
  },
  {
   "cell_type": "markdown",
   "metadata": {},
   "source": [
    "# 返回字符串 ‘this is python’ 首字母大写以及字符串内每个单词首字母大写形式。"
   ]
  },
  {
   "cell_type": "code",
   "execution_count": 20,
   "metadata": {},
   "outputs": [
    {
     "name": "stdout",
     "output_type": "stream",
     "text": [
      "This Is  Python\n"
     ]
    }
   ],
   "source": [
    "s = 'this is  python'\n",
    "t = []\n",
    "flag = 0\n",
    "for e in s:\n",
    "    if e == \" \":\n",
    "        flag = 0\n",
    "    else:\n",
    "        flag = flag + 1\n",
    "    if flag == 1:\n",
    "        t.append(e.upper())\n",
    "    else:\n",
    "        t.append(e)\n",
    "t = \"\".join(t)        \n",
    "print(t)"
   ]
  },
  {
   "cell_type": "markdown",
   "metadata": {},
   "source": [
    "# 判断字符串 ‘this is python’ 是否以 ‘this’ 开头，又是否以 ‘python’ 结尾。"
   ]
  },
  {
   "cell_type": "code",
   "execution_count": 22,
   "metadata": {},
   "outputs": [
    {
     "name": "stdout",
     "output_type": "stream",
     "text": [
      "this is python 以'this'开头\n",
      "this is python 以'python'结尾\n"
     ]
    }
   ],
   "source": [
    "s = 'this is python'\n",
    "if s.startswith('this'):\n",
    "    print(\"{} 以'this'开头\".format(s))\n",
    "else:\n",
    "    print(\"{} 不以'this'开头\".format(s))\n",
    "if s.endswith('python'):\n",
    "    print(\"{} 以'python'结尾\".format(s))\n",
    "else:\n",
    "    print(\"{} 不以'python'结尾\".format(s))\n"
   ]
  },
  {
   "cell_type": "markdown",
   "metadata": {},
   "source": [
    "# 返回字符串 ‘this is python’ 中 ‘is’ 的出现次数。"
   ]
  },
  {
   "cell_type": "code",
   "execution_count": 24,
   "metadata": {},
   "outputs": [
    {
     "name": "stdout",
     "output_type": "stream",
     "text": [
      "'is' 在 'this is python' 中出现2次\n"
     ]
    }
   ],
   "source": [
    "s = 'this is python'\n",
    "t = s.count('is')\n",
    "print(\"'{}' 在 '{}' 中出现{}次\".format('is',s,t))"
   ]
  },
  {
   "cell_type": "markdown",
   "metadata": {},
   "source": [
    "# 返回字符串 ‘this is python’ 中 ‘is’ 首次出现和最后一次出现的位置。"
   ]
  },
  {
   "cell_type": "code",
   "execution_count": 27,
   "metadata": {},
   "outputs": [
    {
     "name": "stdout",
     "output_type": "stream",
     "text": [
      "'is' 首次出现在2,最后一次出现在5\n"
     ]
    }
   ],
   "source": [
    "s = 'this is python'\n",
    "f = s.index('is')\n",
    "r = f\n",
    "while True:\n",
    "    try:\n",
    "        j = s.index('is',r+2)\n",
    "        r = j\n",
    "    except ValueError:\n",
    "        break\n",
    "print(\"'is' 首次出现在{},最后一次出现在{}\".format(f,r))        "
   ]
  },
  {
   "cell_type": "code",
   "execution_count": 2,
   "metadata": {},
   "outputs": [
    {
     "name": "stdout",
     "output_type": "stream",
     "text": [
      "'is' 首次出现在2,最后一次出现在5\n"
     ]
    }
   ],
   "source": [
    "s = 'this is python'\n",
    "f = s.index('is')\n",
    "r = s.rindex('is')\n",
    "print(\"'is' 首次出现在{},最后一次出现在{}\".format(f,r) )"
   ]
  },
  {
   "cell_type": "markdown",
   "metadata": {},
   "source": [
    "# 将字符串 ‘this is python’ 切片成3个单词。"
   ]
  },
  {
   "cell_type": "code",
   "execution_count": 28,
   "metadata": {},
   "outputs": [
    {
     "data": {
      "text/plain": [
       "['this', 'is', 'python']"
      ]
     },
     "execution_count": 28,
     "metadata": {},
     "output_type": "execute_result"
    }
   ],
   "source": [
    "s = \"this is python\"\n",
    "s.split(\" \")"
   ]
  },
  {
   "cell_type": "markdown",
   "metadata": {},
   "source": [
    "# 返回字符串 ‘blog.csdn.net/xufive/article/details/102946961’ 按路径分隔符切片的结果。"
   ]
  },
  {
   "cell_type": "code",
   "execution_count": 31,
   "metadata": {},
   "outputs": [
    {
     "data": {
      "text/plain": [
       "['blog.csdn.net', 'xufive', 'article', 'details', '102946961']"
      ]
     },
     "execution_count": 31,
     "metadata": {},
     "output_type": "execute_result"
    }
   ],
   "source": [
    "s = 'blog.csdn.net/xufive/article/details/102946961'\n",
    "s.split(\"/\")"
   ]
  },
  {
   "cell_type": "markdown",
   "metadata": {},
   "source": [
    "# 将字符串 ‘2.72, 5, 7, 3.14’ 以半角逗号切片后，再将各个元素转成浮点型或整形。"
   ]
  },
  {
   "cell_type": "code",
   "execution_count": 34,
   "metadata": {},
   "outputs": [
    {
     "data": {
      "text/plain": [
       "[2.72, 5, 7, 3.14]"
      ]
     },
     "execution_count": 34,
     "metadata": {},
     "output_type": "execute_result"
    }
   ],
   "source": [
    "s = '2.72,5,7,3.14'\n",
    "ls = s.split(',')\n",
    "for i in range(len(ls)):\n",
    "    ls[i] = eval(ls[i])\n",
    "ls"
   ]
  },
  {
   "cell_type": "markdown",
   "metadata": {},
   "source": [
    "# 判断字符串 ‘adS12K56’ 是否完全为字母数字，是否全为数字，是否全为字母，是否全为ASCII码。"
   ]
  },
  {
   "cell_type": "code",
   "execution_count": 37,
   "metadata": {},
   "outputs": [
    {
     "name": "stdout",
     "output_type": "stream",
     "text": [
      "adS12K56 全为字母数字\n",
      "adS12K56 不全为数字\n",
      "adS12K56 不全为字母\n"
     ]
    }
   ],
   "source": [
    "s = 'adS12K56'\n",
    "if s.isalnum():\n",
    "    print(\"{} 全为字母数字\".format(s))\n",
    "else:\n",
    "    print(\"{} 不全为字母数字\".format(s))\n",
    "\n",
    "if s.isnumeric():\n",
    "    print(\"{} 全为数字\".format(s))\n",
    "else:\n",
    "    print(\"{} 不全为数字\".format(s))\n",
    "\n",
    "if s.isalpha():\n",
    "    print(\"{} 全为字母\".format(s))\n",
    "else:\n",
    "    print(\"{} 不全为字母\".format(s))"
   ]
  },
  {
   "cell_type": "markdown",
   "metadata": {},
   "source": [
    "# 将字符串 ‘there is python’ 中的 ‘is’ 替换为 ‘are’。"
   ]
  },
  {
   "cell_type": "code",
   "execution_count": 38,
   "metadata": {},
   "outputs": [
    {
     "data": {
      "text/plain": [
       "'there are python'"
      ]
     },
     "execution_count": 38,
     "metadata": {},
     "output_type": "execute_result"
    }
   ],
   "source": [
    "s = \"there is python\"\n",
    "s.replace(\"is\",\"are\")"
   ]
  },
  {
   "cell_type": "markdown",
   "metadata": {},
   "source": [
    "# 清除字符串 ‘\\t python \\n’ 左侧、右侧，以及左右两侧的空白字符。"
   ]
  },
  {
   "cell_type": "code",
   "execution_count": 5,
   "metadata": {},
   "outputs": [
    {
     "name": "stdout",
     "output_type": "stream",
     "text": [
      "清除左侧空白字符后： python \n",
      "\n",
      "清除右侧空白字符后： \t python\n",
      "清除左右两侧空白字符后： python\n"
     ]
    }
   ],
   "source": [
    "s = '\\t python \\n'\n",
    "print(\"清除左侧空白字符后： {}\".format(s.lstrip()))\n",
    "print(\"清除右侧空白字符后： {}\".format(s.rstrip()))\n",
    "print(\"清除左右两侧空白字符后： {}\".format(s.strip()))"
   ]
  },
  {
   "cell_type": "markdown",
   "metadata": {},
   "source": [
    "# 将三个全英文字符串（比如，‘ok’, ‘hello’, ‘thank you’）分行打印，实现左对齐、右对齐和居中对齐效果。"
   ]
  },
  {
   "cell_type": "code",
   "execution_count": 6,
   "metadata": {},
   "outputs": [
    {
     "name": "stdout",
     "output_type": "stream",
     "text": [
      "                  ok\n",
      "hello               \n",
      "     thank you      \n"
     ]
    }
   ],
   "source": [
    "print(\"{:>20}\".format('ok'))\n",
    "print(\"{:<20}\".format('hello'))\n",
    "print(\"{:^20}\".format('thank you'))"
   ]
  },
  {
   "cell_type": "markdown",
   "metadata": {},
   "source": [
    "# 将三个字符串（比如，‘Hello, 我是David’, ‘OK, 好’, ‘很高兴认识你’）分行打印，实现左对齐、右对齐和居中效果。"
   ]
  },
  {
   "cell_type": "code",
   "execution_count": 7,
   "metadata": {},
   "outputs": [
    {
     "name": "stdout",
     "output_type": "stream",
     "text": [
      "       Hello,我是David\n",
      "OK,好                \n",
      "       很高兴认识你       \n"
     ]
    }
   ],
   "source": [
    "print(\"{:>20}\".format('Hello,我是David'))\n",
    "print(\"{:<20}\".format('OK,好'))\n",
    "print(\"{:^20}\".format('很高兴认识你'))"
   ]
  },
  {
   "cell_type": "markdown",
   "metadata": {},
   "source": [
    "# 将三个字符串 ‘15’, ‘127’, ‘65535’ 左侧补0成同样长度。"
   ]
  },
  {
   "cell_type": "code",
   "execution_count": 8,
   "metadata": {},
   "outputs": [
    {
     "name": "stdout",
     "output_type": "stream",
     "text": [
      "00015\n",
      "00127\n",
      "65535\n"
     ]
    }
   ],
   "source": [
    "for s in ['15','127','65535']:\n",
    "    print(\"{:0>5}\".format(s))"
   ]
  },
  {
   "cell_type": "markdown",
   "metadata": {},
   "source": [
    "# 提取 url 字符串 ‘https://blog.csdn.net/xufive’ 中的协议名。"
   ]
  },
  {
   "cell_type": "code",
   "execution_count": 9,
   "metadata": {},
   "outputs": [
    {
     "name": "stdout",
     "output_type": "stream",
     "text": [
      "协议名是：https\n"
     ]
    }
   ],
   "source": [
    "s = 'https://blog.csdn.net/xufive'\n",
    "i = s.index(\":\")\n",
    "print(\"协议名是：{}\".format(s[:i]))"
   ]
  },
  {
   "cell_type": "markdown",
   "metadata": {},
   "source": [
    "# 将列表 [‘a’,‘b’,‘c’] 中各个元素用’|'连接成一个字符串。"
   ]
  },
  {
   "cell_type": "code",
   "execution_count": 10,
   "metadata": {},
   "outputs": [
    {
     "name": "stdout",
     "output_type": "stream",
     "text": [
      "a|b|c\n"
     ]
    }
   ],
   "source": [
    "ls = ['a','b','c']\n",
    "s = \"|\".join(ls)\n",
    "print(s)"
   ]
  },
  {
   "cell_type": "markdown",
   "metadata": {},
   "source": [
    "# 将字符串 ‘abc’ 相邻的两个字母之间加上半角逗号，生成新的字符串。"
   ]
  },
  {
   "cell_type": "code",
   "execution_count": 11,
   "metadata": {},
   "outputs": [
    {
     "name": "stdout",
     "output_type": "stream",
     "text": [
      "a,b,c\n"
     ]
    }
   ],
   "source": [
    "s = 'abc'\n",
    "s2 = \",\".join(list(s))\n",
    "print(s2)"
   ]
  },
  {
   "cell_type": "markdown",
   "metadata": {},
   "source": [
    "# 从键盘输入手机号码，输出形如 ‘Mobile: 186 6677 7788’ 的字符串。"
   ]
  },
  {
   "cell_type": "code",
   "execution_count": 12,
   "metadata": {},
   "outputs": [
    {
     "name": "stdout",
     "output_type": "stream",
     "text": [
      "请输入手机号码：15179834830\n",
      "Mobile:15179834830\n"
     ]
    }
   ],
   "source": [
    "s = input(\"请输入手机号码：\")\n",
    "print(\"Mobile:{}\".format(s))"
   ]
  },
  {
   "cell_type": "markdown",
   "metadata": {},
   "source": [
    "# 从键盘输入年月日时分秒，输出形如 ‘2019-05-01 12:00:00’ 的字符串。"
   ]
  },
  {
   "cell_type": "code",
   "execution_count": 17,
   "metadata": {},
   "outputs": [
    {
     "name": "stdout",
     "output_type": "stream",
     "text": [
      "请输入年月日时分秒，以空格隔开2019 5 1 12 0 0\n",
      "2019-05-01 12:00:00\n"
     ]
    }
   ],
   "source": [
    "time = input(\"请输入年月日时分秒，以空格隔开\")\n",
    "lt = time.split(\" \")\n",
    "print(\"{}-{:0>2}-{:0>2} {:0>2}:{:0>2}:{:0>2}\".format(*lt))"
   ]
  },
  {
   "cell_type": "code",
   "execution_count": 20,
   "metadata": {},
   "outputs": [
    {
     "name": "stdout",
     "output_type": "stream",
     "text": [
      "请输入年月日时分秒，以空格隔开2019 5 1 12 0 0\n",
      "2019-05-01 12:00:00\n"
     ]
    }
   ],
   "source": [
    "import datetime\n",
    "time = input(\"请输入年月日时分秒，以空格隔开\")\n",
    "lt = []\n",
    "for s in time.split(\" \"):\n",
    "    lt.append(eval(s))\n",
    "d = datetime.datetime(*lt)\n",
    "print('{:%Y-%m-%d %H:%M:%S}'.format(d))"
   ]
  },
  {
   "cell_type": "markdown",
   "metadata": {},
   "source": [
    "# 给定两个浮点数 3.1415926 和 2.7182818，格式化输出字符串 ‘pi = 3.1416, e = 2.7183’。"
   ]
  },
  {
   "cell_type": "code",
   "execution_count": 21,
   "metadata": {},
   "outputs": [
    {
     "name": "stdout",
     "output_type": "stream",
     "text": [
      "pi=3.1416, e=2.7183\n"
     ]
    }
   ],
   "source": [
    "f1 = 3.1415926\n",
    "f2 = 2.7182818\n",
    "print(\"pi={:.4f}, e={:.4f}\".format(f1,f2))"
   ]
  },
  {
   "cell_type": "markdown",
   "metadata": {},
   "source": [
    "# 将 0.00774592 和 356800000 格式化输出为科学计数法字符串。"
   ]
  },
  {
   "cell_type": "code",
   "execution_count": 27,
   "metadata": {},
   "outputs": [
    {
     "data": {
      "text/plain": [
       "'7.745920e-03, 3.568000e+08'"
      ]
     },
     "execution_count": 27,
     "metadata": {},
     "output_type": "execute_result"
    }
   ],
   "source": [
    "\"{:e}, {:e}\".format(0.00774592, 356800000)"
   ]
  },
  {
   "cell_type": "markdown",
   "metadata": {},
   "source": [
    "# 将十进制整数 240 格式化为八进制和十六进制的字符串。"
   ]
  },
  {
   "cell_type": "code",
   "execution_count": 30,
   "metadata": {},
   "outputs": [
    {
     "data": {
      "text/plain": [
       "'360, f0'"
      ]
     },
     "execution_count": 30,
     "metadata": {},
     "output_type": "execute_result"
    }
   ],
   "source": [
    "\"{0:o}, {0:x}\".format(240)"
   ]
  },
  {
   "cell_type": "markdown",
   "metadata": {},
   "source": [
    "# 将十进制整数 240 转为二进制、八进制、十六进制的字符串。"
   ]
  },
  {
   "cell_type": "code",
   "execution_count": 31,
   "metadata": {},
   "outputs": [
    {
     "data": {
      "text/plain": [
       "'11110000,360,f0'"
      ]
     },
     "execution_count": 31,
     "metadata": {},
     "output_type": "execute_result"
    }
   ],
   "source": [
    "\"{0:b},{0:o},{0:x}\".format(240)"
   ]
  },
  {
   "cell_type": "code",
   "execution_count": 32,
   "metadata": {},
   "outputs": [
    {
     "data": {
      "text/plain": [
       "'0b11110000'"
      ]
     },
     "execution_count": 32,
     "metadata": {},
     "output_type": "execute_result"
    }
   ],
   "source": [
    "bin(240)"
   ]
  },
  {
   "cell_type": "code",
   "execution_count": 35,
   "metadata": {},
   "outputs": [
    {
     "data": {
      "text/plain": [
       "'0o360'"
      ]
     },
     "execution_count": 35,
     "metadata": {},
     "output_type": "execute_result"
    }
   ],
   "source": [
    "oct(240)"
   ]
  },
  {
   "cell_type": "code",
   "execution_count": 33,
   "metadata": {},
   "outputs": [
    {
     "data": {
      "text/plain": [
       "'0xf0'"
      ]
     },
     "execution_count": 33,
     "metadata": {},
     "output_type": "execute_result"
    }
   ],
   "source": [
    "hex(240)"
   ]
  },
  {
   "cell_type": "code",
   "execution_count": 38,
   "metadata": {},
   "outputs": [
    {
     "data": {
      "text/plain": [
       "('11110000', '360', 'f0')"
      ]
     },
     "execution_count": 38,
     "metadata": {},
     "output_type": "execute_result"
    }
   ],
   "source": [
    "format(240,'b'),format(240,'o'),format(240,'x')"
   ]
  },
  {
   "cell_type": "markdown",
   "metadata": {},
   "source": [
    "# 将字符串 ‘10100’ 按照二进制、八进制、十进制、十六进制转为整数。"
   ]
  },
  {
   "cell_type": "code",
   "execution_count": null,
   "metadata": {},
   "outputs": [],
   "source": []
  }
 ],
 "metadata": {
  "kernelspec": {
   "display_name": "Python 3",
   "language": "python",
   "name": "python3"
  },
  "language_info": {
   "codemirror_mode": {
    "name": "ipython",
    "version": 3
   },
   "file_extension": ".py",
   "mimetype": "text/x-python",
   "name": "python",
   "nbconvert_exporter": "python",
   "pygments_lexer": "ipython3",
   "version": "3.6.5"
  },
  "toc": {
   "base_numbering": 1,
   "nav_menu": {},
   "number_sections": true,
   "sideBar": true,
   "skip_h1_title": false,
   "title_cell": "Table of Contents",
   "title_sidebar": "Contents",
   "toc_cell": false,
   "toc_position": {},
   "toc_section_display": true,
   "toc_window_display": false
  }
 },
 "nbformat": 4,
 "nbformat_minor": 2
}
