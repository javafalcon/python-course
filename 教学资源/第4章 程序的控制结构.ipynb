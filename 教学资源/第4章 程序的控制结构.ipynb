{
 "cells": [
  {
   "cell_type": "markdown",
   "metadata": {},
   "source": [
    "# 程序的基本结构"
   ]
  },
  {
   "cell_type": "markdown",
   "metadata": {},
   "source": [
    "## 程序流程图"
   ]
  },
  {
   "cell_type": "markdown",
   "metadata": {},
   "source": [
    "<img src='figs/fig4-1.jpg'></img>"
   ]
  },
  {
   "cell_type": "markdown",
   "metadata": {},
   "source": [
    "<font size=4>例：</font><br>\n",
    "<img src='figs/fig4-2.jpg'></img>"
   ]
  },
  {
   "cell_type": "markdown",
   "metadata": {},
   "source": [
    "## 程序的基本结构\n",
    "\n",
    "- <font size='4'>程序由3种基本结构组成，分别是：顺序结构、选择结构（分支结构）和循环结构。</font><br>\n",
    "- <font size=4>这3种基本结构都有一个入口和一个出口。任何程序都是由这3种基本结构组合而成\n",
    "</font><br>"
   ]
  },
  {
   "cell_type": "markdown",
   "metadata": {},
   "source": [
    "### 顺序结构流程图\n",
    "<img src='figs/fig4-3.jpg'></img>"
   ]
  },
  {
   "cell_type": "markdown",
   "metadata": {},
   "source": [
    "### 分支结构流程图\n",
    "<img src='figs/fig4-4.jpg'></img>"
   ]
  },
  {
   "cell_type": "markdown",
   "metadata": {},
   "source": [
    "### 循环结构流程图\n",
    "<img src='figs/fig4-5.jpg'></img>"
   ]
  },
  {
   "cell_type": "markdown",
   "metadata": {},
   "source": [
    "## 程序基本结构实例\n",
    "程序的描述方式有：\n",
    "<ui>\n",
    "    <li>自然语言</li>\n",
    "    <li>流程图</li>\n",
    "    <li>伪代码</li>\n",
    "</ui>\n",
    "\n",
    "<p><font size=4>【微实例4.1】圆面积和周长的计算</font>\n",
    "<br>"
   ]
  },
  {
   "cell_type": "markdown",
   "metadata": {},
   "source": [
    "<font size=4>\n",
    "- 问题<font color='red'>IPO</font>描述<p/>\n",
    "输入： 圆半径R<br>\n",
    "处理：<br>\n",
    "圆面积： S=&pi;*R$^2$<br>\n",
    "圆周长： L=2*&pi;*R<br>\n",
    "输出：圆面积S、周长L<br>"
   ]
  },
  {
   "cell_type": "markdown",
   "metadata": {},
   "source": [
    "- <font size=4 color='red'>流程图描述</font>\n",
    "<img src='figs/fig4-6.jpg'></img>"
   ]
  },
  {
   "cell_type": "markdown",
   "metadata": {},
   "source": [
    "- <font size=4>Python代码描述</font>"
   ]
  },
  {
   "cell_type": "code",
   "execution_count": null,
   "metadata": {},
   "outputs": [],
   "source": [
    "eval(\"34\")"
   ]
  },
  {
   "cell_type": "code",
   "execution_count": null,
   "metadata": {},
   "outputs": [],
   "source": [
    "R = eval(input(\"请输入圆半径：\"))\n",
    "S = 3.1415*R**2\n",
    "L = 2*3.1415*R\n",
    "print(\"面积和周长：\",S,L)"
   ]
  },
  {
   "cell_type": "markdown",
   "metadata": {},
   "source": [
    "<font size=4>【微实例4.2】实数绝对值的计算</font>\n",
    "<p></p>\n",
    "<ui>\n",
    "    <li>IPO描述：</li>\n",
    "    输入：实数R<br>\n",
    "    处理：<br>\n",
    "    $|R|=\\begin{equation}\n",
    "        \\left\\{\n",
    "        \\begin{array}{lr}\n",
    "        R\\ R\\ge0 & \\\\\n",
    "        -R\\ R<0 &\n",
    "        \\end{array}\n",
    "        \\right.\n",
    "        \\end{equation}$<br>\n",
    "    输出：输出|R| \n",
    "    <li>流程图描述：</li>\n",
    "    <img src='figs/fig4-7.jpg'></img>\n",
    "    <li>Python代码描述：</li>"
   ]
  },
  {
   "cell_type": "code",
   "execution_count": null,
   "metadata": {},
   "outputs": [],
   "source": [
    "R = eval(input(\"输入实数：\"))\n",
    "if (R<0):\n",
    "    R = -R\n",
    "print(\"绝对值：\", R)"
   ]
  },
  {
   "cell_type": "markdown",
   "metadata": {},
   "source": [
    "<font size=4>【微实例4.3】整数累加</font>\n",
    "<ui>\n",
    "    <li>IPO描述</li>\n",
    "    输入：正整数R<br>\n",
    "    处理：<br>\n",
    "    S = 1+2+3+$\\cdots$+R<br>\n",
    "    输出：输出S<br>\n",
    "    <li>流程图描述</li>\n",
    "    <img src='figs/fig4-8.jpg'></img><br>\n",
    "    <li>Python代码描述</li>"
   ]
  },
  {
   "cell_type": "code",
   "execution_count": null,
   "metadata": {},
   "outputs": [],
   "source": [
    "R = eval(input(\"请输入正整数：\"))\n",
    "i,S = 1, 0\n",
    "if (i <=R):\n",
    "    S = S + i\n",
    "    i = i + 1\n",
    "print(\"累加求和：\", S)"
   ]
  },
  {
   "cell_type": "code",
   "execution_count": null,
   "metadata": {},
   "outputs": [],
   "source": [
    "R = eval(input(\"请输入正整数：\"))\n",
    "S = 0\n",
    "for i in range(R+1):\n",
    "    S = S + i\n",
    "print(\"累加求和：\", S)"
   ]
  },
  {
   "cell_type": "markdown",
   "metadata": {},
   "source": [
    "<table align=\"left\">\n",
    "    <tr>\n",
    "        <td><img src=\"figs/why.jpg\" width=\"100px\" height=\"200px\" /></td>\n",
    "        <td align=\"left\">其它的解决方法？</td>\n",
    "    </tr>\n",
    "</table>"
   ]
  },
  {
   "cell_type": "markdown",
   "metadata": {},
   "source": [
    "# 程序的分支结构"
   ]
  },
  {
   "cell_type": "markdown",
   "metadata": {},
   "source": [
    "## 单分支结构：if语句"
   ]
  },
  {
   "cell_type": "markdown",
   "metadata": {},
   "source": [
    "语法格式：<br>\n",
    "if <条件>:<br>\n",
    "  &emsp;<语句块><br>"
   ]
  },
  {
   "cell_type": "markdown",
   "metadata": {},
   "source": [
    "if语句的控制流程图<br>\n",
    "<img src='figs/fig4-9.jpg' />"
   ]
  },
  {
   "cell_type": "markdown",
   "metadata": {},
   "source": [
    "<div align=\"center\">表4.1 Python的关系操作符</div>\n",
    "<img src='figs/tab4-1.jpg' ></img>"
   ]
  },
  {
   "cell_type": "markdown",
   "metadata": {},
   "source": [
    "【微实例4.4】PM2.5空气质量提醒<br>"
   ]
  },
  {
   "cell_type": "markdown",
   "metadata": {},
   "source": [
    "输入：接收外部输入PM2.5值<br>\n",
    "处理：<br>\n",
    "if PM2.5值 >= 75，打印空气污染警告<br>\n",
    "if 35 <= PM2.5值 < 75，打印空气污染警告<br>\n",
    "if PM2.5值 < 35，打印空气质量优，建议户外运动<br>\n",
    "输出：打印空气质量提醒 <br>\n"
   ]
  },
  {
   "cell_type": "code",
   "execution_count": null,
   "metadata": {},
   "outputs": [],
   "source": [
    "PM = eval(input(\"请输入PM2.5数值: \"))\n",
    "if 0<= PM < 35:\n",
    "    print(\"空气优质，快去户外运动!\")\n",
    "if 35 <= PM <75:\n",
    "    print(\"空气良好，适度户外活动！\")\n",
    "if 75 <= PM:\n",
    "    print(\"空气污染，请小心！\")"
   ]
  },
  {
   "cell_type": "markdown",
   "metadata": {},
   "source": [
    "## 二分支结构: if-else语句"
   ]
  },
  {
   "cell_type": "markdown",
   "metadata": {},
   "source": [
    "语法格式：<br>\n",
    "if <条件><br>\n",
    "&emsp;<语句块><br>\n",
    "else:<br>\n",
    "&emsp;<语句块><br>"
   ]
  },
  {
   "cell_type": "code",
   "execution_count": null,
   "metadata": {},
   "outputs": [],
   "source": [
    "PM = eval(input(\"请输入PM2.5数值: \"))\n",
    "if PM >= 75:\n",
    "    print(\"空气污染，请小心！\")\n",
    "else:\n",
    "    print(\"空气没有污染，可以展开户外运动！\")"
   ]
  },
  {
   "cell_type": "markdown",
   "metadata": {},
   "source": [
    "<font size=4 color=\"red\">更简洁的表达方法!!!</font>"
   ]
  },
  {
   "cell_type": "code",
   "execution_count": null,
   "metadata": {},
   "outputs": [],
   "source": [
    "PM = eval(input(\"请输入PM2.5数值: \"))\n",
    "print(\"空气{}污染！\".format(\"存在\" if PM >=75 else \"没有\"))"
   ]
  },
  {
   "cell_type": "code",
   "execution_count": null,
   "metadata": {},
   "outputs": [],
   "source": [
    "count = 2\n",
    "count if count != 0 else \"不存在\""
   ]
  },
  {
   "cell_type": "code",
   "execution_count": null,
   "metadata": {},
   "outputs": [],
   "source": [
    "count = 0\n",
    "count if count != 0 else \"不存在\""
   ]
  },
  {
   "cell_type": "markdown",
   "metadata": {},
   "source": [
    "## 多分支结构：if-elif-else语句"
   ]
  },
  {
   "cell_type": "markdown",
   "metadata": {},
   "source": [
    "if <条件1>:<br>\n",
    "    &emsp;<语句块1><br>\n",
    "elif <条件2>:<br>\n",
    "    &emsp;<语句块2><br>\n",
    "... \n",
    "else: <br>\n",
    "     &emsp;<语句块N><br>  "
   ]
  },
  {
   "cell_type": "markdown",
   "metadata": {},
   "source": [
    "<img src=\"figs/fig4-10.jpg\" ></img>"
   ]
  },
  {
   "cell_type": "code",
   "execution_count": null,
   "metadata": {},
   "outputs": [],
   "source": [
    "PM = eval(input(\"请输入PM2.5数值: \"))\n",
    "if 0<= PM < 35:\n",
    "    print(\"空气优质，快去户外运动!\")\n",
    "elif 35 <= PM <75:\n",
    "    print(\"空气良好，适度户外活动！\")\n",
    "else:\n",
    "    print(\"空气污染，请小心！\")"
   ]
  },
  {
   "cell_type": "markdown",
   "metadata": {},
   "source": [
    "# 实例5：身体质量指数BMI\n",
    "\n",
    "BMI的定义如下：<br>\n",
    "BMI = 体重（kg）÷身高2（m2）<br>\n",
    "例如，一个人身高1.75米、体重75公斤，他的BMI值为24.49"
   ]
  },
  {
   "cell_type": "markdown",
   "metadata": {},
   "source": [
    "问题：编写一个根据体重和身高计算BMI值的程序，并同时输出国际和国内的BMI指标建议值<br>\n",
    "<img src=\"figs/tab4-2.jpg\"></img>"
   ]
  },
  {
   "cell_type": "markdown",
   "metadata": {},
   "source": [
    "输入：身高和体重值<br>\n",
    "处理：计算BMI值，并根据BMI指标分类找到合适类型<br>\n",
    "输出：打印指标分类信息"
   ]
  },
  {
   "cell_type": "code",
   "execution_count": null,
   "metadata": {},
   "outputs": [],
   "source": [
    "height, weight = eval(input(\"请输入身高(米)和体重(公斤)[逗号隔开]: \"))\n",
    "bmi = weight / pow(height, 2)\n",
    "print(\"BMI 数值为：{:.2f}\".format(bmi))\n",
    "wto, dom = \"\", \"\"\n",
    "if bmi < 18.5: # WTO 标准\n",
    "    wto = \"偏瘦\"\n",
    "elif bmi < 25: # 18.5 <= bmi < 25\n",
    "    wto = \"正常\"\n",
    "elif bmi < 30: # 25 <= bmi < 30\n",
    "    wto = \"偏胖\"\n",
    "else:\n",
    "    wto = \"肥胖\"\n",
    "if bmi < 18.5: # 我国卫生部标准\n",
    "    dom = \"偏瘦\"\n",
    "elif bmi < 24: # 18.5 <= bmi < 24\n",
    "    dom = \"正常\"\n",
    "elif bmi < 28: # 24 <= bmi < 28\n",
    "    dom = \"偏胖\"\n",
    "else:\n",
    "    dom = \"肥胖\"\n",
    "print(\"BMI 指标为:国际'{0}', 国内'{1}'\".format(wto, dom))"
   ]
  },
  {
   "cell_type": "markdown",
   "metadata": {},
   "source": [
    "<table align=\"left\">\n",
    "    <tr>\n",
    "        <td><img src=\"figs/why.jpg\" width=\"100px\" height=\"200px\" /></td>\n",
    "        <td align=\"left\">第7行和第9行，为何不按注释方式写代码？</td>\n",
    "    </tr>\n",
    "</table>"
   ]
  },
  {
   "cell_type": "code",
   "execution_count": null,
   "metadata": {},
   "outputs": [],
   "source": [
    "height, weight = eval(input(\"请输入身高(米)和体重\\(公斤)[逗号隔开]: \"))\n",
    "bmi = weight / pow(height, 2)\n",
    "print(\"BMI 数值为：{:.2f}\".format(bmi))\n",
    "wto, dom = \"\", \"\"\n",
    "if bmi < 18.5:\n",
    "    wto, dom = \"偏瘦\", \"偏瘦\"\n",
    "elif 18.5 <= bmi < 24:\n",
    "    wto, dom = \"正常\", \"正常\"\n",
    "elif 24 <= bmi < 25:\n",
    "    wto, dom = \"正常\", \"偏胖\"\n",
    "elif 25 <= bmi < 28:\n",
    "    wto, dom = \"偏胖\", \"偏胖\"\n",
    "elif 28 <= bmi < 30:\n",
    "    wto, dom = \"偏胖\", \"肥胖\"\n",
    "else:\n",
    "    wto, dom = \"肥胖\", \"肥胖\"\n",
    "print(\"BMI 指标为:国际'{0}', 国内'{1}'\".format(wto, dom))"
   ]
  },
  {
   "cell_type": "markdown",
   "metadata": {},
   "source": [
    "# 程序的循环结构"
   ]
  },
  {
   "cell_type": "markdown",
   "metadata": {},
   "source": [
    "通过for、while等保留字提供<font color='red' face=\"黑体\">遍历循环</font>和<font color=\"red\" face=\"黑体\">无限循环</font>结构"
   ]
  },
  {
   "cell_type": "markdown",
   "metadata": {},
   "source": [
    "## 遍历循环：for语句\n",
    "for <循环变量> in <遍历结构>:\n",
    "&emsp;<语句块><br>\n",
    "<p></p>\n",
    "遍历结构可以是<font color='red'>字符串、文件、组合数据类型</font>或<font color='red'>range()函数</font>"
   ]
  },
  {
   "cell_type": "markdown",
   "metadata": {},
   "source": [
    "<ui>\n",
    "    <li><font color='red'>循环N次：</font></li>\n",
    "for i in range(N):<br>\n",
    "&emsp;<语句块><br>\n",
    "    <p></p>\n",
    "    <li><font color='red'>遍历文件fi的每一行：</font></li>\n",
    "for line in fi:<br>\n",
    "    &emsp;<语句块><br>\n",
    "    <li><font color='red'>遍历字符串s：</font></li>\n",
    "    for c in s:<br>\n",
    "    &emsp;<语句块><br>\n",
    "    <li><font color='red'>遍历列表ls：</font></li>\n",
    "    for item in ls:<br>\n",
    "    &emsp;<语句块><br>\n",
    "    <li><font color='red'>扩展模式：</font></li>\n",
    "    for <循环变量> in <遍历结构>:<br>\n",
    "    &emsp;<语句块1><br>\n",
    "    else:<br>\n",
    "    &emsp;<语句块2>\n",
    "    \n"
   ]
  },
  {
   "cell_type": "markdown",
   "metadata": {},
   "source": [
    "## 无限循环\n",
    "如果无法在执行之初确定遍历结构，可以使用<font color=\"red\"><b>无限循环</b></font>。<p></p>\n",
    "无限循环可以一直保持循环操作直到循环条件不满足才结束，<u><b>不需要提前确定循环次数。</b></u>"
   ]
  },
  {
   "cell_type": "markdown",
   "metadata": {},
   "source": [
    "1. 基本使用方法<p></p>\n",
    "while <条件>:<br>\n",
    "&emsp;<语句块>\n",
    "2. 扩展模式<p></p>\n",
    "while <条件>:<br>\n",
    "&emsp;<语句块1><br>\n",
    "else:<br>\n",
    "&emsp;<语句块2>"
   ]
  },
  {
   "cell_type": "code",
   "execution_count": null,
   "metadata": {},
   "outputs": [],
   "source": [
    "s, idx = \"BIT\", 0\n",
    "while idx < len(s):\n",
    "    print(\"循环进行中：\" + s[idx])\n",
    "    idx += 1\n",
    "else:\n",
    "    s = \"循环正常结束\"\n",
    "print(s)"
   ]
  },
  {
   "cell_type": "markdown",
   "metadata": {},
   "source": [
    "## 循环保留字：break和continue\n",
    "<font color=\"red\"><b>break</b></font>用来跳出最内层for或while循环，脱离该循环后程序从循环代码后继续执行"
   ]
  },
  {
   "cell_type": "code",
   "execution_count": null,
   "metadata": {},
   "outputs": [],
   "source": [
    "for s in \"BIT\":\n",
    "    for i in range(10):\n",
    "        print(s, end=\"\")\n",
    "        if s == \"I\":\n",
    "            break"
   ]
  },
  {
   "cell_type": "markdown",
   "metadata": {},
   "source": [
    "<font color=\"red\"><b>continue</b></font>用来结束<u><b>当前当次循环<b></u>，即跳出循环体中下面尚未执行的语句，<font color=\"purple\"><b>但不跳出当前循环</b></font>。"
   ]
  },
  {
   "cell_type": "code",
   "execution_count": null,
   "metadata": {},
   "outputs": [],
   "source": [
    "for s in \"PYTHON\":\n",
    "    if s == \"T\":\n",
    "        continue\n",
    "    print(s, end=\"\")"
   ]
  },
  {
   "cell_type": "code",
   "execution_count": null,
   "metadata": {},
   "outputs": [],
   "source": [
    "for s in \"PYTHON\":\n",
    "    if s == \"T\":\n",
    "        break\n",
    "    print(s, end=\"\")"
   ]
  },
  {
   "cell_type": "code",
   "execution_count": null,
   "metadata": {},
   "outputs": [],
   "source": [
    "for s in \"PYTHON\":\n",
    "    if s == \"T\":\n",
    "        continue\n",
    "    print(s, end=\"\")\n",
    "else:\n",
    "    print(\"正常退出\")"
   ]
  },
  {
   "cell_type": "code",
   "execution_count": null,
   "metadata": {},
   "outputs": [],
   "source": [
    "for s in \"PYTHON\":\n",
    "    if s == \"T\":\n",
    "        break\n",
    "    print(s, end=\"\")\n",
    "else:\n",
    "    print(\"正常退出\")"
   ]
  },
  {
   "cell_type": "markdown",
   "metadata": {},
   "source": [
    "# random库的使用"
   ]
  },
  {
   "cell_type": "markdown",
   "metadata": {},
   "source": [
    "## 概述\n",
    "Python内置的random库用于产生各种分布的<b>伪随机数序列</b>，采用Mersenne Twister算法生成。"
   ]
  },
  {
   "cell_type": "markdown",
   "metadata": {},
   "source": [
    "### 引用方法"
   ]
  },
  {
   "cell_type": "code",
   "execution_count": null,
   "metadata": {},
   "outputs": [],
   "source": [
    "import random"
   ]
  },
  {
   "cell_type": "code",
   "execution_count": null,
   "metadata": {},
   "outputs": [],
   "source": [
    "from random import *"
   ]
  },
  {
   "cell_type": "code",
   "execution_count": null,
   "metadata": {},
   "outputs": [],
   "source": [
    "# 生成一个[0.0, 1.0)之间的随机小数\n",
    "random()"
   ]
  },
  {
   "cell_type": "code",
   "execution_count": null,
   "metadata": {},
   "outputs": [],
   "source": [
    "# 生成[a,b]之间的随机小数\n",
    "uniform(1,10)"
   ]
  },
  {
   "cell_type": "code",
   "execution_count": null,
   "metadata": {},
   "outputs": [],
   "source": [
    "# 生成一个[start, stop， step)之间以step为步数的随机整数\n",
    "randrange(0,100,4)"
   ]
  },
  {
   "cell_type": "code",
   "execution_count": null,
   "metadata": {},
   "outputs": [],
   "source": [
    "# 从序列类型中随机返回一个元素\n",
    "choice(range(100))"
   ]
  },
  {
   "cell_type": "code",
   "execution_count": null,
   "metadata": {},
   "outputs": [],
   "source": [
    "# 将序列类型中的元素随机排列，返回打乱后的序列\n",
    "ls = list( range(10))\n",
    "print( ls)"
   ]
  },
  {
   "cell_type": "code",
   "execution_count": null,
   "metadata": {},
   "outputs": [],
   "source": [
    "shuffle(ls)\n",
    "print(ls)"
   ]
  },
  {
   "cell_type": "code",
   "execution_count": null,
   "metadata": {},
   "outputs": [],
   "source": [
    "# 指定随机数的种子，使得每次生成的随机数序列相同\n",
    "seed(125)\n",
    "\"{}.{}.{}\".format( randint(1,10), randint(1,10), randint(1,10))"
   ]
  },
  {
   "cell_type": "code",
   "execution_count": null,
   "metadata": {},
   "outputs": [],
   "source": [
    "\"{}.{}.{}\".format( randint(1,10), randint(1,10), randint(1,10))"
   ]
  },
  {
   "cell_type": "code",
   "execution_count": null,
   "metadata": {},
   "outputs": [],
   "source": [
    "seed(125)\n",
    "\"{}.{}.{}\".format( randint(1,10), randint(1,10), randint(1,10))"
   ]
  },
  {
   "cell_type": "markdown",
   "metadata": {},
   "source": [
    "<table align=\"left\">\n",
    "    <tr>\n",
    "        <td><img src=\"figs/why.jpg\" width=\"100px\" height=\"200px\" /></td>\n",
    "        <td align=\"left\">\n",
    "            <div align=\"left\">1. 从字符串'abcdefghij'中随机选取4个字符<br>\n",
    "            2. 随机选取列表['apple', 'pear', 'peach', 'orange']中的1个字符串</div>\n",
    "        </td>\n",
    "    </tr>\n",
    "</table>"
   ]
  },
  {
   "cell_type": "code",
   "execution_count": null,
   "metadata": {
    "scrolled": true
   },
   "outputs": [],
   "source": [
    "import random\n",
    "s = 'abcdefghij'\n",
    "sub = random.sample(s,4)\n",
    "print(sub)"
   ]
  },
  {
   "cell_type": "code",
   "execution_count": null,
   "metadata": {},
   "outputs": [],
   "source": [
    "fruits = ['apple', 'pear', 'peach', 'orange']\n",
    "print( random.choice(fruits))"
   ]
  },
  {
   "cell_type": "code",
   "execution_count": null,
   "metadata": {},
   "outputs": [],
   "source": [
    "s = 'abcdefghij'\n",
    "for i in range(4):\n",
    "    print(random.choice(s),end='')"
   ]
  },
  {
   "cell_type": "markdown",
   "metadata": {},
   "source": [
    "# $\\pi$的计算\n",
    "使用了计算机算法设计中的概率算法：蒙特卡罗方法"
   ]
  },
  {
   "cell_type": "markdown",
   "metadata": {},
   "source": [
    "<b><font color=\"red\">蒙特卡罗算法</font>描述：</b> 当所要求解的问题是某种事件出现的概率，或者是某个随机变量的期望值时，可以通过“试验”的方法，得到这种事件出现的概率，用作问题的解。"
   ]
  },
  {
   "cell_type": "markdown",
   "metadata": {},
   "source": [
    "<table>\n",
    "    <tr>\n",
    "        <td><img src=\"figs/fig4-11.jpg\"> </img> </td>\n",
    "        <td><img src=\"figs/fig4-12.jpg\"> </img></td>\n",
    "    </tr>\n",
    "    </table>"
   ]
  },
  {
   "cell_type": "markdown",
   "metadata": {},
   "source": [
    "输入：抛点数<br>\n",
    "处理：计算每个点到圆心的距离，统计在圆内点的数量<br>\n",
    "输出：$\\pi$值"
   ]
  },
  {
   "cell_type": "code",
   "execution_count": null,
   "metadata": {},
   "outputs": [],
   "source": [
    "from random import random\n",
    "from math import sqrt\n",
    "from time import clock\n",
    "DARTS = 1000\n",
    "hits = 0.0\n",
    "clock()\n",
    "for i in range(1, DARTS+1):\n",
    "    x, y = random(), random()\n",
    "    dist = sqrt(x ** 2 + y ** 2)\n",
    "    if dist <= 1.0:\n",
    "        hits = hits + 1\n",
    "pi = 4 * (hits/DARTS)\n",
    "print(\"Pi值是{}.\".format(pi))\n",
    "print(\"运行时间是: {:5.5}s\".format(clock()))"
   ]
  },
  {
   "cell_type": "markdown",
   "metadata": {},
   "source": [
    "<img src=\"figs/tab4-4.jpg\"></img>"
   ]
  },
  {
   "cell_type": "markdown",
   "metadata": {},
   "source": [
    "<font size=4>计算$\\pi$的BBP公式</font>\n",
    "$$\\pi= \\sum_{k=0} ^\\infty \\left[ \\frac{1}{16^k} \\left( \\frac{4} {8k+1}-\\frac{2}{8k+4}-\\frac{1}{8k+5}-\\frac{1}{8k+6} \\right) \\right]$$"
   ]
  },
  {
   "cell_type": "markdown",
   "metadata": {},
   "source": [
    "输入：计算的项数，正整数N<br>\n",
    "处理：累加<br>\n",
    "pi = pi + $ \\frac{1}{16^k} \\left( \\frac{4} {8k+1}-\\frac{2}{8k+4}-\\frac{1}{8k+5}-\\frac{1}{8k+6} \\right)$<br>\n",
    "输出：pi的值"
   ]
  },
  {
   "cell_type": "code",
   "execution_count": null,
   "metadata": {},
   "outputs": [],
   "source": [
    "from time import clock\n",
    "clock()\n",
    "N, pi = 100, 0.0\n",
    "for k in range(N):\n",
    "    pi = pi + ( 4/(8*k + 1) - 2/(8*k + 4) - 1/(8*k + 5) - 1/(8*k + 6))/( 16**k)\n",
    "print(\"Pi值是{}.\".format(pi))\n",
    "print(\"运行时间是: {:5.5}s\".format(clock()))"
   ]
  },
  {
   "cell_type": "markdown",
   "metadata": {},
   "source": [
    "# 程序的异常处理"
   ]
  },
  {
   "cell_type": "markdown",
   "metadata": {},
   "source": [
    "## 异常处理：try-except语句"
   ]
  },
  {
   "cell_type": "code",
   "execution_count": null,
   "metadata": {},
   "outputs": [],
   "source": [
    "num = eval(input(\"请输入一个整数：\"))\n",
    "print(num**2)"
   ]
  },
  {
   "cell_type": "code",
   "execution_count": null,
   "metadata": {},
   "outputs": [],
   "source": [
    "try:\n",
    "    num = eval(input(\"请输入一个整数：\"))\n",
    "    print(num**2)\n",
    "except NameError:\n",
    "    print(\"输入错误，请输入一个整数！\")"
   ]
  },
  {
   "cell_type": "markdown",
   "metadata": {},
   "source": [
    "<table align=\"left\">\n",
    "    <tr>\n",
    "        <td><img src=\"figs/why.jpg\" width=\"100px\" height=\"200px\" /></td>\n",
    "        <td align=\"left\">\n",
    "            <div align=\"left\">修改上面的代码，使得输入错误时继续输入，直到输入正确为止。</div>\n",
    "        </td>\n",
    "    </tr>\n",
    "</table>"
   ]
  },
  {
   "cell_type": "code",
   "execution_count": null,
   "metadata": {},
   "outputs": [],
   "source": [
    " while True:   \n",
    "    try:\n",
    "        num = int(input(\"请输入一个整数：\"))\n",
    "        print(num**2)\n",
    "        break\n",
    "    except:\n",
    "        print(\"输入错误，请输入一个整数！\")"
   ]
  },
  {
   "cell_type": "markdown",
   "metadata": {},
   "source": [
    "<font size=4>异常语法格式：</font><br>\n",
    "try:<br>\n",
    "&emsp;<语句块1><br>\n",
    "except <异常类型>:<br>\n",
    "&emsp;<语句块2>"
   ]
  },
  {
   "cell_type": "markdown",
   "metadata": {},
   "source": [
    "## 异常的高级用法"
   ]
  },
  {
   "cell_type": "markdown",
   "metadata": {},
   "source": [
    "<font size=4>异常语法格式：</font><br>\n",
    "try:<br>\n",
    "&emsp;<语句块1><br>\n",
    "except <异常类型1>:<br>\n",
    "&emsp;<语句块2><br>\n",
    "$\\cdots$<br>\n",
    "except <异常类型N>:<br>\n",
    "&emsp;<语句块N+1><br>\n",
    "except:<br>\n",
    "&emsp;<语句块N+2>"
   ]
  },
  {
   "cell_type": "code",
   "execution_count": null,
   "metadata": {},
   "outputs": [],
   "source": [
    "try:\n",
    "    alp = \"ABCDEFGHIJKLMNOPQRSTUVWXYZ\"\n",
    "    idx = eval(input(\"请输入一个整数：\"))\n",
    "    print(alp[idx])\n",
    "except NameError:\n",
    "    print(\"输入错误，请输入一个整数！\")\n",
    "except:\n",
    "    print(\"其它错误\")"
   ]
  },
  {
   "cell_type": "markdown",
   "metadata": {},
   "source": [
    "try:<br>\n",
    "&emsp;<语句块1><br>\n",
    "except <异常类型1>:<br>\n",
    "&emsp;<语句块2><br>\n",
    "else:<br>\n",
    "&emsp;<语句块3><br>\n",
    "finally:<br>\n",
    "&emsp;<语句块4>"
   ]
  },
  {
   "cell_type": "code",
   "execution_count": null,
   "metadata": {},
   "outputs": [],
   "source": [
    "try:\n",
    "    alp = \"ABCDEFGHIJKLMNOPQRSTUVWXYZ\"\n",
    "    idx = eval(input(\"请输入一个整数：\"))\n",
    "    print(alp[idx])\n",
    "except NameError:\n",
    "    print(\"输入错误，请输入一个整数！\")\n",
    "else:\n",
    "    print(\"没有发生异常\")\n",
    "finally:\n",
    "    print(\"程序执行完毕，不知是否发生了异常\")"
   ]
  },
  {
   "cell_type": "code",
   "execution_count": null,
   "metadata": {},
   "outputs": [],
   "source": []
  }
 ],
 "metadata": {
  "kernelspec": {
   "display_name": "Python 3",
   "language": "python",
   "name": "python3"
  },
  "language_info": {
   "codemirror_mode": {
    "name": "ipython",
    "version": 3
   },
   "file_extension": ".py",
   "mimetype": "text/x-python",
   "name": "python",
   "nbconvert_exporter": "python",
   "pygments_lexer": "ipython3",
   "version": "3.6.5"
  },
  "toc": {
   "base_numbering": 1,
   "nav_menu": {},
   "number_sections": true,
   "sideBar": true,
   "skip_h1_title": false,
   "title_cell": "Table of Contents",
   "title_sidebar": "Contents",
   "toc_cell": false,
   "toc_position": {},
   "toc_section_display": true,
   "toc_window_display": false
  }
 },
 "nbformat": 4,
 "nbformat_minor": 2
}
