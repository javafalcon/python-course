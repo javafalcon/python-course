{
 "cells": [
  {
   "cell_type": "markdown",
   "metadata": {
    "slideshow": {
     "slide_type": "slide"
    }
   },
   "source": [
    "# turtle库的应用"
   ]
  },
  {
   "cell_type": "markdown",
   "metadata": {},
   "source": [
    "## 导入turtle库"
   ]
  },
  {
   "cell_type": "code",
   "execution_count": 1,
   "metadata": {},
   "outputs": [],
   "source": [
    "import turtle"
   ]
  },
  {
   "cell_type": "code",
   "execution_count": null,
   "metadata": {},
   "outputs": [],
   "source": [
    "# 方法一： import turtle\n",
    "# 这种方式导入turtle库，使用的turtle库函数时，要加上库的名字，举例如下：\n",
    "import turtle as t\n",
    "t.setup(650, 350, 200, 200)\n",
    "t.done()"
   ]
  },
  {
   "cell_type": "code",
   "execution_count": null,
   "metadata": {},
   "outputs": [],
   "source": [
    "# 方法二: from turtle import *\n",
    "# 其中*是通配符，表示所有函数。\n",
    "# 也可以指定导入具体的函数，如： from turtle import setup\n",
    "# 这种方式导入库,使用时不再需要库的名字，直接使用函数，如：\n",
    "from turtle import setup\n",
    "from turtle import done\n",
    "#from turtle import setup, done\n",
    "setup(650, 350, 200, 200)\n",
    "done()"
   ]
  },
  {
   "cell_type": "code",
   "execution_count": null,
   "metadata": {},
   "outputs": [],
   "source": [
    "from turtle import *\n",
    "setup(650, 350, 200, 200)\n",
    "done()"
   ]
  },
  {
   "cell_type": "markdown",
   "metadata": {},
   "source": [
    "## 绘图常用函数"
   ]
  },
  {
   "cell_type": "markdown",
   "metadata": {
    "slideshow": {
     "slide_type": "slide"
    }
   },
   "source": [
    "### 绘制窗口\n",
    "setup(width, height, startx, starty)\n",
    " - width – if an integer, a size in pixels, if a float, a fraction of the screen; default is 50% of screen\n",
    " - height – if an integer, the height in pixels, if a float, a fraction of the screen; default is 75% of screen\n",
    " - startx – if positive, starting position in pixels from the left edge of the screen, if negative from the right edge, if None, center          window horizontally\n",
    " - starty – if positive, starting position in pixels from the top edge of the screen, if negative from the bottom edge, if None, center          window vertically"
   ]
  },
  {
   "cell_type": "code",
   "execution_count": 2,
   "metadata": {},
   "outputs": [],
   "source": [
    "import turtle\n",
    "turtle.setup(650, 350, 10, 10)"
   ]
  },
  {
   "cell_type": "markdown",
   "metadata": {},
   "source": [
    "### 设置turtle\n",
    "shape(name=None)\n",
    " >Set turtle shape to shape with given name or, if name is not given, return name of current shape. Shape with name must exist in the TurtleScreen’s shape dictionary. Initially there are the following polygon shapes: “arrow”, “turtle”, “circle”, “square”, “triangle”, “classic”."
   ]
  },
  {
   "cell_type": "code",
   "execution_count": 3,
   "metadata": {},
   "outputs": [],
   "source": [
    "turtle.showturtle()\n",
    "turtle.shape('turtle')"
   ]
  },
  {
   "cell_type": "markdown",
   "metadata": {},
   "source": [
    "### 画笔控制函数\n",
    "- penup()|pu()|up()\n",
    "> Pull the pen up – no drawing when moving.\n",
    "- pendown()|pd()|down()\n",
    "> Pull the pen down – drawing when moving.\n",
    "- pensize(width=None)\n",
    "- width(width=None)\n",
    " > - width – a positive number\n",
    " > - Set the line thickness to width or return it. If resizemode is set to “auto” and turtleshape is a polygon, that polygon is drawn with the same line thickness. If no argument is given, the current pensize is returned.\n",
    "- pencolor()\n",
    "> Return the current pencolor as color specification string or as a tuple (see example). May be used as input to another color/pencolor/fillcolor call.\n",
    "- pencolor(colorstring)\n",
    "> Set pencolor to colorstring, which is a Tk color specification string, such as \"red\", \"yellow\", or \"#33cc8c\".\n",
    "- pencolor((r, g, b))\n",
    "> Set pencolor to the RGB color represented by the tuple of r, g, and b. Each of r, g, and b must be in the range 0..colormode, where colormode is either 1.0 or 255 (see colormode()).\n",
    "- pencolor(r, g, b)\n",
    "> Set pencolor to the RGB color represented by r, g, and b. Each of r, g, and b must be in the range 0..colormode."
   ]
  },
  {
   "cell_type": "code",
   "execution_count": 4,
   "metadata": {},
   "outputs": [],
   "source": [
    "turtle.penup()\n",
    "turtle.pensize(25)\n",
    "turtle.pencolor(\"purple\")"
   ]
  },
  {
   "cell_type": "markdown",
   "metadata": {},
   "source": [
    "### 形状绘制函数-1\n",
    "1. forward(distance)|fd(distance)\n",
    " -\tdistance – a number (integer or float)\n",
    " * Move the turtle forward by the specified distance, in the direction the turtle is headed.\n",
    "2. setheading(to_angle)|seth(to_angle)\n",
    " * Parameters:\tto_angle – a number (integer or float)\n",
    " * Set the orientation of the turtle to to_angle. Here are some common directions in degrees:\n",
    "\n",
    "|standard mode|\tlogo mode|\n",
    "|--|--|\n",
    "|0 - east|\t0 - north|\n",
    "|90 - north|\t90 - east|\n",
    "|180 - west|\t180 - south|\n",
    "|270 - south|\t270 - west|"
   ]
  },
  {
   "cell_type": "code",
   "execution_count": 5,
   "metadata": {},
   "outputs": [],
   "source": [
    "turtle.fd(-250)\n",
    "turtle.down()\n",
    "turtle.seth(-40)"
   ]
  },
  {
   "cell_type": "markdown",
   "metadata": {},
   "source": [
    "### 形状绘制函数-2\n",
    "3. circle(radius, extent=None, steps=None)\n",
    " * Parameters:\t\n",
    " > radius – a number <br>\n",
    "  extent – a number (or None) <br>\n",
    "  steps – an integer (or None)\n",
    " - Draw a circle with given radius. The center is radius units left of the turtle; extent – an angle – determines which part of the circle is drawn. If extent is not given, draw the entire circle. If extent is not a full circle, one endpoint of the arc is the current pen position. Draw the arc in counterclockwise direction if radius is positive, otherwise in clockwise direction. Finally the direction of the turtle is changed by the amount of extent.\n",
    " - As the circle is approximated by an inscribed regular polygon, steps determines the number of steps to use. If not given, it will be calculated automatically. May be used to draw regular polygons."
   ]
  },
  {
   "cell_type": "code",
   "execution_count": 6,
   "metadata": {},
   "outputs": [],
   "source": [
    "turtle.home()\n",
    "turtle.pensize(5)\n",
    "turtle.circle(140, 60)\n",
    "\n",
    "#turtle.circle(16, 180)"
   ]
  },
  {
   "cell_type": "code",
   "execution_count": 7,
   "metadata": {},
   "outputs": [],
   "source": [
    "turtle.penup()\n",
    "turtle.home()\n",
    "turtle.down()\n",
    "turtle.circle(-140,60)"
   ]
  },
  {
   "cell_type": "markdown",
   "metadata": {},
   "source": [
    "### 结束\n",
    "* done()\n",
    "> Starts event loop - calling Tkinter’s mainloop function. Must be the last statement in a turtle graphics program. Must not be used if a script is run from within IDLE in -n mode (No subprocess) - for interactive use of turtle graphics."
   ]
  },
  {
   "cell_type": "code",
   "execution_count": 8,
   "metadata": {},
   "outputs": [],
   "source": [
    "turtle.done()"
   ]
  },
  {
   "cell_type": "markdown",
   "metadata": {},
   "source": [
    "### 形状填充\n",
    "1. begin_fill()\n",
    "> To be called just before drawing a shape to be filled.\n",
    "\n",
    "2. end_fill()\n",
    "> Fill the shape drawn after the last call to begin_fill()."
   ]
  },
  {
   "cell_type": "code",
   "execution_count": 1,
   "metadata": {},
   "outputs": [],
   "source": [
    "import turtle\n",
    "turtle.setup(400,400,10,10)\n",
    "turtle.color(\"black\", \"red\")\n",
    "turtle.begin_fill()\n",
    "turtle.circle(80)\n",
    "turtle.end_fill()\n",
    "turtle.done()"
   ]
  },
  {
   "cell_type": "markdown",
   "metadata": {},
   "source": [
    "## 实例1： 画向日葵"
   ]
  },
  {
   "cell_type": "code",
   "execution_count": 1,
   "metadata": {},
   "outputs": [],
   "source": [
    "from turtle import *\n",
    "setup(440,440,10,10)\n",
    "penup()\n",
    "bk(100)\n",
    "down()\n",
    "color('red', 'yellow')\n",
    "begin_fill()\n",
    "while True:\n",
    "    forward(200)\n",
    "    left(170)\n",
    "    if distance(-100,0) < 0.001:\n",
    "        break\n",
    "end_fill()\n",
    "done()"
   ]
  },
  {
   "cell_type": "markdown",
   "metadata": {},
   "source": [
    "## 实例2：画鱼"
   ]
  },
  {
   "cell_type": "code",
   "execution_count": 1,
   "metadata": {},
   "outputs": [],
   "source": [
    "import turtle as t\n",
    "t.setup(600,500,10,10)\n",
    "\n",
    "t.fillcolor(\"yellow\")\n",
    "t.begin_fill()\n",
    "\n",
    "#画鱼身\n",
    "t.goto(200,200)\n",
    "t.goto(200,-200)\n",
    "t.home()\n",
    "\n",
    "t.up()\n",
    "t.goto(200,0)\n",
    "t.down()\n",
    "\n",
    "#画鱼尾\n",
    "t.goto(250,50)\n",
    "t.goto(250,-50)\n",
    "t.goto(200,0)\n",
    "\n",
    "t.up()\n",
    "t.goto(50,-10)\n",
    "t.down()\n",
    "\n",
    "#\n",
    "t.circle(10)\n",
    "t.end_fill()\n",
    "t.done()"
   ]
  },
  {
   "cell_type": "markdown",
   "metadata": {},
   "source": [
    "## 实例3：画机器猫"
   ]
  },
  {
   "cell_type": "code",
   "execution_count": 1,
   "metadata": {
    "slideshow": {
     "slide_type": "slide"
    }
   },
   "outputs": [],
   "source": [
    "import turtle as t\n",
    "\n",
    "# 设置画笔到屏幕中间\n",
    "t.setup(600,800,10,10)\n",
    "t.up()\n",
    "t.goto(0,-100)\n",
    "t.down()\n",
    "\n",
    "t.pensize(5)\n",
    "\n",
    "#blue&white face\n",
    "t.color(\"black\",\"blue\")\n",
    "t.begin_fill()\n",
    "t.circle(200)\n",
    "t.end_fill()\n",
    "t.color(\"black\",\"white\")\n",
    "t.begin_fill()\n",
    "t.circle(160)\n",
    "t.end_fill()\n",
    "\n",
    "#鼻子\n",
    "t.up()\n",
    "t.goto(0,100)\n",
    "t.color(\"black\",\"red\")\n",
    "t.down()\n",
    "t.begin_fill()\n",
    "t.circle(20)\n",
    "t.end_fill()\n",
    "\n",
    "#左眼\n",
    "t.up()\n",
    "t.goto(-45,150)\n",
    "t.down()\n",
    "t.circle(45)\n",
    "t.goto(-20,150)#左眼珠\n",
    "t.color(\"black\",\"black\")\n",
    "t.begin_fill()\n",
    "t.circle(15)\n",
    "t.end_fill()\n",
    "\n",
    "#右眼\n",
    "t.up()\n",
    "t.goto(45,150)\n",
    "t.down()\n",
    "t.circle(45)\n",
    "t.goto(20,150)\n",
    "t.color(\"black\",\"black\")\n",
    "t.begin_fill()\n",
    "t.circle(15)\n",
    "t.end_fill()\n",
    "\n",
    "#smile\n",
    "t.up()\n",
    "t.goto(0,-60)\n",
    "t.down()\n",
    "t.circle(150,75)\n",
    "\n",
    "t.up()\n",
    "t.goto(0,-60)\n",
    "t.down()\n",
    "t.seth(180)\n",
    "t.circle(-150,75)\n",
    "\n",
    "t.up()\n",
    "t.goto(0,-60)\n",
    "t.down()\n",
    "t.seth(90)\n",
    "t.forward(150)\n",
    "\n",
    "t.done()"
   ]
  },
  {
   "cell_type": "markdown",
   "metadata": {},
   "source": [
    "## 实例4：画一朵玫瑰花"
   ]
  },
  {
   "cell_type": "code",
   "execution_count": null,
   "metadata": {},
   "outputs": [],
   "source": [
    "import turtle\n",
    "turtle.speed('slow') \n",
    "# 设置初始位置\n",
    "turtle.setup(600,800,10,10)\n",
    "turtle.penup()\n",
    "turtle.left(90)\n",
    "turtle.fd(200)\n",
    "turtle.pendown()\n",
    "turtle.right(90)\n",
    " \n",
    "# 花蕊\n",
    "turtle.fillcolor(\"red\")\n",
    "turtle.begin_fill()\n",
    "turtle.circle(10,180)\n",
    "turtle.circle(25,110)\n",
    "turtle.left(50)\n",
    "turtle.circle(60,45)\n",
    "turtle.circle(20,170)\n",
    "turtle.right(24)\n",
    "turtle.fd(30)\n",
    "turtle.left(10)\n",
    "turtle.circle(30,110)\n",
    "turtle.fd(20)\n",
    "turtle.left(40)\n",
    "turtle.circle(90,70)\n",
    "turtle.circle(30,150)\n",
    "turtle.right(30)\n",
    "turtle.fd(15)\n",
    "turtle.circle(80,90)\n",
    "turtle.left(15)\n",
    "turtle.fd(45)\n",
    "turtle.right(165)\n",
    "turtle.fd(20)\n",
    "turtle.left(155)\n",
    "turtle.circle(150,80)\n",
    "turtle.left(50)\n",
    "turtle.circle(150,90)\n",
    "turtle.end_fill()\n",
    " \n",
    "# 花瓣1\n",
    "turtle.left(150)\n",
    "turtle.circle(-90,70)\n",
    "turtle.left(20)\n",
    "turtle.circle(75,105)\n",
    "turtle.setheading(60)\n",
    "turtle.circle(80,98)\n",
    "turtle.circle(-90,40)\n",
    " \n",
    "# 花瓣2\n",
    "turtle.left(180)\n",
    "turtle.circle(90,40)\n",
    "turtle.circle(-80,98)\n",
    "turtle.setheading(-83)\n",
    " \n",
    "# 叶子1\n",
    "turtle.fd(30)\n",
    "turtle.left(90)\n",
    "turtle.fd(25)\n",
    "turtle.left(45)\n",
    "turtle.fillcolor(\"green\")\n",
    "turtle.begin_fill()\n",
    "turtle.circle(-80,90)\n",
    "turtle.right(90)\n",
    "turtle.circle(-80,90)\n",
    "turtle.end_fill()\n",
    " \n",
    "turtle.right(135)\n",
    "turtle.fd(60)\n",
    "turtle.left(180)\n",
    "turtle.fd(85)\n",
    "turtle.left(90)\n",
    "turtle.fd(80)\n",
    " \n",
    "# 叶子2\n",
    "turtle.right(90)\n",
    "turtle.right(45)\n",
    "turtle.fillcolor(\"green\")\n",
    "turtle.begin_fill()\n",
    "turtle.circle(80,90)\n",
    "turtle.left(90)\n",
    "turtle.circle(80,90)\n",
    "turtle.end_fill()\n",
    " \n",
    "turtle.left(135)\n",
    "turtle.fd(60)\n",
    "turtle.left(180)\n",
    "turtle.fd(60)\n",
    "turtle.right(90)\n",
    "turtle.circle(200,60)\n",
    "\n",
    "turtle.done()"
   ]
  },
  {
   "cell_type": "code",
   "execution_count": null,
   "metadata": {},
   "outputs": [],
   "source": []
  }
 ],
 "metadata": {
  "kernelspec": {
   "display_name": "Python 3",
   "language": "python",
   "name": "python3"
  },
  "language_info": {
   "codemirror_mode": {
    "name": "ipython",
    "version": 3
   },
   "file_extension": ".py",
   "mimetype": "text/x-python",
   "name": "python",
   "nbconvert_exporter": "python",
   "pygments_lexer": "ipython3",
   "version": "3.6.5"
  },
  "toc": {
   "base_numbering": 1,
   "nav_menu": {},
   "number_sections": true,
   "sideBar": true,
   "skip_h1_title": false,
   "title_cell": "Table of Contents",
   "title_sidebar": "Contents",
   "toc_cell": false,
   "toc_position": {},
   "toc_section_display": true,
   "toc_window_display": false
  }
 },
 "nbformat": 4,
 "nbformat_minor": 2
}
