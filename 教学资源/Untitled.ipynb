{
 "cells": [
  {
   "cell_type": "code",
   "execution_count": 8,
   "metadata": {},
   "outputs": [
    {
     "name": "stdout",
     "output_type": "stream",
     "text": [
      "************len:#1,234.88#\n"
     ]
    }
   ],
   "source": [
    "print(\"{0:*>15.3s}:{1:#^10,.2f}\".format(\"length\", 1234.875))"
   ]
  },
  {
   "cell_type": "code",
   "execution_count": 12,
   "metadata": {},
   "outputs": [
    {
     "name": "stdout",
     "output_type": "stream",
     "text": [
      "110000101,605,389,185,ƅ\n"
     ]
    }
   ],
   "source": [
    "print(\"{0:b},{0:o},{0:d},{0:X},{0:c}\".format(389))"
   ]
  },
  {
   "cell_type": "code",
   "execution_count": 15,
   "metadata": {},
   "outputs": [
    {
     "name": "stdout",
     "output_type": "stream",
     "text": [
      "2.18e-03,0.0022,0.218%\n"
     ]
    }
   ],
   "source": [
    "print(\"{0:.2e},{0:.4f},{0:.3%}\".format(0.002178))"
   ]
  },
  {
   "cell_type": "code",
   "execution_count": 25,
   "metadata": {},
   "outputs": [
    {
     "name": "stdout",
     "output_type": "stream",
     "text": [
      "------执行开始------\n",
      "100%[********************************************************************************************************************************************************************************************************->]------执行结束------\n"
     ]
    }
   ],
   "source": [
    "#e4.1TextProgress Bar.py\n",
    "import time\n",
    "scale = 100\n",
    "print(\"------执行开始------\")\n",
    "for i in range(scale+1):\n",
    "    a, b = '**' * i,'..' * (scale - i)\n",
    "    c = (i/scale)*100\n",
    "    print(\"\\r{:>3.0f}%[{}->{}]\" .format (c, a, b), end=\"\")\n",
    "    time.sleep(0.1)\n",
    "print(\"------执行结束------\")"
   ]
  },
  {
   "cell_type": "code",
   "execution_count": null,
   "metadata": {},
   "outputs": [],
   "source": []
  }
 ],
 "metadata": {
  "kernelspec": {
   "display_name": "Python 3",
   "language": "python",
   "name": "python3"
  },
  "language_info": {
   "codemirror_mode": {
    "name": "ipython",
    "version": 3
   },
   "file_extension": ".py",
   "mimetype": "text/x-python",
   "name": "python",
   "nbconvert_exporter": "python",
   "pygments_lexer": "ipython3",
   "version": "3.7.0"
  },
  "toc": {
   "base_numbering": 1,
   "nav_menu": {},
   "number_sections": true,
   "sideBar": true,
   "skip_h1_title": false,
   "title_cell": "Table of Contents",
   "title_sidebar": "Contents",
   "toc_cell": false,
   "toc_position": {},
   "toc_section_display": true,
   "toc_window_display": false
  }
 },
 "nbformat": 4,
 "nbformat_minor": 2
}
